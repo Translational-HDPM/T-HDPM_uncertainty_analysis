{
 "cells": [
  {
   "cell_type": "markdown",
   "id": "1d8cb421-13e0-406c-9893-8f08d9937fdf",
   "metadata": {
    "editable": true,
    "slideshow": {
     "slide_type": ""
    },
    "tags": []
   },
   "source": [
    "## Are fitted distributions concordant across pathologies?\n",
    "### Author: Deb Debnath"
   ]
  },
  {
   "cell_type": "markdown",
   "id": "25d33ced-45cd-4278-a54e-cfcda769b917",
   "metadata": {},
   "source": [
    "#### Data loading"
   ]
  },
  {
   "cell_type": "code",
   "execution_count": 1,
   "id": "9bca9912-4d23-4634-b4e8-73820747ad5f",
   "metadata": {},
   "outputs": [],
   "source": [
    "import warnings\n",
    "import ipywidgets as widgets\n",
    "from typing import Optional, Sequence"
   ]
  },
  {
   "cell_type": "code",
   "execution_count": 2,
   "id": "692c711a-190f-4946-8a01-def4bea7b850",
   "metadata": {},
   "outputs": [],
   "source": [
    "import sys\n",
    "from pathlib import Path\n",
    "sys.path.insert(0, str(Path.cwd().parent.resolve()))"
   ]
  },
  {
   "cell_type": "code",
   "execution_count": 3,
   "id": "092305fb-74a9-4e2f-b12b-e5be4f778bf8",
   "metadata": {},
   "outputs": [],
   "source": [
    "import pandas as pd\n",
    "import numpy as np\n",
    "import matplotlib.pyplot as plt\n",
    "import scipy.stats as st\n",
    "from src.classifier import z_score\n",
    "from src.dist_fitting import (\n",
    "        test_gamma_fit, \n",
    "        test_lognormal_fit_ks, \n",
    "        test_negative_binomial_fit\n",
    ")\n",
    "from src.random_sample import (\n",
    "    sample_negative_binomial_mean_rsd,\n",
    "    sample_gamma_mean_rsd,\n",
    "    sample_lognormal_mean_rsd\n",
    ")"
   ]
  },
  {
   "cell_type": "code",
   "execution_count": 4,
   "id": "d2308da7-162d-4a14-b943-230a161ef09f",
   "metadata": {},
   "outputs": [],
   "source": [
    "raw_data = pd.read_excel(\n",
    "    \"../../raw_data/ClusterMarkers_1819ADcohort.congregated_DR.xlsx\", sheet_name=1\n",
    ")\n",
    "pathos = pd.read_excel(\n",
    "    \"../../raw_data/ClusterMarkers_1819ADcohort.congregated_DR.xlsx\", sheet_name=0\n",
    ")"
   ]
  },
  {
   "cell_type": "code",
   "execution_count": 5,
   "id": "f543b34c-d108-412e-be8f-0c24cbac3b32",
   "metadata": {},
   "outputs": [],
   "source": [
    "pathos = pathos.set_index(\"Isolate ID\")\n",
    "raw_data = raw_data.set_index(\"gene_id\")"
   ]
  },
  {
   "cell_type": "markdown",
   "id": "c4a8e56d-182c-4719-9f41-340f58ef931e",
   "metadata": {},
   "source": [
    "#### Setting parameters"
   ]
  },
  {
   "cell_type": "code",
   "execution_count": 6,
   "id": "63f33912-0006-447c-a841-e707babd7052",
   "metadata": {},
   "outputs": [],
   "source": [
    "mean_TPM = 0"
   ]
  },
  {
   "cell_type": "code",
   "execution_count": 7,
   "id": "66fb745a-e257-4464-a23c-bfd8598b4a11",
   "metadata": {},
   "outputs": [],
   "source": [
    "num_patients = 243\n",
    "n_samples = 1000\n",
    "uncertainties = [10, 25, 50]"
   ]
  },
  {
   "cell_type": "code",
   "execution_count": 8,
   "id": "e8b68020-4c25-4f1e-acb6-05ef94e9ccb2",
   "metadata": {},
   "outputs": [],
   "source": [
    "seed = 321"
   ]
  },
  {
   "cell_type": "code",
   "execution_count": 9,
   "id": "243898be-7e2d-47a7-9fce-7f582cce50c6",
   "metadata": {},
   "outputs": [],
   "source": [
    "np.random.seed(seed)"
   ]
  },
  {
   "cell_type": "markdown",
   "id": "ec871e7a-308d-45d8-953e-8d45357a05df",
   "metadata": {},
   "source": [
    "#### Data preprocessing"
   ]
  },
  {
   "cell_type": "code",
   "execution_count": 10,
   "id": "9462d2bd-12da-46e0-bb91-b306cdb6e514",
   "metadata": {},
   "outputs": [],
   "source": [
    "pathos = pathos.dropna()\n",
    "pathos = pathos.loc[pathos.index.dropna(), :]\n",
    "pathos.index = pathos.index.astype(int).astype(str)"
   ]
  },
  {
   "cell_type": "code",
   "execution_count": 11,
   "id": "21a52021-94ba-46a4-836f-c3ed13c28a14",
   "metadata": {},
   "outputs": [],
   "source": [
    "patients_df = raw_data[~raw_data.loc[:, \"Coeff\"].isnull()]\n",
    "coefficients = np.nan_to_num(np.array(patients_df.loc[:, \"Coeff\"]))\n",
    "patients_df = patients_df.filter(regex=r\"^\\d+\")\n",
    "genes = patients_df.index.values"
   ]
  },
  {
   "cell_type": "code",
   "execution_count": 12,
   "id": "ea383aca-8129-4a09-a559-47457a01151c",
   "metadata": {},
   "outputs": [
    {
     "name": "stderr",
     "output_type": "stream",
     "text": [
      "/tmp/ipykernel_755421/2035580270.py:2: FutureWarning: DataFrame.groupby with axis=1 is deprecated. Do `frame.T.groupby(...)` without axis instead.\n",
      "  grouped = patients_df.groupby(grouped_cols, axis=1)\n"
     ]
    }
   ],
   "source": [
    "grouped_cols = patients_df.columns.str.split(\"-\").str[0]\n",
    "grouped = patients_df.groupby(grouped_cols, axis=1)\n",
    "patients_df = grouped.apply(lambda x: x.mean(axis=1)).reset_index(drop=True)\n",
    "patients_df.index = genes"
   ]
  },
  {
   "cell_type": "code",
   "execution_count": 13,
   "id": "b12532a5-41f3-4391-b420-3336b465a6de",
   "metadata": {
    "scrolled": true
   },
   "outputs": [
    {
     "name": "stdout",
     "output_type": "stream",
     "text": [
      "17906\n"
     ]
    }
   ],
   "source": [
    "for col in patients_df.columns:\n",
    "    if col not in pathos.index:\n",
    "        print(col)"
   ]
  },
  {
   "cell_type": "code",
   "execution_count": 14,
   "id": "d75ec360-d74a-445f-9a71-5129b43a692c",
   "metadata": {},
   "outputs": [],
   "source": [
    "for col in pathos.index:\n",
    "    if col not in patients_df.columns:\n",
    "        pathos = pathos.drop(col)"
   ]
  },
  {
   "cell_type": "code",
   "execution_count": 15,
   "id": "ed5ac5dc-75f1-4a4b-9fac-829e168ec46f",
   "metadata": {},
   "outputs": [],
   "source": [
    "# Assuming NCI for 17906 (missing from pathos data)\n",
    "pathos.loc[\"17906\"] = \"NCI\""
   ]
  },
  {
   "cell_type": "code",
   "execution_count": 16,
   "id": "0ae7ec01-a161-4477-bb6f-5eb049642313",
   "metadata": {
    "scrolled": true
   },
   "outputs": [],
   "source": [
    "patients_df = patients_df.loc[:, pathos.index]"
   ]
  },
  {
   "cell_type": "markdown",
   "id": "710ee07e-e430-4b65-a834-44ef0a7f03e6",
   "metadata": {},
   "source": [
    "#### Conversion to Z-scores and dropping genes below TPM threshold"
   ]
  },
  {
   "cell_type": "code",
   "execution_count": 17,
   "id": "d9bb4832-f971-4e35-8034-7cf37b227efc",
   "metadata": {},
   "outputs": [],
   "source": [
    "means = patients_df.mean(axis=1)\n",
    "stds = patients_df.std(axis=1)"
   ]
  },
  {
   "cell_type": "code",
   "execution_count": 18,
   "id": "22ca2d03-fde1-48cd-b102-16153ffb3da5",
   "metadata": {},
   "outputs": [],
   "source": [
    "z_scores_df = patients_df.apply(lambda x: z_score(x, means, stds))"
   ]
  },
  {
   "cell_type": "code",
   "execution_count": 19,
   "id": "250b0b6b-880e-481f-971f-ea76ea3061eb",
   "metadata": {},
   "outputs": [],
   "source": [
    "z_scores_df = z_scores_df[means >= mean_TPM]\n",
    "coefficients = coefficients[means >= mean_TPM]\n",
    "patients_df = patients_df[means >= mean_TPM]"
   ]
  },
  {
   "cell_type": "markdown",
   "id": "2012af6f-d739-4ea8-adb9-d77d18c0ebeb",
   "metadata": {},
   "source": [
    "A **differentially classified subject** is a subject (patient) that has one or more simulated scores that produced a different classification into AD/NCI than the actual score."
   ]
  },
  {
   "cell_type": "markdown",
   "id": "4d3f1644-ac19-43cf-9214-2ff475ea58c8",
   "metadata": {},
   "source": [
    "## Goodness of fit criteria"
   ]
  },
  {
   "cell_type": "markdown",
   "id": "a8876412-2a70-4858-a091-6a612da16657",
   "metadata": {},
   "source": [
    "### 1. Kolmogorov–Smirnov (KS) Test"
   ]
  },
  {
   "cell_type": "markdown",
   "id": "667cd2ee-00d2-4a35-b6f7-50743a6eab84",
   "metadata": {},
   "source": [
    "The KS test measures the maximum distance between the empirical CDF of the data and the CDF of the fitted model. A high p-value suggests that the model is a good fit (i.e. there is no significant difference)."
   ]
  },
  {
   "cell_type": "markdown",
   "id": "31b3a451-9dc1-4915-a83c-e81a26e5b3a7",
   "metadata": {},
   "source": [
    "### 2. Anderson–Darling (AD) Test"
   ]
  },
  {
   "cell_type": "markdown",
   "id": "68ca0fde-496a-48a2-a78f-63403953952a",
   "metadata": {},
   "source": [
    "The AD test is similar in spirit to the KS test but gives extra weight to the tails of the distribution. "
   ]
  },
  {
   "cell_type": "markdown",
   "id": "34cf0031-3135-4e44-972b-0d1dafa9b3af",
   "metadata": {},
   "source": [
    "### 3. Akaike Information Criterion (AIC)"
   ]
  },
  {
   "cell_type": "markdown",
   "id": "e61e5cb2-5270-4010-8984-f609c8a9efea",
   "metadata": {},
   "source": [
    "### Prep"
   ]
  },
  {
   "cell_type": "code",
   "execution_count": 20,
   "id": "1afc18eb-a753-4401-a2f0-a988b2d7f85a",
   "metadata": {},
   "outputs": [],
   "source": [
    "nci_filt = (pathos == \"NCI\")"
   ]
  },
  {
   "cell_type": "code",
   "execution_count": 21,
   "id": "643c98d8-0c47-40da-81a2-5244dd0cdefb",
   "metadata": {},
   "outputs": [],
   "source": [
    "nci_subset = patients_df.loc[:, pathos[nci_filt.values].index]\n",
    "ad_subset = patients_df.loc[:, pathos[~nci_filt.values].index]"
   ]
  },
  {
   "cell_type": "markdown",
   "id": "33ae5276-5ce3-435c-97d9-cd9e28410d24",
   "metadata": {},
   "source": [
    "### Checking for concordance by considering only Negative binomial, lognormal and gamma distributions"
   ]
  },
  {
   "cell_type": "markdown",
   "id": "5c9ec83d-1069-4adc-8ad6-2ba728278c22",
   "metadata": {},
   "source": [
    "For comparing between the three, distribution-specific goodness of fit metrics are used - \n",
    "- p-value for the KS test for negative binomial and gamma distributions\n",
    "- p-value for the KS test for the lognormal distribution.\n",
    "\n",
    "**NB**: The Shapiro-Wilk test can also be used for a test for the lognormal distribution, however the test is stricter than the KS test for normality."
   ]
  },
  {
   "cell_type": "markdown",
   "id": "77efd1dd-32c8-4d49-ae68-bfcd31765383",
   "metadata": {},
   "source": [
    "#### Overall"
   ]
  },
  {
   "cell_type": "code",
   "execution_count": 22,
   "id": "a1b31405-faf8-4cee-9beb-2025fac4e101",
   "metadata": {},
   "outputs": [],
   "source": [
    "def _find_best_dist(lognormal_ks_p_val: Optional[float], gamma_ks_p_val: Optional[float], nb_ks_p_val: Optional[float]) -> Optional[str]:\n",
    "    p_val_cutoff = 0.1\n",
    "    subset = pd.Series(index=[\"lognormal\", \"negative binomial\", \"gamma\"], data=[lognormal_ks_p_val, gamma_ks_p_val, nb_ks_p_val])\n",
    "    subset = subset.dropna()\n",
    "    if len(subset) == 0:\n",
    "        return None\n",
    "    subset = subset[subset >= p_val_cutoff]\n",
    "    if len(subset) == 0:\n",
    "        return None\n",
    "    filt = (subset == subset.max())\n",
    "    return subset[filt].index[0].upper()\n",
    "\n",
    "\n",
    "def find_best_fit_dist(*, \n",
    "                       lognormal_ks_p_vals: pd.Series, \n",
    "                       gamma_ks_p_vals: pd.Series,\n",
    "                       nb_ks_p_vals: pd.Series,\n",
    "                       means: pd.Series, \n",
    "                       stds: pd.Series) -> pd.DataFrame:\n",
    "    res = pd.DataFrame(index=lognormal_ks_p_vals.index, columns=[\"vmr\", \"best_fit\", \"gamma_ks_p_val\", \"lognormal_sw_p_val\", \"nb_ks_p_val\"])\n",
    "    for gene in res.index:\n",
    "        res.loc[gene, \"vmr\"] = stds[gene]**2.0 / means[gene]\n",
    "        res.loc[gene, \"best_fit\"] = _find_best_dist(lognormal_ks_p_vals[gene], gamma_ks_p_vals[gene], nb_ks_p_vals[gene])\n",
    "        res.loc[gene, [\"lognormal_ks_p_val\", \"gamma_ks_p_val\", \"nb_ks_p_val\"]] = lognormal_ks_p_vals[gene], gamma_ks_p_vals[gene], nb_ks_p_vals[gene]\n",
    "    return res"
   ]
  },
  {
   "cell_type": "code",
   "execution_count": 23,
   "id": "d4bbad80-38a7-48bf-bbdc-7087308938c0",
   "metadata": {},
   "outputs": [],
   "source": [
    "warnings.filterwarnings(\"ignore\")\n",
    "dist_fitting_results = find_best_fit_dist(lognormal_ks_p_vals=patients_df.apply(lambda row: test_lognormal_fit_ks(row)[1], axis=1),\n",
    "                                          gamma_ks_p_vals=patients_df.apply(lambda row: test_gamma_fit(row)[1], axis=1),\n",
    "                                          nb_ks_p_vals=patients_df.apply(lambda row: test_negative_binomial_fit(row)[1], axis=1), \n",
    "                                          means=means, stds=stds)"
   ]
  },
  {
   "cell_type": "code",
   "execution_count": 24,
   "id": "7b2eb0a3-7673-46eb-84c5-0c6105c9da94",
   "metadata": {
    "scrolled": true
   },
   "outputs": [
    {
     "data": {
      "text/plain": [
       "Text(0.5, 1.0, 'Best fit distributions according to p-values')"
      ]
     },
     "execution_count": 24,
     "metadata": {},
     "output_type": "execute_result"
    },
    {
     "data": {
      "image/png": "[encoded data removed]",
      "text/plain": [
       "<Figure size 640x480 with 1 Axes>"
      ]
     },
     "metadata": {},
     "output_type": "display_data"
    }
   ],
   "source": [
    "vc = dist_fitting_results[\"best_fit\"].value_counts()\n",
    "vc.plot.bar()\n",
    "plt.ylabel(\"Number of genes\")\n",
    "plt.title(\"Best fit distributions according to p-values\")"
   ]
  },
  {
   "cell_type": "markdown",
   "id": "377f60cc-d512-4998-ade4-fae9631c0c21",
   "metadata": {},
   "source": [
    "#### AD and NCI"
   ]
  },
  {
   "cell_type": "code",
   "execution_count": 25,
   "id": "7b62505c-d247-44d6-b1dc-2cd6c0107e09",
   "metadata": {},
   "outputs": [],
   "source": [
    "dist_fitting_results_ad = find_best_fit_dist(lognormal_ks_p_vals=ad_subset.apply(lambda row: test_lognormal_fit_ks(row)[1], axis=1),\n",
    "                                            gamma_ks_p_vals=ad_subset.apply(lambda row: test_gamma_fit(row)[1], axis=1),\n",
    "                                            nb_ks_p_vals=ad_subset.apply(lambda row: test_negative_binomial_fit(row)[1], axis=1), \n",
    "                                            means=means, stds=stds)"
   ]
  },
  {
   "cell_type": "code",
   "execution_count": 26,
   "id": "267f8143-c2a2-4531-9b30-dd165144f41c",
   "metadata": {},
   "outputs": [],
   "source": [
    "dist_fitting_results_nci = find_best_fit_dist(lognormal_ks_p_vals=nci_subset.apply(lambda row: test_lognormal_fit_ks(row)[1], axis=1),\n",
    "                                            gamma_ks_p_vals=nci_subset.apply(lambda row: test_gamma_fit(row)[1], axis=1),\n",
    "                                            nb_ks_p_vals=nci_subset.apply(lambda row: test_negative_binomial_fit(row)[1], axis=1), \n",
    "                                            means=means, stds=stds)"
   ]
  },
  {
   "cell_type": "code",
   "execution_count": 27,
   "id": "8fb12adc-dc42-4272-8632-43b7ea84735c",
   "metadata": {},
   "outputs": [],
   "source": [
    "vc = dist_fitting_results[\"best_fit\"].value_counts()\n",
    "vc_ad = dist_fitting_results_ad[\"best_fit\"].value_counts()\n",
    "vc_nci = dist_fitting_results_nci[\"best_fit\"].value_counts()"
   ]
  },
  {
   "cell_type": "code",
   "execution_count": 28,
   "id": "1877adf1-5ddf-48b1-9e80-438889fe1803",
   "metadata": {},
   "outputs": [],
   "source": [
    "vc_ad = vc_ad[vc.index]\n",
    "vc_nci = vc_nci[vc.index]"
   ]
  },
  {
   "cell_type": "code",
   "execution_count": 29,
   "id": "df0869ff-0e97-458f-99e3-bdacb423a5b2",
   "metadata": {},
   "outputs": [],
   "source": [
    "width = 0.3"
   ]
  },
  {
   "cell_type": "code",
   "execution_count": 30,
   "id": "7aabfd0d-46f1-49f1-82f4-560d8d66a2b3",
   "metadata": {},
   "outputs": [
    {
     "data": {
      "image/png": "[encoded data removed]",
      "text/plain": [
       "<Figure size 640x480 with 1 Axes>"
      ]
     },
     "metadata": {},
     "output_type": "display_data"
    }
   ],
   "source": [
    "plt.bar(np.arange(3), vc, width, label=\"Overall\")\n",
    "plt.bar(np.arange(3)+width, vc_ad, width, label=\"AD\")\n",
    "plt.bar(np.arange(3)+2*width, vc_nci, width, label=\"NCI\")\n",
    "plt.xticks(np.arange(3)+1.5*width, vc.index)\n",
    "plt.ylabel(\"Number of genes\")\n",
    "plt.legend()\n",
    "plt.title(\"Best fit distributions according to p-values\")\n",
    "plt.savefig(\"p_value_best_fit.png\")"
   ]
  },
  {
   "cell_type": "code",
   "execution_count": 31,
   "id": "cc075b10-4ab7-4797-98bd-b03ad79e0ec8",
   "metadata": {},
   "outputs": [
    {
     "data": {
      "text/html": [
       "<div>\n",
       "<style scoped>\n",
       "    .dataframe tbody tr th:only-of-type {\n",
       "        vertical-align: middle;\n",
       "    }\n",
       "\n",
       "    .dataframe tbody tr th {\n",
       "        vertical-align: top;\n",
       "    }\n",
       "\n",
       "    .dataframe thead th {\n",
       "        text-align: right;\n",
       "    }\n",
       "</style>\n",
       "<table border=\"1\" class=\"dataframe\">\n",
       "  <thead>\n",
       "    <tr style=\"text-align: right;\">\n",
       "      <th></th>\n",
       "      <th>Number of concordant genes</th>\n",
       "      <th>Number of discordant genes</th>\n",
       "    </tr>\n",
       "  </thead>\n",
       "  <tbody>\n",
       "    <tr>\n",
       "      <th>NEGATIVE BINOMIAL</th>\n",
       "      <td>391</td>\n",
       "      <td>336</td>\n",
       "    </tr>\n",
       "    <tr>\n",
       "      <th>GAMMA</th>\n",
       "      <td>7</td>\n",
       "      <td>83</td>\n",
       "    </tr>\n",
       "    <tr>\n",
       "      <th>LOGNORMAL</th>\n",
       "      <td>188</td>\n",
       "      <td>343</td>\n",
       "    </tr>\n",
       "  </tbody>\n",
       "</table>\n",
       "</div>"
      ],
      "text/plain": [
       "                  Number of concordant genes Number of discordant genes\n",
       "NEGATIVE BINOMIAL                        391                        336\n",
       "GAMMA                                      7                         83\n",
       "LOGNORMAL                                188                        343"
      ]
     },
     "execution_count": 31,
     "metadata": {},
     "output_type": "execute_result"
    }
   ],
   "source": [
    "dist_wise_concordance = pd.DataFrame(index=[\"NEGATIVE BINOMIAL\", \"GAMMA\", \"LOGNORMAL\"], columns=[\"Number of concordant genes\", \"Number of discordant genes\"])\n",
    "for dist in dist_wise_concordance.index:\n",
    "    ad_filt = dist_fitting_results_ad[\"best_fit\"] == dist\n",
    "    nci_filt = dist_fitting_results_nci[\"best_fit\"] == dist\n",
    "    ad_genes, nci_genes = set(ad_filt[ad_filt].index), set(nci_filt[nci_filt].index)\n",
    "    dist_wise_concordance.loc[dist, \"Number of concordant genes\"] = len(ad_genes.intersection(nci_genes))\n",
    "    dist_wise_concordance.loc[dist, \"Number of discordant genes\"] = len((ad_genes - nci_genes).union(nci_genes - ad_genes))\n",
    "dist_wise_concordance"
   ]
  },
  {
   "cell_type": "code",
   "execution_count": 32,
   "id": "597d7f5e-db3c-44a2-b2e5-0f8dc0c3a5a2",
   "metadata": {},
   "outputs": [
    {
     "name": "stdout",
     "output_type": "stream",
     "text": [
      "16 (1.65%) (overall), 0 (0.00%) (AD) and 0 (0.00%) (NCI) genes had 'None' - no best fit genes.\n"
     ]
    }
   ],
   "source": [
    "na_overall, na_ad, na_nci = dist_fitting_results[\"best_fit\"].isna().sum(), dist_fitting_results_ad[\"best_fit\"].isna().sum(), dist_fitting_results_nci[\"best_fit\"].isna().sum()\n",
    "print(f\"{na_overall} ({na_overall/dist_fitting_results.shape[0]*100:.2f}%) (overall), {na_ad} ({na_ad/dist_fitting_results.shape[0]*100:.2f}%) (AD) and {na_nci} ({na_nci/dist_fitting_results.shape[0]*100:.2f}%) (NCI) genes had 'None' - no best fit genes.\")"
   ]
  },
  {
   "cell_type": "markdown",
   "id": "5c3f0fc3-fa0e-46e8-a0e8-77a43801e05a",
   "metadata": {},
   "source": [
    "## Sampling from Best Fit Distributions (Subject level)"
   ]
  },
  {
   "cell_type": "markdown",
   "id": "d5c584ca-81e4-4186-b924-309dc9f95deb",
   "metadata": {},
   "source": [
    "### Constant Uncertainty (Relative Standard Deviation)"
   ]
  },
  {
   "cell_type": "code",
   "execution_count": 33,
   "id": "2e621923-8c50-44e1-abf3-d19740eb642a",
   "metadata": {},
   "outputs": [],
   "source": [
    "def plot_boxplot_gene_samples(patients_df: pd.DataFrame, best_fit_dists: pd.Series, uncertainty: int, n_samples: int, i: int, j: int):\n",
    "    gene = patients_df.index[i]\n",
    "    mean = patients_df.iloc[i, j]\n",
    "    mean_gene = np.mean(patients_df.iloc[i, :])\n",
    "    samples_gene = None\n",
    "    gene_best_fit = best_fit_dists[gene]\n",
    "\n",
    "    if gene_best_fit is None:\n",
    "        gene_best_fit = \"NEGATIVE BINOMIAL\"\n",
    "    if gene_best_fit == \"NEGATIVE BINOMIAL\" and (uncertainty / 100) ** 2.0 <= 1/mean_gene:\n",
    "        gene_best_fit = \"LOGNORMAL\"\n",
    "\n",
    "    match gene_best_fit:\n",
    "        case \"NEGATIVE BINOMIAL\":\n",
    "            samples_gene = sample_negative_binomial_mean_rsd(mean_gene, uncertainty / 100.0, n_samples)\n",
    "        case \"LOGNORMAL\":\n",
    "            samples_gene = sample_lognormal_mean_rsd(mean_gene, uncertainty / 100.0, n_samples)\n",
    "        case \"GAMMA\":\n",
    "            samples_gene = sample_gamma_mean_rsd(mean, uncertainty / 100.0, n_samples)\n",
    "\n",
    "    # Sample from distribution\n",
    "    if (uncertainty / 100) ** 2.0 > 1/mean:\n",
    "        samples_nb = sample_negative_binomial_mean_rsd(mean, uncertainty / 100.0, n_samples)\n",
    "    else:\n",
    "        samples_nb = None\n",
    "    samples_ln = sample_lognormal_mean_rsd(mean, uncertainty / 100.0, n_samples)\n",
    "    samples_g = sample_gamma_mean_rsd(mean, uncertainty / 100.0, n_samples)\n",
    "\n",
    "    # Plot boxplots of genes\n",
    "    data, labels = [samples_gene, samples_ln, samples_g], [\"gene\", \"lognormal\", \"gamma\"]\n",
    "    if samples_nb is not None:\n",
    "        data.append(samples_nb)\n",
    "        labels.append(\"negative binomial\")\n",
    "    plt.boxplot(data)\n",
    "    plt.xticks(list(range(1, len(labels)+1)), labels)\n",
    "    plt.ylabel(\"Simulated TPM counts\")\n",
    "    plt.title(f\"uncertainty = {uncertainty}%\")"
   ]
  },
  {
   "cell_type": "code",
   "execution_count": 34,
   "id": "74cd78d7-0238-4c43-9b70-9defd0f45286",
   "metadata": {},
   "outputs": [],
   "source": [
    "def plot_histogram_gene_samples(patients_df: pd.DataFrame, best_fit_dists: pd.Series, uncertainties: list[int], n_samples: int, i: int, j: int):\n",
    "    gene = patients_df.index[i]\n",
    "    row = patients_df.loc[gene, :].sort_values().values\n",
    "    mean = row[j]\n",
    "    mean_gene = np.mean(patients_df.iloc[i, :])\n",
    "    \n",
    "    fig, _ = plt.subplots(nrows=4, ncols=len(uncertainties), sharex=True, sharey=True, figsize=(15, 15))\n",
    "    for count, uncertainty in enumerate(uncertainties):\n",
    "        samples_gene = None\n",
    "        gene_best_fit = best_fit_dists[gene]\n",
    "    \n",
    "        if gene_best_fit is None:\n",
    "            gene_best_fit = \"NEGATIVE BINOMIAL\"\n",
    "        if gene_best_fit == \"NEGATIVE BINOMIAL\" and (uncertainty / 100) ** 2.0 <= 1/mean_gene:\n",
    "            gene_best_fit = \"LOGNORMAL\"\n",
    "    \n",
    "        match gene_best_fit:\n",
    "            case \"NEGATIVE BINOMIAL\":\n",
    "                samples_gene = sample_negative_binomial_mean_rsd(mean_gene, uncertainty / 100.0, n_samples)\n",
    "            case \"LOGNORMAL\":\n",
    "                samples_gene = sample_lognormal_mean_rsd(mean_gene, uncertainty / 100.0, n_samples)\n",
    "            case \"GAMMA\":\n",
    "                samples_gene = sample_gamma_mean_rsd(mean_gene, uncertainty / 100.0, n_samples)\n",
    "    \n",
    "        # Sample from distribution\n",
    "        if (uncertainty / 100) ** 2.0 > 1/mean:\n",
    "            samples_nb = sample_negative_binomial_mean_rsd(mean, uncertainty / 100.0, n_samples)\n",
    "        else:\n",
    "            samples_nb = None\n",
    "        samples_ln = sample_lognormal_mean_rsd(mean, uncertainty / 100.0, n_samples)\n",
    "        samples_g = sample_gamma_mean_rsd(mean, uncertainty / 100.0, n_samples)\n",
    "    \n",
    "        # Plot histograms of sampled data\n",
    "        data, labels = [samples_gene, samples_ln, samples_g, samples_nb], [f\"uncertainty = {uncertainty} %\\ngene\", \"lognormal\", \"gamma\", \"negative binomial\"]\n",
    "    \n",
    "        for i, (arr, label) in enumerate(zip(data, labels)):\n",
    "            plt.subplot(4, len(uncertainties), len(uncertainties)*i+1+count)\n",
    "            if arr is None:\n",
    "                plt.text(0.5, 0.5, f\"No {label} samples drawn\", ha=\"center\",\n",
    "                         va=\"center\", transform=plt.gca().transAxes)\n",
    "            else:\n",
    "                plt.hist(arr, bins=15, alpha=0.5, color=\"r\")\n",
    "                plt.title(label)\n",
    "    fig.text(0.5, 0.08, 'Simulated TPM counts', va='center', ha=\"center\")        \n",
    "    plt.suptitle(f\"Constant relative standard deviation\\n{gene=}, mean = {mean:.2f}, gene mean = {mean_gene:.2f}, percentile = {st.percentileofscore(patients_df.loc[gene, :].values, mean):.2f}th\")"
   ]
  },
  {
   "cell_type": "code",
   "execution_count": 35,
   "id": "4e8f31a3-939a-4347-b35e-9e71f943b079",
   "metadata": {},
   "outputs": [],
   "source": [
    "def plot_sampled_data_for_gene_and_patient(i: int, j: int) -> None:\n",
    "    gene = patients_df.index[i]\n",
    "    mean = patients_df.iloc[i, j]\n",
    "    fig = plt.figure(figsize=(20, 6))\n",
    "    plt.subplot(131)\n",
    "    plot_boxplot_gene_samples(patients_df, dist_fitting_results[\"best_fit\"], 10, n_samples, i, j)\n",
    "    plt.subplot(132)\n",
    "    plot_boxplot_gene_samples(patients_df, dist_fitting_results[\"best_fit\"], 25, n_samples, i, j)\n",
    "    plt.subplot(133)\n",
    "    plot_boxplot_gene_samples(patients_df, dist_fitting_results[\"best_fit\"], 50, n_samples, i, j)\n",
    "    plt.suptitle(f\"Constant relative standard deviation\\n{gene=}, mean = {mean:.2f}, gene mean = {patients_df.loc[gene, ].mean():.2f}, percentile = {st.percentileofscore(patients_df.loc[gene, :].values, mean):.2f}th\")"
   ]
  },
  {
   "cell_type": "code",
   "execution_count": 36,
   "id": "1dc608b9-6c15-4989-85e9-75ee935d8ef7",
   "metadata": {},
   "outputs": [],
   "source": [
    "# i_slider = widgets.IntSlider(min=0, max=patients_df.shape[0]-1, step=1, value=0, description='Gene index:', \n",
    "#                              disabled=False, continuous_update=False, orientation='horizontal', readout=True, readout_format='d')\n",
    "# j_slider = widgets.IntSlider(min=0, max=patients_df.shape[1]-1, step=1, value=0, description='Patient index:', \n",
    "#                              disabled=False, continuous_update=False, orientation='horizontal', readout=True, readout_format='d')\n",
    "# widgets.interactive(plot_sampled_data_for_gene_and_patient, i=i_slider, j=j_slider)"
   ]
  },
  {
   "cell_type": "code",
   "execution_count": 37,
   "id": "90867f93-ff61-4939-a2a9-4c625273ebc3",
   "metadata": {},
   "outputs": [
    {
     "data": {
      "application/vnd.jupyter.widget-view+json": {
       "model_id": "acaa371bd86d4c7c8dba298503617617",
       "version_major": 2,
       "version_minor": 0
      },
      "text/plain": [
       "interactive(children=(IntSlider(value=0, continuous_update=False, description='Gene index:', max=966), IntSlid…"
      ]
     },
     "execution_count": 37,
     "metadata": {},
     "output_type": "execute_result"
    }
   ],
   "source": [
    "def wrapper_func(i: int, j: int):\n",
    "    plot_histogram_gene_samples(patients_df, dist_fitting_results[\"best_fit\"], [10, 25, 50], n_samples, i, j)\n",
    "\n",
    "i_slider = widgets.IntSlider(min=0, max=patients_df.shape[0]-1, step=1, value=0, description='Gene index:', \n",
    "                             disabled=False, continuous_update=False, orientation='horizontal', readout=True, readout_format='d')\n",
    "j_slider = widgets.IntSlider(min=0, max=patients_df.shape[1]-1, step=1, value=0, description='Patient index:', \n",
    "                             disabled=False, continuous_update=False, orientation='horizontal', readout=True, readout_format='d')\n",
    "widgets.interactive(wrapper_func, i=i_slider, j=j_slider)"
   ]
  },
  {
   "cell_type": "markdown",
   "id": "8fc8791e-fd78-4f91-ad54-5b8a59727642",
   "metadata": {},
   "source": [
    "## Sampling from Best Fit Distributions (Subject level)"
   ]
  },
  {
   "cell_type": "markdown",
   "id": "dc86e265-abbe-45f8-a9c5-01e77c0c6362",
   "metadata": {},
   "source": [
    "As from [this](https://genomebiology.biomedcentral.com/articles/10.1186/gb-2014-15-2-r29) paper, the relationship between the standard deviation and the mean can be modeled as\n",
    "\n",
    "$$\n",
    "\\sqrt{\\sigma} = \\frac{a}{b + \\mu} + c\n",
    "$$\n",
    "\n",
    "where $\\mu$ and $\\sigma$ are mean and standard deviation of the log2(1+TPM) dataset, respectively and $a$, $b$, $c$ are constants.\\\\\n",
    "\n",
    "We start with values of $a$ = 0.75, $b$ = 1.0, $c$ = 0.25."
   ]
  },
  {
   "cell_type": "code",
   "execution_count": 50,
   "id": "a4f8ecd4-2808-401f-8cb0-0c8988a3b50a",
   "metadata": {},
   "outputs": [],
   "source": [
    "def plot_histogram_gene_samples_adaptive_rsd(\n",
    "                            patients_df: pd.DataFrame, \n",
    "                            best_fit_dists: pd.Series, \n",
    "                            uncertainties: list[int], \n",
    "                            n_samples: int, \n",
    "                            i: int, \n",
    "                            j: int,\n",
    "                            a_val: float,\n",
    "                            b_val: float,\n",
    "                            c_val: float):\n",
    "    gene = patients_df.index[i]\n",
    "    row = patients_df.loc[gene, :].sort_values().values\n",
    "    mean = row[j]\n",
    "    mean_gene = np.mean(patients_df.iloc[i, :])\n",
    "    \n",
    "    fig, axs = plt.subplots(nrows=4, ncols=len(uncertainties), sharex=True, sharey=True, figsize=(15, 10))\n",
    "    leg_handles, leg_labels = None, None    # Legend handles and labels\n",
    "    for count, uncertainty in enumerate(uncertainties):\n",
    "        samples_gene = None\n",
    "        gene_best_fit = best_fit_dists[gene]\n",
    "\n",
    "        # Calculate relative standard deviation to simulate based on sqrt sigma = a / (b + mu) + c\n",
    "        def calculate_scaled_pct_rsd(tpm: float) -> float:\n",
    "            sqrt_sigma_log = a_val / (np.log2(tpm+1) + b_val) + c_val\n",
    "            sigma = 2.0 ** (sqrt_sigma_log ** 2.0)\n",
    "            return min(100, uncertainty * (sigma / tpm))\n",
    "\n",
    "        scaled_pct_rsd = calculate_scaled_pct_rsd(mean)\n",
    "    \n",
    "        if gene_best_fit is None:\n",
    "            gene_best_fit = \"NEGATIVE BINOMIAL\"\n",
    "        if gene_best_fit == \"NEGATIVE BINOMIAL\" and (uncertainty / 100) ** 2.0 <= 1/mean_gene:\n",
    "            gene_best_fit = \"LOGNORMAL\"\n",
    "    \n",
    "        match gene_best_fit:\n",
    "            case \"NEGATIVE BINOMIAL\":\n",
    "                samples_gene = sample_negative_binomial_mean_rsd(mean_gene, uncertainty / 100.0, n_samples)\n",
    "            case \"LOGNORMAL\":\n",
    "                samples_gene = sample_lognormal_mean_rsd(mean_gene, uncertainty / 100.0, n_samples)\n",
    "            case \"GAMMA\":\n",
    "                samples_gene = sample_gamma_mean_rsd(mean_gene, uncertainty / 100.0, n_samples)\n",
    "    \n",
    "        # Sample from distribution\n",
    "        if (scaled_pct_rsd / 100) ** 2.0 > 1/mean:\n",
    "            samples_nb_scaled = sample_negative_binomial_mean_rsd(mean, scaled_pct_rsd / 100.0, n_samples)\n",
    "        else:\n",
    "            samples_nb_scaled = None\n",
    "        samples_ln_scaled = sample_lognormal_mean_rsd(mean, scaled_pct_rsd / 100.0, n_samples)\n",
    "        samples_g_scaled = sample_gamma_mean_rsd(mean, scaled_pct_rsd / 100.0, n_samples)\n",
    "\n",
    "        if (uncertainty / 100) ** 2.0 > 1/mean:\n",
    "            samples_nb = sample_negative_binomial_mean_rsd(mean, uncertainty / 100.0, n_samples)\n",
    "        else:\n",
    "            samples_nb = None\n",
    "        samples_ln = sample_lognormal_mean_rsd(mean, uncertainty / 100.0, n_samples)\n",
    "        samples_g = sample_gamma_mean_rsd(mean, uncertainty / 100.0, n_samples)\n",
    "    \n",
    "        # Plot histograms of sampled data\n",
    "        data = [samples_gene, (samples_ln_scaled, samples_ln), (samples_g_scaled, samples_g), (samples_nb_scaled, samples_nb)]\n",
    "        labels = [f\"Base uncertainty = {uncertainty} %\\nScaled uncertainty = {scaled_pct_rsd:.2f} %\\ngene\", \n",
    "                  \"lognormal\", \"gamma\", \"negative binomial\"]\n",
    "        for i, (pair, label) in enumerate(zip(data, labels)):\n",
    "            plt.subplot(4, len(uncertainties), len(uncertainties)*i+1+count)\n",
    "            if not isinstance(pair, tuple):\n",
    "                plt.hist(pair, bins=15, alpha=0.5, color=\"r\")\n",
    "                plt.title(label)\n",
    "            elif all([arr is None for arr in pair]):\n",
    "                plt.text(0.5, 0.5, f\"No {label} samples drawn\", ha=\"center\",\n",
    "                         va=\"center\", transform=plt.gca().transAxes)\n",
    "            else:\n",
    "                scaled, unscaled = pair\n",
    "                if scaled is not None:\n",
    "                    plt.hist(scaled, bins=15, alpha=0.3, color=\"r\", label=\"scaled RSD\")\n",
    "                if unscaled is not None:\n",
    "                    plt.hist(unscaled, bins=15, alpha=0.3, color=\"b\", label=\"unscaled RSD\")\n",
    "                plt.title(label)\n",
    "                if leg_handles is None and leg_labels is None:\n",
    "                    leg_handles, leg_labels = plt.gca().get_legend_handles_labels()\n",
    "\n",
    "    # Legend\n",
    "    fig.legend(leg_handles, leg_labels, loc='upper center', ncol=2, bbox_to_anchor=(0.5, 0.08), frameon=False)\n",
    "    fig.text(0.5, 0.08, 'Simulated TPM counts', va='center', ha=\"center\")        \n",
    "    plt.suptitle(f\"Adaptive relative standard deviation\\n{gene=}, mean = {mean:.2f}, gene mean = {mean_gene:.2f}, percentile = {st.percentileofscore(patients_df.loc[gene, :].values, mean):.2f}th\")"
   ]
  },
  {
   "cell_type": "code",
   "execution_count": 51,
   "id": "9442e63f-4df9-41b1-920d-6f5c49fcac20",
   "metadata": {},
   "outputs": [
    {
     "data": {
      "application/vnd.jupyter.widget-view+json": {
       "model_id": "8f36e889ef824fa28fbbeafde991bf4f",
       "version_major": 2,
       "version_minor": 0
      },
      "text/plain": [
       "interactive(children=(IntSlider(value=0, continuous_update=False, description='Gene index:', max=966), IntSlid…"
      ]
     },
     "execution_count": 51,
     "metadata": {},
     "output_type": "execute_result"
    }
   ],
   "source": [
    "def wrapper_func(i: int, j: int, a: float, b: float, c: float):\n",
    "    plot_histogram_gene_samples_adaptive_rsd(patients_df, dist_fitting_results[\"best_fit\"], [10, 25, 50], n_samples, i, j, a, b, c)\n",
    "\n",
    "i_slider = widgets.IntSlider(min=0, max=patients_df.shape[0]-1, step=1, value=0, description='Gene index:', \n",
    "                             disabled=False, continuous_update=False, orientation='horizontal', readout=True, readout_format='d')\n",
    "j_slider = widgets.IntSlider(min=0, max=patients_df.shape[1]-1, step=1, value=0, description='Patient index:', \n",
    "                             disabled=False, continuous_update=False, orientation='horizontal', readout=True, readout_format='d')\n",
    "a_slider = widgets.FloatSlider(min=0.0, max=100.0, step=0.01, value=0.75, description='a:', \n",
    "                             disabled=False, continuous_update=False, orientation='horizontal', readout=True, readout_format='.2f', layout=widgets.Layout(width='500px'))\n",
    "b_slider = widgets.FloatSlider(min=0.0, max=100.0, step=0.01, value=1.0, description='b:', \n",
    "                             disabled=False, continuous_update=False, orientation='horizontal', readout=True, readout_format='.2f', layout=widgets.Layout(width='500px'))\n",
    "c_slider = widgets.FloatSlider(min=0.0, max=100.0, step=0.01, value=0.25, description='c:', \n",
    "                             disabled=False, continuous_update=False, orientation='horizontal', readout=True, readout_format='.2f', layout=widgets.Layout(width='500px'))\n",
    "widgets.interactive(wrapper_func, i=i_slider, j=j_slider, a=a_slider, b=b_slider, c=c_slider)"
   ]
  },
  {
   "cell_type": "code",
   "execution_count": null,
   "id": "f4b2c9d8-94d6-42c5-bce9-f0916c18d433",
   "metadata": {},
   "outputs": [],
   "source": []
  },
  {
   "cell_type": "code",
   "execution_count": null,
   "id": "e7ddfed6-5b82-434a-ab13-9dc668debaa9",
   "metadata": {},
   "outputs": [],
   "source": []
  },
  {
   "cell_type": "code",
   "execution_count": null,
   "id": "8c2d8e14-1205-47ee-ba16-5f379483e13c",
   "metadata": {},
   "outputs": [],
   "source": []
  },
  {
   "cell_type": "code",
   "execution_count": null,
   "id": "44b954fd-b34d-4448-bb65-836740da513b",
   "metadata": {},
   "outputs": [],
   "source": []
  }
 ],
 "metadata": {
  "kernelspec": {
   "display_name": "Python 3 (ipykernel)",
   "language": "python",
   "name": "python3"
  },
  "language_info": {
   "codemirror_mode": {
    "name": "ipython",
    "version": 3
   },
   "file_extension": ".py",
   "mimetype": "text/x-python",
   "name": "python",
   "nbconvert_exporter": "python",
   "pygments_lexer": "ipython3",
   "version": "3.12.4"
  }
 },
 "nbformat": 4,
 "nbformat_minor": 5
}

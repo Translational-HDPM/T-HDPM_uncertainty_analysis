{
 "cells": [
  {
   "cell_type": "markdown",
   "id": "c15bfa3c-13a2-4ed7-bc0f-d42474198343",
   "metadata": {},
   "source": [
    "## Monte Carlo simulation using real TPM data and linear combination type Alzeheimers classifier\n",
    "### Author: George Rickus"
   ]
  },
  {
   "cell_type": "markdown",
   "id": "07d686ca-b546-4772-a969-35ea15f8f98c",
   "metadata": {},
   "source": [
    "##### Importing Dependencies"
   ]
  },
  {
   "cell_type": "code",
   "execution_count": 1,
   "id": "bba3e4e8-0710-43a8-8806-50a8d8ff093d",
   "metadata": {},
   "outputs": [],
   "source": [
    "import pandas as pd\n",
    "import numpy as np"
   ]
  },
  {
   "cell_type": "markdown",
   "id": "8f7daab0-5b47-4f21-b50b-5da09f48d734",
   "metadata": {},
   "source": [
    "##### Setting up DataFrame and basic parameters"
   ]
  },
  {
   "cell_type": "code",
   "execution_count": 2,
   "id": "8734f1c8-6749-4ccc-a579-edd532dcd213",
   "metadata": {},
   "outputs": [],
   "source": [
    "### CSV File containing 965 gene dataset for AD classifier\n",
    "myDF = pd.read_csv(\"./data/AD_sort_by_AD_over_NCI_v3_pop.csv\")\n",
    "\n",
    "### Basic parameters numVars represents the number of genes and numRuns is the number of scores desired \n",
    "### for each group in the simulation\n",
    "numVars = len(myDF.loc[:, \"Coef\"])\n",
    "numRuns = 1000000"
   ]
  },
  {
   "cell_type": "markdown",
   "id": "ba2dcf39-180e-46d7-ac25-366c47d68447",
   "metadata": {},
   "source": [
    "##### Setting up Score Function and Input TPM Count Distributions for Each Gene for AD and NCI Groups"
   ]
  },
  {
   "cell_type": "code",
   "execution_count": 7,
   "id": "d6e3911c-6bff-4b1b-bdbb-810aae882c2c",
   "metadata": {},
   "outputs": [],
   "source": [
    "### Finding the mean TPM count for each gene in the AD and NCI groups\n",
    "### In the dataframe, the rows of the \"AD average TPM\" and \"NCI average TPM\" columns represent \n",
    "### the average TPM count for a different gene for the group with Alzeheimers and the control group respectively. \n",
    "ADmeans = myDF.loc[:, \"AD average TPM\"]\n",
    "Ctrlmeans = myDF.loc[:, \"NCI average TPM\"]\n",
    "\n",
    "### Finding the standard deviation TPM count for each gene in both groups\n",
    "### Use 0.1 for 10% uncertainty and 0.2 for 20% uncertainty in average TPM count for each gene in each group\n",
    "ADstds = [0.1 * val for val in ADmeans]\n",
    "Ctrlstds = [0.1 * val for val in Ctrlmeans]\n",
    "\n",
    "### Setting up numpy array of coefficient that represent the score function(linear combination)\n",
    "coefficients = np.array(myDF.loc[:, \"Coef\"])"
   ]
  },
  {
   "cell_type": "markdown",
   "id": "9cc35769-625f-422a-b36b-5751ad93239d",
   "metadata": {},
   "source": [
    "##### Setting up Simulation Procedure"
   ]
  },
  {
   "cell_type": "code",
   "execution_count": 8,
   "id": "acd6a5e3-311f-4dcb-929f-c7f4c5807fa8",
   "metadata": {},
   "outputs": [],
   "source": [
    "### The Simulation function generates a score from linear combination function based on mean and standard deviation for each gene\n",
    "### In order to improve speed, I changed my score generation function from what it was in previous demos. \n",
    "### I used np.arrays and a nice trick involving a feature of np.random.normal, because numpy arrays tend to be more memory efficient \n",
    "### and speed efficient than using python lists with for loops. Using this technique greatly improved runtime. \n",
    "\n",
    "### np.random.normal(means, stds, size=(1, numVars)) creates a numpy array of \"numVars\" random numbers from normal distributions. \n",
    "### It works through the means and stds arrays and one random number generated from the normal distribution formed \n",
    "### by one mean-standard deviation pair.\n",
    "\n",
    "### Then this numpy array is multiplied by the coefficient numpy array and all of the elements in the resulting array \n",
    "### are added together to generate the final score.\n",
    "def Simulation(means, stds, coefficients):\n",
    "    return np.sum(np.multiply(coefficients, np.random.normal(means, stds, size=(1, len(coefficients)))))"
   ]
  },
  {
   "cell_type": "markdown",
   "id": "f8883eb5-ac45-41e1-ab4c-337107d40ccf",
   "metadata": {},
   "source": [
    "##### Generating Distribution of Score Values with \"numRuns\" scores"
   ]
  },
  {
   "cell_type": "code",
   "execution_count": 9,
   "id": "0b27d6ab-8dda-4232-8929-52dfb95b0978",
   "metadata": {},
   "outputs": [],
   "source": [
    "### Executing simulations for both AD group and control group\n",
    "\n",
    "### Scores for Alzeheimer's experiment group\n",
    "ADscores = [Simulation(ADmeans, ADstds, coefficients) for _ in range(numRuns)]\n",
    "### Scores for Control group\n",
    "Ctrlscores = [Simulation(Ctrlmeans, Ctrlstds, coefficients) for _ in range(numRuns)]\n",
    "\n",
    "# Finding information about distribution of the results from both simulations\n",
    "ADoutMean = np.mean(ADscores)\n",
    "ADoutStd = np.std(ADscores)\n",
    "CtrloutMean = np.mean(Ctrlscores)\n",
    "CtrloutStd = np.std(Ctrlscores)"
   ]
  },
  {
   "cell_type": "markdown",
   "id": "58446ad7-df55-4b0c-8ecb-cb952b7a9caf",
   "metadata": {},
   "source": [
    "##### Outputs with 10% TPM uncertainty"
   ]
  },
  {
   "cell_type": "code",
   "execution_count": 6,
   "id": "3652658a-4521-4ea2-bb78-0b3a6ac43e73",
   "metadata": {},
   "outputs": [
    {
     "name": "stdout",
     "output_type": "stream",
     "text": [
      "AD Group Mean:  765.8561936954549\n",
      "AD Group Standard Deviation:  51.092289910407246\n",
      "NCI Group Mean:  108.4315729674713\n",
      "NCI Group Standard Deviation:  47.797347621715645\n"
     ]
    }
   ],
   "source": [
    "print(\"AD Group Mean: \", ADoutMean)\n",
    "print(\"AD Group Standard Deviation: \", ADoutStd)\n",
    "print(\"NCI Group Mean: \", CtrloutMean)\n",
    "print(\"NCI Group Standard Deviation: \", CtrloutStd)"
   ]
  },
  {
   "cell_type": "markdown",
   "id": "eca20a95-58d1-41a0-83e8-7d281ccc2d20",
   "metadata": {},
   "source": [
    "##### Outputs with 20% TPM uncertainty"
   ]
  },
  {
   "cell_type": "code",
   "execution_count": 10,
   "id": "fa74166a-3779-499b-83c6-b4d32ce37aed",
   "metadata": {},
   "outputs": [
    {
     "name": "stdout",
     "output_type": "stream",
     "text": [
      "AD Group Mean:  765.9212058805787\n",
      "AD Group Standard Deviation:  102.30592286879217\n",
      "NCI Group Mean:  108.50086765647214\n",
      "NCI Group Standard Deviation:  95.7305719195671\n"
     ]
    }
   ],
   "source": [
    "print(\"AD Group Mean: \", ADoutMean)\n",
    "print(\"AD Group Standard Deviation: \", ADoutStd)\n",
    "print(\"NCI Group Mean: \", CtrloutMean)\n",
    "print(\"NCI Group Standard Deviation: \", CtrloutStd)"
   ]
  }
 ],
 "metadata": {
  "kernelspec": {
   "display_name": "f2022-s2023",
   "language": "python",
   "name": "f2022-s2023"
  },
  "language_info": {
   "codemirror_mode": {
    "name": "ipython",
    "version": 3
   },
   "file_extension": ".py",
   "mimetype": "text/x-python",
   "name": "python",
   "nbconvert_exporter": "python",
   "pygments_lexer": "ipython3",
   "version": "3.10.5"
  }
 },
 "nbformat": 4,
 "nbformat_minor": 5
}

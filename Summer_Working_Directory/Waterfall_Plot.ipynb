{
 "cells": [
  {
   "cell_type": "code",
   "execution_count": 2,
   "id": "ed5d2edc-a3ff-45f4-b1f0-abf2169f888f",
   "metadata": {},
   "outputs": [
    {
     "ename": "NameError",
     "evalue": "name 'library' is not defined",
     "output_type": "error",
     "traceback": [
      "\u001b[0;31m---------------------------------------------------------------------------\u001b[0m",
      "\u001b[0;31mNameError\u001b[0m                                 Traceback (most recent call last)",
      "Input \u001b[0;32mIn [2]\u001b[0m, in \u001b[0;36m<cell line: 1>\u001b[0;34m()\u001b[0m\n\u001b[0;32m----> 1\u001b[0m \u001b[43mlibrary\u001b[49m(readxl)\n\u001b[1;32m      2\u001b[0m library(ggplot2)\n\u001b[1;32m      3\u001b[0m library(dplyr)\n",
      "\u001b[0;31mNameError\u001b[0m: name 'library' is not defined"
     ]
    }
   ],
   "source": [
    "library(readxl)\n",
    "library(ggplot2)\n",
    "library(dplyr)\n",
    "library(viridis)"
   ]
  },
  {
   "cell_type": "code",
   "execution_count": null,
   "id": "7a41acd1-7f94-4474-a60e-ee50bfdb271c",
   "metadata": {},
   "outputs": [],
   "source": [
    "AD_data < -read.csv(\"./tables/AD_data.csv\")\n",
    "NCI_data < -read.csv(\"./tables/NCI_data.csv\")\n",
    "data < -read.csv(\"./tables/data.csv\")"
   ]
  },
  {
   "cell_type": "code",
   "execution_count": 1,
   "id": "adeb249b-e518-412e-9dc2-15b3f8d5a332",
   "metadata": {},
   "outputs": [
    {
     "ename": "SyntaxError",
     "evalue": "invalid syntax (2509383820.py, line 3)",
     "output_type": "error",
     "traceback": [
      "\u001b[0;36m  Input \u001b[0;32mIn [1]\u001b[0;36m\u001b[0m\n\u001b[0;31m    scores$score_label[scores$score > cutoff] = \"AD\"\u001b[0m\n\u001b[0m          ^\u001b[0m\n\u001b[0;31mSyntaxError\u001b[0m\u001b[0;31m:\u001b[0m invalid syntax\n"
     ]
    }
   ],
   "source": [
    "cutoff = 0.86  #from Toden paper\n",
    "\n",
    "scores$score_label[scores$score > cutoff] = \"AD\"\n",
    "scores$score_label[scores$score <= cutoff] = \"NCI\""
   ]
  },
  {
   "cell_type": "code",
   "execution_count": null,
   "id": "dc2ef414-dba2-42ba-98e7-74b2dd1388ce",
   "metadata": {},
   "outputs": [],
   "source": []
  }
 ],
 "metadata": {
  "kernelspec": {
   "display_name": "Python 3 (ipykernel)",
   "language": "python",
   "name": "python3"
  },
  "language_info": {
   "codemirror_mode": {
    "name": "ipython",
    "version": 3
   },
   "file_extension": ".py",
   "mimetype": "text/x-python",
   "name": "python",
   "nbconvert_exporter": "python",
   "pygments_lexer": "ipython3",
   "version": "3.12.4"
  }
 },
 "nbformat": 4,
 "nbformat_minor": 5
}

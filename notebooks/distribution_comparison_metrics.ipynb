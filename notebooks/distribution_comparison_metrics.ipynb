{
 "cells": [
  {
   "cell_type": "markdown",
   "id": "bca1b28a-7d48-4e26-ae2c-ece43e6b7d69",
   "metadata": {},
   "source": [
    "# Metrics to Compare Two Distributions"
   ]
  },
  {
   "cell_type": "code",
   "execution_count": 80,
   "id": "ef845478-5b0b-46a8-a29f-43a0ad068069",
   "metadata": {},
   "outputs": [],
   "source": [
    "from pathlib import Path\n",
    "import sys\n",
    "sys.path.insert(0, str(Path.cwd().parent))"
   ]
  },
  {
   "cell_type": "code",
   "execution_count": 81,
   "id": "2f660a15-2bd9-4310-b08b-bcc743946735",
   "metadata": {},
   "outputs": [],
   "source": [
    "import numpy as np\n",
    "import scipy.stats as st\n",
    "import scipy.special as spl\n",
    "import scipy.spatial as sptl\n",
    "import matplotlib.pyplot as plt\n",
    "from src.random_sample import sample_lognormal_mean_rsd, sample_gamma_mean_rsd"
   ]
  },
  {
   "cell_type": "code",
   "execution_count": 82,
   "id": "85150b1a-181c-47c6-bae7-71f44acafdbf",
   "metadata": {},
   "outputs": [],
   "source": [
    "mean, rsd = 50.33, 0.5\n",
    "n_samples = 1000"
   ]
  },
  {
   "cell_type": "code",
   "execution_count": 93,
   "id": "2c9cb4d1-fe2d-4ee6-adad-9ba606b4001b",
   "metadata": {},
   "outputs": [],
   "source": [
    "dist_1 = np.random.normal(mean, 0.5*rsd*mean, n_samples)\n",
    "dist_2 = sample_lognormal_mean_rsd(2*mean, rsd, n_samples)\n",
    "dist_3 = sample_gamma_mean_rsd(mean, 0.25*rsd, n_samples)\n",
    "dist_4 = 6 * mean - dist_2"
   ]
  },
  {
   "cell_type": "code",
   "execution_count": 94,
   "id": "0b92d3b1-e438-42cc-882a-276ac6cfac09",
   "metadata": {},
   "outputs": [
    {
     "data": {
      "image/png": "[encoded data removed]",
      "text/plain": [
       "<Figure size 1000x600 with 1 Axes>"
      ]
     },
     "metadata": {},
     "output_type": "display_data"
    }
   ],
   "source": [
    "plt.figure(figsize=(10, 6))\n",
    "plt.hist(dist_1, density=True, alpha=0.3, label=\"dist_1\")\n",
    "plt.hist(dist_2, density=True, alpha=0.3, label=\"dist_2\")\n",
    "plt.hist(dist_3, density=True, alpha=0.3, label=\"dist_3\")\n",
    "plt.hist(dist_4, density=True, alpha=0.3, label=\"dist_4\")\n",
    "plt.legend()\n",
    "plt.show()"
   ]
  },
  {
   "cell_type": "markdown",
   "id": "e4d3784b-f84d-4084-a1e6-82d6a67ff47a",
   "metadata": {},
   "source": [
    "## Wasserstein distance"
   ]
  },
  {
   "cell_type": "code",
   "execution_count": 95,
   "id": "b7e0281f-7418-4e98-a70b-bfa0c733bce0",
   "metadata": {},
   "outputs": [
    {
     "data": {
      "text/plain": [
       "np.float64(51.166025173716825)"
      ]
     },
     "execution_count": 95,
     "metadata": {},
     "output_type": "execute_result"
    }
   ],
   "source": [
    "st.wasserstein_distance(dist_1, dist_2)"
   ]
  },
  {
   "cell_type": "code",
   "execution_count": 96,
   "id": "b166e157-7993-4858-81da-d6a33f18eb64",
   "metadata": {},
   "outputs": [
    {
     "data": {
      "text/plain": [
       "np.float64(52.0600390120291)"
      ]
     },
     "execution_count": 96,
     "metadata": {},
     "output_type": "execute_result"
    }
   ],
   "source": [
    "st.wasserstein_distance(dist_2, dist_3)"
   ]
  },
  {
   "cell_type": "code",
   "execution_count": 97,
   "id": "31f59f6f-eb12-467a-9e8e-4b576862ad61",
   "metadata": {},
   "outputs": [
    {
     "data": {
      "text/plain": [
       "np.float64(5.060791969570184)"
      ]
     },
     "execution_count": 97,
     "metadata": {},
     "output_type": "execute_result"
    }
   ],
   "source": [
    "st.wasserstein_distance(dist_1, dist_3)"
   ]
  },
  {
   "cell_type": "code",
   "execution_count": 98,
   "id": "06ba746b-02e4-4f0b-a382-f39f846612e1",
   "metadata": {},
   "outputs": [
    {
     "data": {
      "text/plain": [
       "np.float64(151.81935994549667)"
      ]
     },
     "execution_count": 98,
     "metadata": {},
     "output_type": "execute_result"
    }
   ],
   "source": [
    "st.wasserstein_distance(dist_3, dist_4)"
   ]
  },
  {
   "cell_type": "code",
   "execution_count": 99,
   "id": "d59fb906-98ee-4517-a59a-0b8c3e35afdf",
   "metadata": {},
   "outputs": [
    {
     "data": {
      "text/plain": [
       "np.float64(150.94747801879663)"
      ]
     },
     "execution_count": 99,
     "metadata": {},
     "output_type": "execute_result"
    }
   ],
   "source": [
    "st.wasserstein_distance(dist_1, dist_4)"
   ]
  },
  {
   "cell_type": "markdown",
   "id": "c7c529cd-d23f-4508-936e-4bcccc9cbe8e",
   "metadata": {},
   "source": [
    "## KL Divergence"
   ]
  },
  {
   "cell_type": "code",
   "execution_count": 100,
   "id": "2af96e82-8bb2-43c8-9a08-697a7de79bb0",
   "metadata": {},
   "outputs": [
    {
     "data": {
      "text/plain": [
       "np.float64(22767.51300286625)"
      ]
     },
     "execution_count": 100,
     "metadata": {},
     "output_type": "execute_result"
    }
   ],
   "source": [
    "spl.kl_div(dist_1, dist_2).sum()"
   ]
  },
  {
   "cell_type": "code",
   "execution_count": 101,
   "id": "08e7bf06-7605-4dfe-b7a9-efadde8ceaa5",
   "metadata": {},
   "outputs": [
    {
     "data": {
      "text/plain": [
       "np.float64(32717.13122540542)"
      ]
     },
     "execution_count": 101,
     "metadata": {},
     "output_type": "execute_result"
    }
   ],
   "source": [
    "spl.kl_div(dist_2, dist_3).sum()"
   ]
  },
  {
   "cell_type": "code",
   "execution_count": 102,
   "id": "3f0a46a6-8ef8-4834-a8b1-bc3fbf2ac1b1",
   "metadata": {},
   "outputs": [
    {
     "data": {
      "text/plain": [
       "np.float64(2034.2339168273131)"
      ]
     },
     "execution_count": 102,
     "metadata": {},
     "output_type": "execute_result"
    }
   ],
   "source": [
    "spl.kl_div(dist_1, dist_3).sum()"
   ]
  },
  {
   "cell_type": "code",
   "execution_count": 103,
   "id": "3d13f62f-d598-441f-9508-a818fb975834",
   "metadata": {},
   "outputs": [
    {
     "data": {
      "text/plain": [
       "np.float64(inf)"
      ]
     },
     "execution_count": 103,
     "metadata": {},
     "output_type": "execute_result"
    }
   ],
   "source": [
    "spl.kl_div(dist_1, dist_4).sum()"
   ]
  },
  {
   "cell_type": "markdown",
   "id": "6a836381-de03-4864-adef-4cef2ed83282",
   "metadata": {},
   "source": [
    "## Jensen-Shannon Divergence"
   ]
  },
  {
   "cell_type": "code",
   "execution_count": 104,
   "id": "a63aa3f0-f5c5-465f-835e-7c1597c398e8",
   "metadata": {},
   "outputs": [
    {
     "data": {
      "text/plain": [
       "np.float64(0.18342567845629096)"
      ]
     },
     "execution_count": 104,
     "metadata": {},
     "output_type": "execute_result"
    }
   ],
   "source": [
    "sptl.distance.jensenshannon(dist_1, dist_2).sum()"
   ]
  },
  {
   "cell_type": "code",
   "execution_count": 105,
   "id": "e1ccede8-5554-4c00-8f6c-5ecae4cc160f",
   "metadata": {},
   "outputs": [
    {
     "data": {
      "text/plain": [
       "np.float64(0.17017781443277133)"
      ]
     },
     "execution_count": 105,
     "metadata": {},
     "output_type": "execute_result"
    }
   ],
   "source": [
    "sptl.distance.jensenshannon(dist_2, dist_3).sum()"
   ]
  },
  {
   "cell_type": "code",
   "execution_count": 106,
   "id": "2e214a1f-8ef9-4b50-96e2-1c3ffb3fe74b",
   "metadata": {},
   "outputs": [
    {
     "data": {
      "text/plain": [
       "np.float64(0.10111166950259334)"
      ]
     },
     "execution_count": 106,
     "metadata": {},
     "output_type": "execute_result"
    }
   ],
   "source": [
    "sptl.distance.jensenshannon(dist_1, dist_3).sum()"
   ]
  },
  {
   "cell_type": "code",
   "execution_count": 107,
   "id": "e66f7d33-fc16-4f42-8fc0-c8acaaeb1412",
   "metadata": {},
   "outputs": [
    {
     "data": {
      "text/plain": [
       "np.float64(inf)"
      ]
     },
     "execution_count": 107,
     "metadata": {},
     "output_type": "execute_result"
    }
   ],
   "source": [
    "sptl.distance.jensenshannon(dist_1, dist_4).sum()"
   ]
  },
  {
   "cell_type": "code",
   "execution_count": null,
   "id": "0503b092-b985-47c5-ac95-76f9b4d9e203",
   "metadata": {},
   "outputs": [],
   "source": []
  },
  {
   "cell_type": "code",
   "execution_count": null,
   "id": "6a00d945-b9bc-4fc3-a08e-0cfb4a7c4abc",
   "metadata": {},
   "outputs": [],
   "source": []
  }
 ],
 "metadata": {
  "kernelspec": {
   "display_name": "Python 3 (ipykernel)",
   "language": "python",
   "name": "python3"
  },
  "language_info": {
   "codemirror_mode": {
    "name": "ipython",
    "version": 3
   },
   "file_extension": ".py",
   "mimetype": "text/x-python",
   "name": "python",
   "nbconvert_exporter": "python",
   "pygments_lexer": "ipython3",
   "version": "3.12.4"
  }
 },
 "nbformat": 4,
 "nbformat_minor": 5
}

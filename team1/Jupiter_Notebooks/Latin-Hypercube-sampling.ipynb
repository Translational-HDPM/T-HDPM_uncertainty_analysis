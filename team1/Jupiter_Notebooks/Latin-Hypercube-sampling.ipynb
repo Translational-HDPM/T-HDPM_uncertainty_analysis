{
 "cells": [
  {
   "cell_type": "code",
   "execution_count": 1,
   "id": "7c68584d-9e8d-48a4-ba11-a2eca342d8f7",
   "metadata": {},
   "outputs": [],
   "source": [
    "import pandas as pd\n",
    "import numpy as np"
   ]
  },
  {
   "cell_type": "code",
   "execution_count": 2,
   "id": "ad2a0461-0637-4f14-9772-d5ed56d0b11c",
   "metadata": {},
   "outputs": [],
   "source": [
    "### CSV File containing 965 gene dataset for AD classifier\n",
    "myDF = pd.read_csv(\"data/AD_sort_by_AD_over_NCI_v3_pop.csv\")\n",
    "\n",
    "### Basic parameters numVars represents the number of genes and numRuns is the number of scores desired \n",
    "### for each group in the simulation\n",
    "numVars = len(myDF.loc[:, \"Coef\"])\n",
    "numRuns = 1000000"
   ]
  },
  {
   "cell_type": "code",
   "execution_count": 3,
   "id": "8a9b349f-5868-4d62-9913-4e170f1d4482",
   "metadata": {},
   "outputs": [],
   "source": [
    "### Finding the mean TPM count for each gene in the AD and NCI groups\n",
    "### In the dataframe, the rows of the \"AD average TPM\" and \"NCI average TPM\" columns represent \n",
    "### the average TPM count for a different gene for the group with Alzeheimers and the control group respectively. \n",
    "ADmeans = myDF.loc[:, \"AD average TPM\"]\n",
    "Ctrlmeans = myDF.loc[:, \"NCI average TPM\"]\n",
    "\n",
    "### Finding the standard deviation TPM count for each gene in both groups\n",
    "### Use 0.1 for 10% uncertainty and 0.2 for 20% uncertainty in average TPM count for each gene in each group\n",
    "ADstds = [0.1 * val for val in ADmeans]\n",
    "Ctrlstds = [0.1 * val for val in Ctrlmeans]\n",
    "\n",
    "### Setting up numpy array of coefficient that represent the score function(linear combination)\n",
    "coefficients = np.array(myDF.loc[:, \"Coef\"])"
   ]
  },
  {
   "cell_type": "code",
   "execution_count": null,
   "id": "7f55f47d-fd8a-4872-9a80-b53b34ed97ff",
   "metadata": {},
   "outputs": [],
   "source": [
    "### The Simulation function generates a score from linear combination function based on mean and standard deviation for each gene\n",
    "### In order to improve speed, I changed my score generation function from what it was in previous demos. \n",
    "### I used np.arrays and a nice trick involving a feature of np.random.normal, because numpy arrays tend to be more memory efficient \n",
    "### and speed efficient than using python lists with for loops. Using this technique greatly improved runtime. \n",
    "\n",
    "### np.random.normal(means, stds, size=(1, numVars)) creates a numpy array of \"numVars\" random numbers from normal distributions. \n",
    "### It works through the means and stds arrays and one random number generated from the normal distribution formed \n",
    "### by one mean-standard deviation pair.\n",
    "\n",
    "### Then this numpy array is multiplied by the coefficient numpy array and all of the elements in the resulting array \n",
    "### are added together to generate the final score.\n",
    "def Simulation(means, stds, coefficients):\n",
    "    sampler = qmc.LatinHypercube(d=1)\n",
    "    sample = sampler.random(n=len(coefficients))\n",
    "    l_bounds = means - stds\n",
    "    u_bounds = means + stds\n",
    "    sims = qmc.scale(sample, l_bounds, u_bounds)\n",
    "    return np.sum(np.multiply(coefficients, sims))"
   ]
  }
 ],
 "metadata": {
  "kernelspec": {
   "display_name": "Python 3.9 (Default)",
   "language": "python",
   "name": "python3"
  },
  "language_info": {
   "codemirror_mode": {
    "name": "ipython",
    "version": 3
   },
   "file_extension": ".py",
   "mimetype": "text/x-python",
   "name": "python",
   "nbconvert_exporter": "python",
   "pygments_lexer": "ipython3",
   "version": "3.9.7"
  }
 },
 "nbformat": 4,
 "nbformat_minor": 5
}

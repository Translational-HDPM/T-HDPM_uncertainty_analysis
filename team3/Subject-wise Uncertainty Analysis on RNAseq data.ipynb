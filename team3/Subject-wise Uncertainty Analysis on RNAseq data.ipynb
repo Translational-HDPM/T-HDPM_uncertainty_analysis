{
 "cells": [
  {
   "cell_type": "markdown",
   "id": "d5b701fb-3d33-4514-ab35-dbfa52a9bb7a",
   "metadata": {},
   "source": [
    "## Subject-wise Uncertainty Analysis on RNAseq data\n",
    "### Authors: D. Tolosa, P. Joshi, R. Banda, B. Ziemann"
   ]
  },
  {
   "cell_type": "markdown",
   "id": "d4237c9e-d0ec-4696-b2b0-029dba9458f8",
   "metadata": {},
   "source": [
    "The objective of the notebook is to compute the subject-based uncertainty of the classifier <br>\n",
    "The main output from this notebook is the box plot of classifier uncertainty or standard deviation <br>\n",
    "\n",
    "**_This project was developed at The Data Mine, Purdue University, in partnership with Molecular Stethoscope._**"
   ]
  },
  {
   "cell_type": "code",
   "execution_count": 45,
   "id": "6067b12e-061e-4e74-ad0b-55f5dfa4ad82",
   "metadata": {},
   "outputs": [],
   "source": [
    "import pandas as pd\n",
    "import numpy as np\n",
    "import matplotlib.pyplot as plt\n",
    "\n",
    "### Reding csv file containing 243 subjects and their raw TPM counts across 1059 genes\n",
    "### Source of data\n",
    "myDF = pd.read_excel(\"/anvil/projects/tdm/corporate/molecular-stethoscope/data-s23/ClusterMarkers_1819ADcohort.congregated_DR.xlsx\", sheet_name = 1)\n",
    "# setting index row name to the gene id\n",
    "myDF = myDF.set_index('gene_id')\n",
    "# Loading sheet 0, which contains the clinical diagnoses\n",
    "pathos = pd.read_excel(\"/anvil/projects/tdm/corporate/molecular-stethoscope/data-s23/ClusterMarkers_1819ADcohort.congregated_DR.xlsx\", sheet_name = 0)\n",
    "pathos = pathos[~pathos.loc[:,'Isolate ID'].isna()]\n",
    "pathos = pathos.astype({'Isolate ID':'int'})"
   ]
  },
  {
   "cell_type": "markdown",
   "id": "129f9a70-e873-4c8b-b725-45403fc6e216",
   "metadata": {},
   "source": [
    "#### Step 1: Data Prep"
   ]
  },
  {
   "cell_type": "code",
   "execution_count": 19,
   "id": "6a05e49e-8ad6-4012-ba4f-b0681fa3f2fe",
   "metadata": {},
   "outputs": [],
   "source": [
    "#Filtering out rows: discarding the ERCC rows, ERCC is a control protocol for validation of RNA sequencing\n",
    "Patients_df = myDF[~myDF.loc[:,'Coeff'].isnull()]\n",
    "\n",
    "# We store the coefficients(betas) of the linear classifier in an array.\n",
    "coefficients = np.nan_to_num(np.array(Patients_df.loc[:, \"Coeff\"]))\n",
    "\n",
    "# Filtering out columns with patient data\n",
    "Patients_df = Patients_df.filter(regex='^\\d+')"
   ]
  },
  {
   "cell_type": "code",
   "execution_count": 20,
   "id": "ad801ccb-3260-4ba7-9615-844a7906ef79",
   "metadata": {},
   "outputs": [],
   "source": [
    "# group columns by patient id\n",
    "grouped_cols = Patients_df.columns.str.split('-').str[0]\n",
    "\n",
    "# group columns by patient id and r1/r2 suffixes\n",
    "grouped = Patients_df.groupby(grouped_cols, axis=1)\n",
    "\n",
    "# apply the mean function to the r1 and r2 columns for each group\n",
    "# taking mean of the replicates for subjects with multiple replicates\n",
    "Patients_df = grouped.apply(lambda x: x.mean(axis=1)).reset_index(drop=True)\n",
    "# Patients_df.head()"
   ]
  },
  {
   "cell_type": "markdown",
   "id": "1eade41e-d3dd-4cb4-852b-286ddbbf5131",
   "metadata": {},
   "source": [
    "#### Step 2: Computing Zscores from TPM data"
   ]
  },
  {
   "cell_type": "code",
   "execution_count": 21,
   "id": "15590f43-8331-4401-b242-162757d1f8b2",
   "metadata": {},
   "outputs": [],
   "source": [
    "Patients_df['Mean']= Patients_df.mean(axis=1)\n",
    "Patients_df['Std']=Patients_df.iloc[:,:-1].std(axis=1)\n",
    "#Patients_df.head()"
   ]
  },
  {
   "cell_type": "code",
   "execution_count": 22,
   "id": "d8e29387-86f3-4df8-b3b0-407170be8282",
   "metadata": {},
   "outputs": [],
   "source": [
    "# We define a function whose input is TPM and outputs the corresponding Zscore\n",
    "def z_score(x):\n",
    "    return (x-x['Mean'])/x['Std']"
   ]
  },
  {
   "cell_type": "code",
   "execution_count": 23,
   "id": "0de3ccdb-0bc5-431b-908c-1e77e1ae6ae3",
   "metadata": {},
   "outputs": [],
   "source": [
    "# Computing and storing zscores\n",
    "Patients_df_zScore = Patients_df.apply(lambda x: z_score(x), axis=1)\n",
    "Patients_df_zScore = Patients_df_zScore.filter(regex='^\\d+')"
   ]
  },
  {
   "cell_type": "markdown",
   "id": "08f448cd-4bf3-4a51-849d-ab7118ee6678",
   "metadata": {},
   "source": [
    "#### Step 3: Defining Monte carlo simulation and classifier functions"
   ]
  },
  {
   "cell_type": "code",
   "execution_count": 24,
   "id": "5c1a34af-338f-49eb-8bcd-974e66de0cdd",
   "metadata": {},
   "outputs": [],
   "source": [
    "# Sampling function performing the Monte Carlo simulations\n",
    "def Simulation(means, std, coefficients):\n",
    "    return np.sum(np.multiply(coefficients, np.random.normal(means, std, size=(1, len(coefficients)))))\n",
    "\n",
    "# Function to perform anti-logit operation on the linear score \n",
    "def cl_score(linear_score, gamma = 0):\n",
    "    temp = gamma + linear_score\n",
    "    classifier_score = np.exp(temp) / (1 + np.exp(temp))\n",
    "    return classifier_score\n",
    "\n",
    "# Function to calculate subject wise mean and std of simulated scores \n",
    "def run_sim_one_patient_mean_sd(col,percent,num_runs):\n",
    "    std = [percent/100 * val for val in col]\n",
    "    std = np.abs(std)\n",
    "    temp_Sim = [cl_score(Simulation(col, std, coefficients)) for _ in range(num_runs)]\n",
    "    return [np.mean(temp_Sim),np.std(temp_Sim)]\n",
    "\n",
    "# Function to calculate the classifier score for each simulation of \"num_runs\" simulations, corresponding to each subject\n",
    "def run_sim_one_patient(col, percent, num_runs):\n",
    "    std = [percent/100 * val for val in col]\n",
    "    std = np.abs(std)\n",
    "    temp_Sim = np.asarray([cl_score(Simulation(col, std, coefficients)) for _ in range(num_runs)])\n",
    "    return temp_Sim\n",
    "\n",
    "# This score is the classifer linear score we want to compare with the simulated scores\n",
    "def linear_score(coefficients, col):\n",
    "    linear_score = np.sum(coefficients * col, axis=0)\n",
    "    return linear_score"
   ]
  },
  {
   "cell_type": "markdown",
   "id": "674cfd0a-fe01-47e8-b83e-c0437088fb18",
   "metadata": {
    "tags": []
   },
   "source": [
    "#### Step 4: [Hyperparameters] We decide on number of simulations per subject (num_runs) assumed variation on TPM counts (uncertainty)\n",
    "##### num_runs is the number of scores we will generate per patient, each score is generated by choosing a TPM value from a normal distribution that has the actual value as mean (or the average of the TPM counts if there are replicates) and std deviation determined by the variable 'uncertainty'."
   ]
  },
  {
   "cell_type": "code",
   "execution_count": 53,
   "id": "c926bfc6-434e-4ee2-946a-735b52c65846",
   "metadata": {},
   "outputs": [],
   "source": [
    "num_runs = 10000\n",
    "RSD = 50 # % relative standard deviation"
   ]
  },
  {
   "cell_type": "markdown",
   "id": "75a542df-8b45-41bd-900a-f818d86acf95",
   "metadata": {},
   "source": [
    "#### Step 5: Computing subject based uncertainty using Zscores"
   ]
  },
  {
   "cell_type": "code",
   "execution_count": 54,
   "id": "746db8b4-972e-463f-a6b4-84902e89998b",
   "metadata": {},
   "outputs": [],
   "source": [
    "#Calculating  Subject wise mean and std of simulated scores \n",
    "subj_uncertainty = Patients_df_zScore.apply(lambda col: pd.Series(run_sim_one_patient_mean_sd(col,RSD,num_runs), index=['mean', 'uncert(SD)']))"
   ]
  },
  {
   "cell_type": "code",
   "execution_count": 2,
   "id": "3d5f7342-048d-4152-8c86-32cdcabde438",
   "metadata": {},
   "outputs": [],
   "source": [
    "# uncomment the line below for saving as .csv\n",
    "\n",
    "# subj_uncertainty.to_csv('data/sub-wise_uncert_' + str(RSD) + 'perc_RSD.csv')"
   ]
  },
  {
   "cell_type": "markdown",
   "id": "1748fd0b-9379-4f2d-82c1-260c71d89688",
   "metadata": {},
   "source": [
    "#### Step 6: We create a boxplot for visualization of subject-wise uncertainty at the assumed %RDS, and also boxplots for AD and NCI independently"
   ]
  },
  {
   "cell_type": "code",
   "execution_count": 55,
   "id": "3d9ebad4-d2f8-4794-ac2a-499e4984b2cd",
   "metadata": {},
   "outputs": [],
   "source": [
    "subj_uncert_and_pathos = subj_uncertainty.transpose()\n",
    "subj_uncert_and_pathos['index1'] = subj_uncert_and_pathos.index\n",
    "subj_uncert_and_pathos = subj_uncert_and_pathos.astype({'index1':'int'})\n",
    "subj_uncert_and_pathos = pd.merge(pathos, subj_uncert_and_pathos, left_on='Isolate ID', right_on='index1')\n",
    "subj_uncert_and_pathos = subj_uncert_and_pathos.drop(['index1'], axis=1)"
   ]
  },
  {
   "cell_type": "code",
   "execution_count": 56,
   "id": "b532fd38-6b39-4e4a-94d9-593072cb1844",
   "metadata": {},
   "outputs": [
    {
     "data": {
      "image/png": "[encoded data removed]",
      "text/plain": [
       "<Figure size 432x576 with 1 Axes>"
      ]
     },
     "metadata": {
      "needs_background": "light"
     },
     "output_type": "display_data"
    }
   ],
   "source": [
    "import matplotlib.pyplot as plt\n",
    "\n",
    "# Plot box plot of uncert column\n",
    "subj_uncert_and_pathos.boxplot(column=['uncert(SD)'], figsize= (6,8),fontsize= 12)\n",
    "plt.title('Classifier uncertainty analysis with ' + str(RSD) + '% variation',fontsize= 15)\n",
    "plt.ylabel('Classifier standard deviation',fontsize= 14)\n",
    "plt.show()\n",
    "# uncomment below  and comment above to save\n",
    "# plt.savefig('box_'+str(RSD)+'perc_RSD.png')"
   ]
  },
  {
   "cell_type": "markdown",
   "id": "a6a57272-e143-45c1-abf9-685cebf62e22",
   "metadata": {
    "tags": []
   },
   "source": [
    "### Below we show the same data, together with independent boxplots for AD and NCI, respectively."
   ]
  },
  {
   "cell_type": "code",
   "execution_count": 63,
   "id": "476a67b5-b4ab-4108-9128-ee2dac67d8d3",
   "metadata": {},
   "outputs": [],
   "source": [
    "# There is a subject who has no clinical diagnosis, uncomment the line below and run the cell to ignore this patient for the plots.\n",
    "subj_uncert_and_pathos = subj_uncert_and_pathos[subj_uncert_and_pathos['Disease'].isin(['NCI','AD'])]"
   ]
  },
  {
   "cell_type": "code",
   "execution_count": 64,
   "id": "5b69a377-6f8f-4323-bf1a-c8fcba5118fb",
   "metadata": {},
   "outputs": [
    {
     "data": {
      "image/png": "[encoded data removed]",
      "text/plain": [
       "<Figure size 720x432 with 2 Axes>"
      ]
     },
     "metadata": {
      "needs_background": "light"
     },
     "output_type": "display_data"
    }
   ],
   "source": [
    "# boxplot for 10% variation\n",
    "import matplotlib.pyplot as plt\n",
    "import seaborn as sns\n",
    "\n",
    "fig, axes = plt.subplots(1, 2, sharex = False, sharey = True, squeeze = True,figsize=(10, 6),gridspec_kw={'width_ratios': [1, 2]})\n",
    "box = subj_uncert_and_pathos.boxplot(column = 'uncert(SD)', by='Disease',meanline=True, showmeans=True, showcaps=True,showbox=True, showfliers=True, ax=axes[1])\n",
    "subj_uncert_and_pathos.boxplot(column='uncert(SD)',ax=axes[0], meanline = True, showmeans = True)\n",
    "#plt.tight_layout\n",
    "#axes[0].set_title('')\n",
    "axes[0].set_xlabel('All subjects',fontsize=16)\n",
    "axes[1].set_xlabel('Grouped by clinical diagnosis',fontsize=16)\n",
    "fig.suptitle('Uncertainty by subject with ' + str(RSD) + '% variation', fontsize=22 , y=1)\n",
    "#plt.savefig('box_uncert_10.png', bbox_inches='tight')\n",
    "plt.show()"
   ]
  }
 ],
 "metadata": {
  "kernelspec": {
   "display_name": "Python 3.8 (Anaconda 2021.05)",
   "language": "python",
   "name": "anaconda-2021.05-py38"
  },
  "language_info": {
   "codemirror_mode": {
    "name": "ipython",
    "version": 3
   },
   "file_extension": ".py",
   "mimetype": "text/x-python",
   "name": "python",
   "nbconvert_exporter": "python",
   "pygments_lexer": "ipython3",
   "version": "3.8.8"
  }
 },
 "nbformat": 4,
 "nbformat_minor": 5
}

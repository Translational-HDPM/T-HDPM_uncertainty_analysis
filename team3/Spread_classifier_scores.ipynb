{
 "cells": [
  {
   "cell_type": "markdown",
   "id": "45dc6561-965d-4811-ab2c-eb4323ec4317",
   "metadata": {},
   "source": [
    "## Spread of classifier scores\n",
    "### Authors: D. Tolosa, P. Joshi, R. Banda, B. Ziemann"
   ]
  },
  {
   "cell_type": "markdown",
   "id": "b946c25c-c959-4a43-96b5-915671f88ce3",
   "metadata": {},
   "source": [
    "This is a simple notebook that produces a plot for visualization of the spread of the classifier scores (in probability) for the 243 subjects. \n",
    "\n",
    "**_This project was developed at The Data Mine, Purdue University, in partnership with Molecular Stethoscope._**"
   ]
  },
  {
   "cell_type": "code",
   "execution_count": 22,
   "id": "ca87bbb6-6ebc-48c7-a30a-6e357b8ef364",
   "metadata": {},
   "outputs": [],
   "source": [
    "import pandas as pd\n",
    "import numpy as np\n",
    "import matplotlib.pyplot as plt\n",
    "import seaborn as sns\n",
    "### Reding csv file containing 243 subjects and their raw TPM counts across 1059 genes\n",
    "### Source of data\n",
    "myDF = pd.read_excel(\"/anvil/projects/tdm/corporate/molecular-stethoscope/data-s23/ClusterMarkers_1819ADcohort.congregated_DR.xlsx\", sheet_name = 1)\n",
    "# setting index row name to the gene id\n",
    "myDF = myDF.set_index('gene_id')"
   ]
  },
  {
   "cell_type": "markdown",
   "id": "b01cace7-e281-42ca-8d0e-22d643b0b780",
   "metadata": {},
   "source": [
    "### Step 1: Data prep"
   ]
  },
  {
   "cell_type": "code",
   "execution_count": 23,
   "id": "125613d4-613c-4fa3-962d-589de804d26b",
   "metadata": {},
   "outputs": [],
   "source": [
    "#Filtering out rows: discarding the ERCC rows, ERCC is a control protocol for validation of RNA sequencing\n",
    "Patients_df = myDF[~myDF.loc[:,'Coeff'].isnull()]\n",
    "\n",
    "# We store the coefficients(betas) of the linear classifier in an array.\n",
    "coefficients = np.nan_to_num(np.array(Patients_df.loc[:, \"Coeff\"]))\n",
    "\n",
    "# Filtering out columns with patient data\n",
    "Patients_df = Patients_df.filter(regex='^\\d+')"
   ]
  },
  {
   "cell_type": "code",
   "execution_count": 24,
   "id": "25b39820-8f08-4873-9eac-eca90519d082",
   "metadata": {},
   "outputs": [],
   "source": [
    "# group columns by patient id\n",
    "grouped_cols = Patients_df.columns.str.split('-').str[0]\n",
    "\n",
    "# group columns by patient id and r1/r2 suffixes\n",
    "grouped = Patients_df.groupby(grouped_cols, axis=1)\n",
    "\n",
    "# apply the mean function to the r1 and r2 columns for each group\n",
    "# taking mean of the replicates for subjects with multiple replicates\n",
    "Patients_df = grouped.apply(lambda x: x.mean(axis=1)).reset_index(drop=True)\n",
    "# Patients_df.head()"
   ]
  },
  {
   "cell_type": "markdown",
   "id": "8f9f64ec-32be-4fc1-9088-4ff16d423428",
   "metadata": {},
   "source": [
    "### Step 2: Computing Zscores from TPM data"
   ]
  },
  {
   "cell_type": "code",
   "execution_count": 25,
   "id": "aa0969c0-e8cb-42b4-9a25-d99a9a569fbb",
   "metadata": {},
   "outputs": [],
   "source": [
    "Patients_df['Mean']= Patients_df.mean(axis=1)\n",
    "Patients_df['Std']=Patients_df.iloc[:,:-1].std(axis=1)\n",
    "#Patients_df.head()"
   ]
  },
  {
   "cell_type": "code",
   "execution_count": 26,
   "id": "90f81fd6-4ab2-484a-88c5-d482d79c9d08",
   "metadata": {},
   "outputs": [],
   "source": [
    "# We define a function whose input is TPM and outputs the corresponding Zscore\n",
    "def z_score(x):\n",
    "    return (x-x['Mean'])/x['Std']"
   ]
  },
  {
   "cell_type": "code",
   "execution_count": 27,
   "id": "1a38a38e-e8fd-47ef-ae7f-9f4891441156",
   "metadata": {},
   "outputs": [],
   "source": [
    "# Computing and storing zscores\n",
    "Patients_df_zScore = Patients_df.apply(lambda x: z_score(x), axis=1)\n",
    "# Patients_df_zScore.head()"
   ]
  },
  {
   "cell_type": "markdown",
   "id": "feef5b2f-9d11-4c17-a7d4-65a06e8ba3ff",
   "metadata": {},
   "source": [
    "### Step 3: Defining classifier functions"
   ]
  },
  {
   "cell_type": "code",
   "execution_count": 28,
   "id": "4bcbf0d2-4e08-4e3d-beba-17ca7569a28c",
   "metadata": {},
   "outputs": [],
   "source": [
    "# This score is the classifer linear score, before converting to probability, i.e. sum (beta * zScores)\n",
    "def linear_score(coefficients, col):\n",
    "    linear_score = np.sum(coefficients * col, axis=0)\n",
    "    return linear_score\n",
    "\n",
    "# Function to perform anti-logit operation on the linear score \n",
    "def cl_score(linear_score, gamma = 0):\n",
    "    temp = gamma + linear_score\n",
    "    classifier_score = np.exp(temp) / (1 + np.exp(temp))\n",
    "    return classifier_score"
   ]
  },
  {
   "cell_type": "markdown",
   "id": "5fa9f96f-4936-45a8-a6b9-5a33af9cd96c",
   "metadata": {},
   "source": [
    "### Step 4: Plotting classifier scores"
   ]
  },
  {
   "cell_type": "code",
   "execution_count": 30,
   "id": "91924428-e2ae-4b7d-925c-f414d635694d",
   "metadata": {},
   "outputs": [
    {
     "data": {
      "text/plain": [
       "([], [])"
      ]
     },
     "execution_count": 30,
     "metadata": {},
     "output_type": "execute_result"
    },
    {
     "data": {
      "image/png": "[encoded data removed]",
      "text/plain": [
       "<Figure size 720x288 with 1 Axes>"
      ]
     },
     "metadata": {
      "needs_background": "light"
     },
     "output_type": "display_data"
    }
   ],
   "source": [
    "y = np.zeros(243)\n",
    "x = np.ones(243)\n",
    "for i in range(243):\n",
    "        y[i] = cl_score(linear_score(coefficients, Patients_df_zScore.iloc[:, i]))\n",
    "fig = plt.figure(figsize=(10,4))\n",
    "plt.scatter(y,x,cmap = 'Dark2_r' ,alpha = 0.15, s=100)\n",
    "plt.title('Spread of classifier scores', fontsize = 24)\n",
    "plt.xlabel(\"Classifier score in probability\", fontsize= 20)\n",
    "plt.yticks([])\n",
    "#plt.savefig('figures/class_scores.png')"
   ]
  }
 ],
 "metadata": {
  "kernelspec": {
   "display_name": "Python 3.8 (Anaconda 2021.05)",
   "language": "python",
   "name": "anaconda-2021.05-py38"
  },
  "language_info": {
   "codemirror_mode": {
    "name": "ipython",
    "version": 3
   },
   "file_extension": ".py",
   "mimetype": "text/x-python",
   "name": "python",
   "nbconvert_exporter": "python",
   "pygments_lexer": "ipython3",
   "version": "3.8.8"
  }
 },
 "nbformat": 4,
 "nbformat_minor": 5
}

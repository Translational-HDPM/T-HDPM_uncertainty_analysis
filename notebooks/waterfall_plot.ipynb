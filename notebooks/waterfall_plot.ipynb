{
 "cells": [
  {
   "cell_type": "markdown",
   "id": "c577ad84-0f18-4f27-8938-16979636da4c",
   "metadata": {},
   "source": [
    "# Waterfall plot"
   ]
  },
  {
   "cell_type": "code",
   "execution_count": 1,
   "id": "4789c69f-cb12-4f58-9da7-f221b3fbab06",
   "metadata": {},
   "outputs": [],
   "source": [
    "import sys\n",
    "from pathlib import Path\n",
    "sys.path.insert(0, str(Path.cwd().parent.resolve()))"
   ]
  },
  {
   "cell_type": "code",
   "execution_count": 2,
   "id": "d08920d9-29c7-4097-926e-082d223a430f",
   "metadata": {},
   "outputs": [],
   "source": [
    "import pandas as pd\n",
    "import numpy as np\n",
    "import matplotlib.pyplot as plt\n",
    "from src.logreg_classifier import (\n",
    "    antilogit_classifier_score,\n",
    "    z_score,\n",
    ")\n",
    "from src.postprocessing import generate_waterfall_plot"
   ]
  },
  {
   "cell_type": "code",
   "execution_count": 3,
   "id": "0731ce9b-0dff-4bf6-b5b9-8af95635ea8a",
   "metadata": {},
   "outputs": [],
   "source": [
    "### Reading csv file containing 243 subjects and their raw TPM counts across 1059 genes\n",
    "### Source of data\n",
    "raw_data = pd.read_excel(\n",
    "    \"../../raw_data/ClusterMarkers_1819ADcohort.congregated_DR.xlsx\", sheet_name=1\n",
    ")\n",
    "# setting index row name to the gene id\n",
    "raw_data = raw_data.set_index(\"gene_id\")"
   ]
  },
  {
   "cell_type": "code",
   "execution_count": 4,
   "id": "a474d3bc-6361-4c3f-b4cc-6339306b432e",
   "metadata": {},
   "outputs": [],
   "source": [
    "# Loading sheet 0, which contains the clinical diagnoses\n",
    "pathos = pd.read_excel(\n",
    "    \"../../raw_data/ClusterMarkers_1819ADcohort.congregated_DR.xlsx\", sheet_name=0\n",
    ")\n",
    "pathos = pathos[~pathos.loc[:, \"Isolate ID\"].isna()]\n",
    "pathos = pathos.astype({\"Isolate ID\": \"int\"})\n",
    "pathos = pathos.set_index(\"Isolate ID\")"
   ]
  },
  {
   "cell_type": "code",
   "execution_count": 5,
   "id": "ef20435d-0473-4713-81c0-faac5f046d72",
   "metadata": {},
   "outputs": [],
   "source": [
    "# Filtering out rows: discarding the ERCC rows, ERCC is a control protocol for validation of RNA sequencing\n",
    "patients_df = raw_data[~raw_data.loc[:, \"Coeff\"].isnull()]\n",
    "\n",
    "# We store the coefficients(betas) of the linear classifier in an array.\n",
    "coefficients = np.nan_to_num(np.array(patients_df.loc[:, \"Coeff\"]))\n",
    "\n",
    "# Filtering out columns with patient data\n",
    "patients_df = patients_df.filter(regex=r\"^\\d+\")"
   ]
  },
  {
   "cell_type": "code",
   "execution_count": 6,
   "id": "550ebe8b-f272-4c99-b92d-f937d5d1da6c",
   "metadata": {},
   "outputs": [
    {
     "name": "stderr",
     "output_type": "stream",
     "text": [
      "/tmp/ipykernel_598359/1708168721.py:5: FutureWarning: DataFrame.groupby with axis=1 is deprecated. Do `frame.T.groupby(...)` without axis instead.\n",
      "  grouped = patients_df.groupby(grouped_cols, axis=1)\n"
     ]
    }
   ],
   "source": [
    "# group columns by patient id\n",
    "grouped_cols = patients_df.columns.str.split(\"-\").str[0]\n",
    "\n",
    "# group columns by patient id and r1/r2 suffixes\n",
    "grouped = patients_df.groupby(grouped_cols, axis=1)\n",
    "\n",
    "# apply the mean function to the r1 and r2 columns for each group\n",
    "# taking mean of the replicates for subjects with multiple replicates\n",
    "patients_df = grouped.apply(lambda x: x.mean(axis=1)).reset_index(drop=True)"
   ]
  },
  {
   "cell_type": "code",
   "execution_count": 7,
   "id": "5862a24f-e61b-4fc5-af7b-90964337d1d6",
   "metadata": {},
   "outputs": [],
   "source": [
    "# Computing and storing zscores\n",
    "means, stds = patients_df.mean(axis=1), patients_df.iloc[:, :-1].std(axis=1)\n",
    "z_scores_df = patients_df.apply(lambda x: z_score(x, means, stds))"
   ]
  },
  {
   "cell_type": "code",
   "execution_count": 8,
   "id": "7b9b5551-5b67-468a-84e7-749ba28cdcca",
   "metadata": {},
   "outputs": [],
   "source": [
    "threshold = 0.85"
   ]
  },
  {
   "cell_type": "code",
   "execution_count": 9,
   "id": "ec61a78a-2177-4860-aa42-e5c840360013",
   "metadata": {},
   "outputs": [],
   "source": [
    "probs = antilogit_classifier_score(z_scores_df.T @ coefficients)\n",
    "probs_series = pd.Series(index=patients_df.columns, data=probs)"
   ]
  },
  {
   "cell_type": "code",
   "execution_count": 10,
   "id": "71128c51-5f82-4bd4-94d5-3f1be8f0a052",
   "metadata": {
    "scrolled": true
   },
   "outputs": [],
   "source": [
    "color_labels = pd.Series(index=probs_series.index, data=np.zeros(len(probs_series.index)))\n",
    "for val in probs_series.index:\n",
    "    if pathos.loc[int(val), \"Disease\"] == \"AD\":\n",
    "        color_labels.loc[val] = 1"
   ]
  },
  {
   "cell_type": "code",
   "execution_count": 12,
   "id": "c8633bc5",
   "metadata": {},
   "outputs": [
    {
     "data": {
      "image/png": "[encoded data removed]",
      "text/plain": [
       "<Figure size 1200x800 with 1 Axes>"
      ]
     },
     "metadata": {},
     "output_type": "display_data"
    }
   ],
   "source": [
    "generate_waterfall_plot(threshold=threshold, \n",
    "                        probs=probs_series, \n",
    "                        color_labels_data=color_labels, \n",
    "                        labels={0: \"NCI\", 1: \"AD\"},\n",
    "                        colors=[\"#800080\", \"#86cefa\"],\n",
    "                        title=\"Waterfall plot\")"
   ]
  },
  {
   "cell_type": "code",
   "execution_count": null,
   "id": "3d7422dd",
   "metadata": {},
   "outputs": [],
   "source": []
  }
 ],
 "metadata": {
  "kernelspec": {
   "display_name": "molstethenv",
   "language": "python",
   "name": "python3"
  },
  "language_info": {
   "codemirror_mode": {
    "name": "ipython",
    "version": 3
   },
   "file_extension": ".py",
   "mimetype": "text/x-python",
   "name": "python",
   "nbconvert_exporter": "python",
   "pygments_lexer": "ipython3",
   "version": "3.12.4"
  }
 },
 "nbformat": 4,
 "nbformat_minor": 5
}

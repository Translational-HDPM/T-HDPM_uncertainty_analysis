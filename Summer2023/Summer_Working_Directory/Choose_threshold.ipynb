{
 "cells": [
  {
   "cell_type": "markdown",
   "id": "45dc6561-965d-4811-ab2c-eb4323ec4317",
   "metadata": {},
   "source": [
    "## Choosing a threshold for the classifier\n",
    "### Author: D. Tolosa"
   ]
  },
  {
   "cell_type": "markdown",
   "id": "b946c25c-c959-4a43-96b5-915671f88ce3",
   "metadata": {},
   "source": [
    "We explore all possible values for sensitivity and specificity of the classifier as we vary the threshold, and choose the one with sensitivity closest to 0.9 from above. We also produce plots to visualize the spread of the scores and linear scores, with AD and NCI differentiated.\n",
    "\n",
    "**_This project was developed at The Data Mine, Purdue University, in partnership with Molecular Stethoscope._**"
   ]
  },
  {
   "cell_type": "code",
   "execution_count": 1,
   "id": "ca87bbb6-6ebc-48c7-a30a-6e357b8ef364",
   "metadata": {},
   "outputs": [],
   "source": [
    "import pandas as pd\n",
    "import numpy as np\n",
    "import matplotlib.pyplot as plt\n",
    "import seaborn as sns\n",
    "### Reding csv file containing 243 subjects and their raw TPM counts across 1059 genes\n",
    "### Source of data\n",
    "myDF = pd.read_excel(\"/anvil/projects/tdm/corporate/molecular-stethoscope/data-s23/ClusterMarkers_1819ADcohort.congregated_DR.xlsx\", sheet_name = 1)\n",
    "# setting index row name to the gene id\n",
    "myDF = myDF.set_index('gene_id')"
   ]
  },
  {
   "cell_type": "markdown",
   "id": "b01cace7-e281-42ca-8d0e-22d643b0b780",
   "metadata": {},
   "source": [
    "### Step 1: Data prep"
   ]
  },
  {
   "cell_type": "code",
   "execution_count": 2,
   "id": "125613d4-613c-4fa3-962d-589de804d26b",
   "metadata": {},
   "outputs": [],
   "source": [
    "#Filtering out rows: discarding the ERCC rows, ERCC is a control protocol for validation of RNA sequencing\n",
    "Patients_df = myDF[~myDF.loc[:,'Coeff'].isnull()]\n",
    "\n",
    "# We store the coefficients(betas) of the linear classifier in an array.\n",
    "coefficients = np.nan_to_num(np.array(Patients_df.loc[:, \"Coeff\"]))\n",
    "\n",
    "# Filtering out columns with patient data\n",
    "Patients_df = Patients_df.filter(regex='^\\d+')"
   ]
  },
  {
   "cell_type": "code",
   "execution_count": 3,
   "id": "25b39820-8f08-4873-9eac-eca90519d082",
   "metadata": {},
   "outputs": [],
   "source": [
    "# group columns by patient id\n",
    "grouped_cols = Patients_df.columns.str.split('-').str[0]\n",
    "grouped = Patients_df.groupby(grouped_cols, axis=1)\n",
    "\n",
    "# apply the mean function to the r1 and r2 columns for each group\n",
    "# taking mean of the replicates for subjects with multiple replicates\n",
    "Patients_df = grouped.apply(lambda x: x.mean(axis=1)).reset_index(drop=True)\n",
    "# Patients_df.head()"
   ]
  },
  {
   "cell_type": "markdown",
   "id": "8f9f64ec-32be-4fc1-9088-4ff16d423428",
   "metadata": {},
   "source": [
    "### Step 2: Computing Zscores from TPM data"
   ]
  },
  {
   "cell_type": "code",
   "execution_count": 4,
   "id": "aa0969c0-e8cb-42b4-9a25-d99a9a569fbb",
   "metadata": {},
   "outputs": [],
   "source": [
    "Patients_df['Mean']= Patients_df.mean(axis=1)\n",
    "Patients_df['Std']=Patients_df.iloc[:,:-1].std(axis=1)\n",
    "#Patients_df.head()"
   ]
  },
  {
   "cell_type": "code",
   "execution_count": 5,
   "id": "90f81fd6-4ab2-484a-88c5-d482d79c9d08",
   "metadata": {},
   "outputs": [],
   "source": [
    "# We define a function whose input is TPM and outputs the corresponding Zscore\n",
    "def z_score(x):\n",
    "    return (x-x['Mean'])/x['Std']"
   ]
  },
  {
   "cell_type": "code",
   "execution_count": 6,
   "id": "1a38a38e-e8fd-47ef-ae7f-9f4891441156",
   "metadata": {},
   "outputs": [],
   "source": [
    "# Computing and storing zscores\n",
    "Patients_df_zScore = Patients_df.apply(lambda x: z_score(x), axis=1)\n",
    "Patients_df_zScore = Patients_df_zScore.drop(columns=['Mean','Std'])\n",
    "#Patients_df_zScore"
   ]
  },
  {
   "cell_type": "markdown",
   "id": "feef5b2f-9d11-4c17-a7d4-65a06e8ba3ff",
   "metadata": {},
   "source": [
    "### Step 3: Defining classifier functions"
   ]
  },
  {
   "cell_type": "code",
   "execution_count": 1,
   "id": "4bcbf0d2-4e08-4e3d-beba-17ca7569a28c",
   "metadata": {},
   "outputs": [],
   "source": [
    "# This score is the classifer linear score, before converting to probability, i.e. sum (beta * zScores)\n",
    "def linear_score(coefficients, col):\n",
    "    linear_score = np.sum(coefficients * col, axis=0)\n",
    "    return linear_score\n",
    "\n",
    "# Function to perform anti-logit operation on the linear score \n",
    "def cl_score(linear_score, gamma = 0):\n",
    "    temp = gamma + linear_score\n",
    "    classifier_score = np.exp(temp) / (1 + np.exp(temp))\n",
    "    return classifier_score"
   ]
  },
  {
   "cell_type": "code",
   "execution_count": 18,
   "id": "31ecd110-15cc-49fd-b6f6-8d9e0bd3e378",
   "metadata": {},
   "outputs": [
    {
     "data": {
      "text/html": [
       "<div>\n",
       "<style scoped>\n",
       "    .dataframe tbody tr th:only-of-type {\n",
       "        vertical-align: middle;\n",
       "    }\n",
       "\n",
       "    .dataframe tbody tr th {\n",
       "        vertical-align: top;\n",
       "    }\n",
       "\n",
       "    .dataframe thead th {\n",
       "        text-align: right;\n",
       "    }\n",
       "</style>\n",
       "<table border=\"1\" class=\"dataframe\">\n",
       "  <thead>\n",
       "    <tr style=\"text-align: right;\">\n",
       "      <th></th>\n",
       "      <th>Subject</th>\n",
       "      <th>linear_score</th>\n",
       "    </tr>\n",
       "  </thead>\n",
       "  <tbody>\n",
       "    <tr>\n",
       "      <th>11174</th>\n",
       "      <td>11174</td>\n",
       "      <td>15.94548</td>\n",
       "    </tr>\n",
       "    <tr>\n",
       "      <th>11178</th>\n",
       "      <td>11178</td>\n",
       "      <td>-6.458822</td>\n",
       "    </tr>\n",
       "    <tr>\n",
       "      <th>11182</th>\n",
       "      <td>11182</td>\n",
       "      <td>6.245881</td>\n",
       "    </tr>\n",
       "    <tr>\n",
       "      <th>11186</th>\n",
       "      <td>11186</td>\n",
       "      <td>0.077761</td>\n",
       "    </tr>\n",
       "    <tr>\n",
       "      <th>11190</th>\n",
       "      <td>11190</td>\n",
       "      <td>2.491608</td>\n",
       "    </tr>\n",
       "  </tbody>\n",
       "</table>\n",
       "</div>"
      ],
      "text/plain": [
       "      Subject linear_score\n",
       "11174   11174     15.94548\n",
       "11178   11178    -6.458822\n",
       "11182   11182     6.245881\n",
       "11186   11186     0.077761\n",
       "11190   11190     2.491608"
      ]
     },
     "execution_count": 18,
     "metadata": {},
     "output_type": "execute_result"
    }
   ],
   "source": [
    "### save linear scores in a dataframe\n",
    "subjects = Patients_df_zScore.columns.astype(str)\n",
    "linear_scores_df = pd.DataFrame(columns = {'Subject', 'linear_score'},index = subjects)\n",
    "for col in subjects:\n",
    "    linear_scores_df.loc[col] = [int(col),linear_score(coefficients,Patients_df_zScore[col].values)]\n",
    "    \n",
    "linear_scores_df.head()"
   ]
  },
  {
   "cell_type": "code",
   "execution_count": 19,
   "id": "bec551e5-a6a7-45d4-98ce-d02ed0b0f8f0",
   "metadata": {},
   "outputs": [
    {
     "data": {
      "text/html": [
       "<div>\n",
       "<style scoped>\n",
       "    .dataframe tbody tr th:only-of-type {\n",
       "        vertical-align: middle;\n",
       "    }\n",
       "\n",
       "    .dataframe tbody tr th {\n",
       "        vertical-align: top;\n",
       "    }\n",
       "\n",
       "    .dataframe thead th {\n",
       "        text-align: right;\n",
       "    }\n",
       "</style>\n",
       "<table border=\"1\" class=\"dataframe\">\n",
       "  <thead>\n",
       "    <tr style=\"text-align: right;\">\n",
       "      <th></th>\n",
       "      <th>Isolate ID</th>\n",
       "      <th>Disease</th>\n",
       "    </tr>\n",
       "  </thead>\n",
       "  <tbody>\n",
       "    <tr>\n",
       "      <th>0</th>\n",
       "      <td>1817</td>\n",
       "      <td>NCI</td>\n",
       "    </tr>\n",
       "    <tr>\n",
       "      <th>1</th>\n",
       "      <td>1818</td>\n",
       "      <td>NCI</td>\n",
       "    </tr>\n",
       "    <tr>\n",
       "      <th>2</th>\n",
       "      <td>1821</td>\n",
       "      <td>NCI</td>\n",
       "    </tr>\n",
       "    <tr>\n",
       "      <th>3</th>\n",
       "      <td>1850</td>\n",
       "      <td>NCI</td>\n",
       "    </tr>\n",
       "    <tr>\n",
       "      <th>4</th>\n",
       "      <td>1854</td>\n",
       "      <td>NCI</td>\n",
       "    </tr>\n",
       "    <tr>\n",
       "      <th>...</th>\n",
       "      <td>...</td>\n",
       "      <td>...</td>\n",
       "    </tr>\n",
       "    <tr>\n",
       "      <th>239</th>\n",
       "      <td>17948</td>\n",
       "      <td>NCI</td>\n",
       "    </tr>\n",
       "    <tr>\n",
       "      <th>240</th>\n",
       "      <td>17949</td>\n",
       "      <td>NCI</td>\n",
       "    </tr>\n",
       "    <tr>\n",
       "      <th>241</th>\n",
       "      <td>17950</td>\n",
       "      <td>NCI</td>\n",
       "    </tr>\n",
       "    <tr>\n",
       "      <th>242</th>\n",
       "      <td>17951</td>\n",
       "      <td>NCI</td>\n",
       "    </tr>\n",
       "    <tr>\n",
       "      <th>243</th>\n",
       "      <td>17953</td>\n",
       "      <td>NCI</td>\n",
       "    </tr>\n",
       "  </tbody>\n",
       "</table>\n",
       "<p>243 rows × 2 columns</p>\n",
       "</div>"
      ],
      "text/plain": [
       "     Isolate ID Disease\n",
       "0          1817     NCI\n",
       "1          1818     NCI\n",
       "2          1821     NCI\n",
       "3          1850     NCI\n",
       "4          1854     NCI\n",
       "..          ...     ...\n",
       "239       17948     NCI\n",
       "240       17949     NCI\n",
       "241       17950     NCI\n",
       "242       17951     NCI\n",
       "243       17953     NCI\n",
       "\n",
       "[243 rows x 2 columns]"
      ]
     },
     "execution_count": 19,
     "metadata": {},
     "output_type": "execute_result"
    }
   ],
   "source": [
    "### load clinical diagnosis dataframe\n",
    "pathos = pd.read_excel(\"data/ClusterMarkers_1819ADcohort.congregated_DR.xlsx\", sheet_name = 0)\n",
    "pathos = pathos[~pathos.loc[:,'Isolate ID'].isna()]\n",
    "pathos = pathos.astype({'Isolate ID':'int'})\n",
    "pathos = pathos[pathos.loc[:,'Disease'].isin(['AD','NCI'])]\n",
    "pathos"
   ]
  },
  {
   "cell_type": "code",
   "execution_count": 20,
   "id": "141ae4ff-b8c1-4e22-8ff3-1e189ebdf244",
   "metadata": {},
   "outputs": [
    {
     "data": {
      "text/html": [
       "<div>\n",
       "<style scoped>\n",
       "    .dataframe tbody tr th:only-of-type {\n",
       "        vertical-align: middle;\n",
       "    }\n",
       "\n",
       "    .dataframe tbody tr th {\n",
       "        vertical-align: top;\n",
       "    }\n",
       "\n",
       "    .dataframe thead th {\n",
       "        text-align: right;\n",
       "    }\n",
       "</style>\n",
       "<table border=\"1\" class=\"dataframe\">\n",
       "  <thead>\n",
       "    <tr style=\"text-align: right;\">\n",
       "      <th></th>\n",
       "      <th>Disease</th>\n",
       "      <th>Subject</th>\n",
       "      <th>linear_score</th>\n",
       "    </tr>\n",
       "  </thead>\n",
       "  <tbody>\n",
       "    <tr>\n",
       "      <th>0</th>\n",
       "      <td>NCI</td>\n",
       "      <td>1817</td>\n",
       "      <td>-10.375456</td>\n",
       "    </tr>\n",
       "    <tr>\n",
       "      <th>1</th>\n",
       "      <td>NCI</td>\n",
       "      <td>1818</td>\n",
       "      <td>-10.318006</td>\n",
       "    </tr>\n",
       "    <tr>\n",
       "      <th>2</th>\n",
       "      <td>NCI</td>\n",
       "      <td>1821</td>\n",
       "      <td>-9.261675</td>\n",
       "    </tr>\n",
       "    <tr>\n",
       "      <th>3</th>\n",
       "      <td>NCI</td>\n",
       "      <td>1850</td>\n",
       "      <td>-11.029938</td>\n",
       "    </tr>\n",
       "    <tr>\n",
       "      <th>4</th>\n",
       "      <td>NCI</td>\n",
       "      <td>1854</td>\n",
       "      <td>-11.170406</td>\n",
       "    </tr>\n",
       "  </tbody>\n",
       "</table>\n",
       "</div>"
      ],
      "text/plain": [
       "  Disease Subject linear_score\n",
       "0     NCI    1817   -10.375456\n",
       "1     NCI    1818   -10.318006\n",
       "2     NCI    1821    -9.261675\n",
       "3     NCI    1850   -11.029938\n",
       "4     NCI    1854   -11.170406"
      ]
     },
     "execution_count": 20,
     "metadata": {},
     "output_type": "execute_result"
    }
   ],
   "source": [
    "### merge clinical diagnosis dataframe with the linear scores dataframe\n",
    "master_df = pd.merge(pathos, linear_scores_df, left_on='Isolate ID', right_on='Subject')\n",
    "master_df = master_df.drop(columns = ['Isolate ID'])\n",
    "master_df.head()"
   ]
  },
  {
   "cell_type": "markdown",
   "id": "5fa9f96f-4936-45a8-a6b9-5a33af9cd96c",
   "metadata": {},
   "source": [
    "### Step 4: Plotting classifier scores in linear and exponential scales"
   ]
  },
  {
   "cell_type": "code",
   "execution_count": 48,
   "id": "91924428-e2ae-4b7d-925c-f414d635694d",
   "metadata": {},
   "outputs": [
    {
     "data": {
      "image/png": "[encoded data removed]",
      "text/plain": [
       "<Figure size 720x288 with 1 Axes>"
      ]
     },
     "metadata": {
      "needs_background": "light"
     },
     "output_type": "display_data"
    }
   ],
   "source": [
    "fig = plt.figure(figsize=(10,4))\n",
    "groups = master_df.groupby(\"Disease\")\n",
    "\n",
    "for name, group in groups:\n",
    "    y = np.ones(groups['Disease'].count().loc[name])\n",
    "    plt.scatter(group['linear_score'],y, marker=\"o\", label=name,cmap = 'Dark2_r' ,alpha = 0.3, s=100)\n",
    "plt.legend()\n",
    "plt.title('Spread of linear classifier scores', fontsize = 24)\n",
    "plt.xlabel(\"Classifier score in linear scale\", fontsize= 20)\n",
    "plt.yticks([])\n",
    "#plt.savefig('figures/spread_of_linear_classifier_scores.png')"
   ]
  },
  {
   "cell_type": "code",
   "execution_count": 51,
   "id": "567a6097-d084-4b05-8b09-c2a609322407",
   "metadata": {},
   "outputs": [
    {
     "data": {
      "text/plain": [
       "([], [])"
      ]
     },
     "execution_count": 51,
     "metadata": {},
     "output_type": "execute_result"
    },
    {
     "data": {
      "image/png": "[encoded data removed]",
      "text/plain": [
       "<Figure size 720x288 with 1 Axes>"
      ]
     },
     "metadata": {
      "needs_background": "light"
     },
     "output_type": "display_data"
    }
   ],
   "source": [
    "### In probability, i.e. exponential scale\n",
    "\n",
    "fig = plt.figure(figsize=(10,4))\n",
    "groups = master_df.groupby(\"Disease\")\n",
    "\n",
    "for name, group in groups:\n",
    "    x = np.zeros(len(group['linear_score']))\n",
    "    for i in range(len(group['linear_score'])):\n",
    "        x[i] = cl_score(group['linear_score'].values[i])\n",
    "    y = np.ones(groups['Disease'].count().loc[name])\n",
    "    plt.scatter(x,y, marker=\"o\", label=name,cmap = 'Dark2_r' ,alpha = 0.3, s=100)\n",
    "plt.legend()\n",
    "#plt.scatter(x,y,cmap = 'Dark2_r' ,alpha = 0.15, s=100)\n",
    "plt.title('Spread of classifier scores', fontsize = 24)\n",
    "plt.xlabel(\"Classifier score in probability\", fontsize= 20)\n",
    "plt.yticks([])\n",
    "#plt.savefig('figures/spread_of_classifier_scores.png')"
   ]
  },
  {
   "cell_type": "markdown",
   "id": "2340dbf4-792b-43f2-90ca-7cb26eefb5db",
   "metadata": {},
   "source": [
    "### Step 5: Computing sensitivity and specificity"
   ]
  },
  {
   "cell_type": "code",
   "execution_count": 43,
   "id": "4b1f20db-2c0e-4b45-8e7b-b147b8f09d53",
   "metadata": {},
   "outputs": [],
   "source": [
    "### First we sort the master dataframe along the linear scores in descending order\n",
    "master_df = master_df.sort_values(by=['linear_score'], ascending=True, ignore_index=True)\n",
    "#master_df.head()\n",
    "sens_vector = np.zeros(len(master_df))\n",
    "spec_vector = np.zeros(len(master_df))\n",
    "\n",
    "for subject in range(len(master_df)):\n",
    "    sens_vector[subject] = sum(master_df.loc[subject:]['Disease'] == 'AD') / (sum(master_df.loc[subject:]['Disease'] == 'AD') + sum(master_df.loc[0:subject]['Disease'] == 'AD'))\n",
    "    spec_vector[subject] = sum(master_df.loc[0:subject]['Disease'] == 'NCI') / (sum(master_df.loc[0:subject]['Disease'] == 'NCI') + sum(master_df.loc[subject:]['Disease'] == 'NCI'))\n",
    "master_df['Sensitivity'] = sens_vector\n",
    "master_df['Specificity'] = spec_vector"
   ]
  },
  {
   "cell_type": "code",
   "execution_count": 44,
   "id": "21d252d1-3b65-4758-834f-d19ca2acebea",
   "metadata": {},
   "outputs": [
    {
     "data": {
      "text/html": [
       "<div>\n",
       "<style scoped>\n",
       "    .dataframe tbody tr th:only-of-type {\n",
       "        vertical-align: middle;\n",
       "    }\n",
       "\n",
       "    .dataframe tbody tr th {\n",
       "        vertical-align: top;\n",
       "    }\n",
       "\n",
       "    .dataframe thead th {\n",
       "        text-align: right;\n",
       "    }\n",
       "</style>\n",
       "<table border=\"1\" class=\"dataframe\">\n",
       "  <thead>\n",
       "    <tr style=\"text-align: right;\">\n",
       "      <th></th>\n",
       "      <th>Disease</th>\n",
       "      <th>Subject</th>\n",
       "      <th>linear_score</th>\n",
       "      <th>Sensitivity</th>\n",
       "      <th>Specificity</th>\n",
       "    </tr>\n",
       "  </thead>\n",
       "  <tbody>\n",
       "    <tr>\n",
       "      <th>112</th>\n",
       "      <td>AD</td>\n",
       "      <td>2537</td>\n",
       "      <td>-5.4282</td>\n",
       "      <td>0.929688</td>\n",
       "      <td>0.904348</td>\n",
       "    </tr>\n",
       "    <tr>\n",
       "      <th>113</th>\n",
       "      <td>NCI</td>\n",
       "      <td>5656</td>\n",
       "      <td>-5.324128</td>\n",
       "      <td>0.929134</td>\n",
       "      <td>0.905172</td>\n",
       "    </tr>\n",
       "    <tr>\n",
       "      <th>114</th>\n",
       "      <td>NCI</td>\n",
       "      <td>17944</td>\n",
       "      <td>-4.838643</td>\n",
       "      <td>0.929134</td>\n",
       "      <td>0.913793</td>\n",
       "    </tr>\n",
       "    <tr>\n",
       "      <th>115</th>\n",
       "      <td>AD</td>\n",
       "      <td>2553</td>\n",
       "      <td>-4.791915</td>\n",
       "      <td>0.921875</td>\n",
       "      <td>0.921739</td>\n",
       "    </tr>\n",
       "    <tr>\n",
       "      <th>116</th>\n",
       "      <td>NCI</td>\n",
       "      <td>17928</td>\n",
       "      <td>-4.630659</td>\n",
       "      <td>0.921260</td>\n",
       "      <td>0.922414</td>\n",
       "    </tr>\n",
       "    <tr>\n",
       "      <th>117</th>\n",
       "      <td>NCI</td>\n",
       "      <td>5644</td>\n",
       "      <td>-3.685555</td>\n",
       "      <td>0.921260</td>\n",
       "      <td>0.931034</td>\n",
       "    </tr>\n",
       "    <tr>\n",
       "      <th>118</th>\n",
       "      <td>AD</td>\n",
       "      <td>5784</td>\n",
       "      <td>-3.68194</td>\n",
       "      <td>0.914062</td>\n",
       "      <td>0.939130</td>\n",
       "    </tr>\n",
       "    <tr>\n",
       "      <th>119</th>\n",
       "      <td>AD</td>\n",
       "      <td>2529</td>\n",
       "      <td>-2.971084</td>\n",
       "      <td>0.906250</td>\n",
       "      <td>0.939130</td>\n",
       "    </tr>\n",
       "  </tbody>\n",
       "</table>\n",
       "</div>"
      ],
      "text/plain": [
       "    Disease Subject linear_score  Sensitivity  Specificity\n",
       "112      AD    2537      -5.4282     0.929688     0.904348\n",
       "113     NCI    5656    -5.324128     0.929134     0.905172\n",
       "114     NCI   17944    -4.838643     0.929134     0.913793\n",
       "115      AD    2553    -4.791915     0.921875     0.921739\n",
       "116     NCI   17928    -4.630659     0.921260     0.922414\n",
       "117     NCI    5644    -3.685555     0.921260     0.931034\n",
       "118      AD    5784     -3.68194     0.914062     0.939130\n",
       "119      AD    2529    -2.971084     0.906250     0.939130"
      ]
     },
     "execution_count": 44,
     "metadata": {},
     "output_type": "execute_result"
    }
   ],
   "source": [
    "master_df[(master_df['Sensitivity'] > 0.9) & (master_df['Specificity'] > 0.9)]"
   ]
  },
  {
   "cell_type": "code",
   "execution_count": 45,
   "id": "9ebd5c80-4653-488e-ba95-944668537491",
   "metadata": {},
   "outputs": [],
   "source": [
    "### save the dataframe\n",
    "master_df.to_csv('Cutoffs_Dan.csv')"
   ]
  },
  {
   "cell_type": "code",
   "execution_count": 2,
   "id": "c89b0ecf-a80a-4c38-ab47-335a987e7180",
   "metadata": {},
   "outputs": [
    {
     "ename": "NameError",
     "evalue": "name 'np' is not defined",
     "output_type": "error",
     "traceback": [
      "\u001b[0;31m---------------------------------------------------------------------------\u001b[0m",
      "\u001b[0;31mNameError\u001b[0m                                 Traceback (most recent call last)",
      "\u001b[0;32m<ipython-input-2-1570b12bde0b>\u001b[0m in \u001b[0;36m<module>\u001b[0;34m\u001b[0m\n\u001b[0;32m----> 1\u001b[0;31m \u001b[0mcl_score\u001b[0m\u001b[0;34m(\u001b[0m\u001b[0;34m-\u001b[0m\u001b[0;36m2.971084\u001b[0m\u001b[0;34m)\u001b[0m\u001b[0;34m\u001b[0m\u001b[0;34m\u001b[0m\u001b[0m\n\u001b[0m",
      "\u001b[0;32m<ipython-input-1-bc82f740aa5b>\u001b[0m in \u001b[0;36mcl_score\u001b[0;34m(linear_score, gamma)\u001b[0m\n\u001b[1;32m      7\u001b[0m \u001b[0;32mdef\u001b[0m \u001b[0mcl_score\u001b[0m\u001b[0;34m(\u001b[0m\u001b[0mlinear_score\u001b[0m\u001b[0;34m,\u001b[0m \u001b[0mgamma\u001b[0m \u001b[0;34m=\u001b[0m \u001b[0;36m0\u001b[0m\u001b[0;34m)\u001b[0m\u001b[0;34m:\u001b[0m\u001b[0;34m\u001b[0m\u001b[0;34m\u001b[0m\u001b[0m\n\u001b[1;32m      8\u001b[0m     \u001b[0mtemp\u001b[0m \u001b[0;34m=\u001b[0m \u001b[0mgamma\u001b[0m \u001b[0;34m+\u001b[0m \u001b[0mlinear_score\u001b[0m\u001b[0;34m\u001b[0m\u001b[0;34m\u001b[0m\u001b[0m\n\u001b[0;32m----> 9\u001b[0;31m     \u001b[0mclassifier_score\u001b[0m \u001b[0;34m=\u001b[0m \u001b[0mnp\u001b[0m\u001b[0;34m.\u001b[0m\u001b[0mexp\u001b[0m\u001b[0;34m(\u001b[0m\u001b[0mtemp\u001b[0m\u001b[0;34m)\u001b[0m \u001b[0;34m/\u001b[0m \u001b[0;34m(\u001b[0m\u001b[0;36m1\u001b[0m \u001b[0;34m+\u001b[0m \u001b[0mnp\u001b[0m\u001b[0;34m.\u001b[0m\u001b[0mexp\u001b[0m\u001b[0;34m(\u001b[0m\u001b[0mtemp\u001b[0m\u001b[0;34m)\u001b[0m\u001b[0;34m)\u001b[0m\u001b[0;34m\u001b[0m\u001b[0;34m\u001b[0m\u001b[0m\n\u001b[0m\u001b[1;32m     10\u001b[0m     \u001b[0;32mreturn\u001b[0m \u001b[0mclassifier_score\u001b[0m\u001b[0;34m\u001b[0m\u001b[0;34m\u001b[0m\u001b[0m\n",
      "\u001b[0;31mNameError\u001b[0m: name 'np' is not defined"
     ]
    }
   ],
   "source": [
    "cl_score(-2.971084)"
   ]
  },
  {
   "cell_type": "code",
   "execution_count": null,
   "id": "1d54b73d-2481-4e16-9b3d-d6f36cf3bcbd",
   "metadata": {},
   "outputs": [],
   "source": []
  }
 ],
 "metadata": {
  "kernelspec": {
   "display_name": "Python 3.8 (Anaconda 2021.05)",
   "language": "python",
   "name": "anaconda-2021.05-py38"
  },
  "language_info": {
   "codemirror_mode": {
    "name": "ipython",
    "version": 3
   },
   "file_extension": ".py",
   "mimetype": "text/x-python",
   "name": "python",
   "nbconvert_exporter": "python",
   "pygments_lexer": "ipython3",
   "version": "3.8.8"
  }
 },
 "nbformat": 4,
 "nbformat_minor": 5
}

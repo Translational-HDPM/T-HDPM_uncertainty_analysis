{
 "cells": [
  {
   "cell_type": "markdown",
   "id": "de27c9fd-58ab-435d-a4d7-21d0f3a33cda",
   "metadata": {},
   "source": [
    "# APOE Dataset analysis"
   ]
  },
  {
   "cell_type": "code",
   "execution_count": 1,
   "id": "c25efd58-3043-4333-b3f5-960cb01e90b5",
   "metadata": {},
   "outputs": [],
   "source": [
    "import sys\n",
    "from pathlib import Path\n",
    "sys.path.insert(0, str(Path.cwd().parent.resolve()))"
   ]
  },
  {
   "cell_type": "code",
   "execution_count": 2,
   "id": "44bcfe24-6ec2-4afb-a1b1-4c7ee23d248b",
   "metadata": {},
   "outputs": [],
   "source": [
    "import pandas as pd\n",
    "import numpy as np\n",
    "from src.logreg_classifier import z_score, antilogit_classifier_score"
   ]
  },
  {
   "cell_type": "markdown",
   "id": "51ba4a6b-9f6d-48f0-8d0f-4c5433ee687a",
   "metadata": {},
   "source": [
    "## Note\n",
    "- Classification based on APOE4\n",
    "    - Average scores for subjects without APOE4\n",
    "    - Subjects with 1 copy of APOE4\n",
    "    - Subjects with 2 copies of APOE4.\n",
    "- Subjects with APOE4 both are at increased risk (e.g. ~4-fold is one copy and ~12-fold if 2 copies) and have earlier onset of disease (e.g. ~5 yrs earlier for 1 and ~10 yrs earlier for 2 copies of APOE 4)."
   ]
  },
  {
   "cell_type": "code",
   "execution_count": 3,
   "id": "8559e96c-51e4-4691-bb55-e65c38acbf91",
   "metadata": {},
   "outputs": [],
   "source": [
    "pathos = pd.read_excel(\"../../raw_data/Purdue expanded info AD subject sample added Info Apoe.xlsx\")\n",
    "raw_data = pd.read_excel(\n",
    "    \"../../raw_data/ClusterMarkers_1819ADcohort.congregated_DR.xlsx\", sheet_name=1\n",
    ")\n",
    "# setting index row name to the gene id\n",
    "raw_data = raw_data.set_index(\"gene_id\")"
   ]
  },
  {
   "cell_type": "code",
   "execution_count": 4,
   "id": "26ae5d04-0770-4722-b88b-e78bcc0b8f2b",
   "metadata": {},
   "outputs": [
    {
     "data": {
      "text/html": [
       "<div>\n",
       "<style scoped>\n",
       "    .dataframe tbody tr th:only-of-type {\n",
       "        vertical-align: middle;\n",
       "    }\n",
       "\n",
       "    .dataframe tbody tr th {\n",
       "        vertical-align: top;\n",
       "    }\n",
       "\n",
       "    .dataframe thead th {\n",
       "        text-align: right;\n",
       "    }\n",
       "</style>\n",
       "<table border=\"1\" class=\"dataframe\">\n",
       "  <thead>\n",
       "    <tr style=\"text-align: right;\">\n",
       "      <th></th>\n",
       "      <th>Isolate ID</th>\n",
       "      <th>PatientID</th>\n",
       "      <th>Ethnicity</th>\n",
       "      <th>Gender</th>\n",
       "      <th>Disease</th>\n",
       "      <th>MMSE</th>\n",
       "      <th>CDR</th>\n",
       "      <th>Apoe status</th>\n",
       "      <th>Age</th>\n",
       "    </tr>\n",
       "  </thead>\n",
       "  <tbody>\n",
       "    <tr>\n",
       "      <th>0</th>\n",
       "      <td>1817</td>\n",
       "      <td>434</td>\n",
       "      <td>NaN</td>\n",
       "      <td>Female</td>\n",
       "      <td>NCI</td>\n",
       "      <td>30.0</td>\n",
       "      <td>0.0</td>\n",
       "      <td>E3/E3</td>\n",
       "      <td>76.0</td>\n",
       "    </tr>\n",
       "    <tr>\n",
       "      <th>1</th>\n",
       "      <td>1818</td>\n",
       "      <td>435</td>\n",
       "      <td>NaN</td>\n",
       "      <td>Female</td>\n",
       "      <td>NCI</td>\n",
       "      <td>30.0</td>\n",
       "      <td>0.0</td>\n",
       "      <td>E2/E4</td>\n",
       "      <td>74.0</td>\n",
       "    </tr>\n",
       "    <tr>\n",
       "      <th>2</th>\n",
       "      <td>1821</td>\n",
       "      <td>438</td>\n",
       "      <td>NaN</td>\n",
       "      <td>Female</td>\n",
       "      <td>NCI</td>\n",
       "      <td>29.0</td>\n",
       "      <td>0.0</td>\n",
       "      <td>E3/E3</td>\n",
       "      <td>73.0</td>\n",
       "    </tr>\n",
       "    <tr>\n",
       "      <th>3</th>\n",
       "      <td>1850</td>\n",
       "      <td>447</td>\n",
       "      <td>NaN</td>\n",
       "      <td>Male</td>\n",
       "      <td>NCI</td>\n",
       "      <td>29.0</td>\n",
       "      <td>0.0</td>\n",
       "      <td>E3/E4</td>\n",
       "      <td>68.0</td>\n",
       "    </tr>\n",
       "    <tr>\n",
       "      <th>4</th>\n",
       "      <td>1854</td>\n",
       "      <td>451</td>\n",
       "      <td>NaN</td>\n",
       "      <td>Female</td>\n",
       "      <td>NCI</td>\n",
       "      <td>29.0</td>\n",
       "      <td>0.0</td>\n",
       "      <td>E3/E4</td>\n",
       "      <td>79.0</td>\n",
       "    </tr>\n",
       "  </tbody>\n",
       "</table>\n",
       "</div>"
      ],
      "text/plain": [
       "   Isolate ID  PatientID Ethnicity  Gender Disease  MMSE  CDR Apoe status  \\\n",
       "0        1817        434       NaN  Female     NCI  30.0  0.0       E3/E3   \n",
       "1        1818        435       NaN  Female     NCI  30.0  0.0       E2/E4   \n",
       "2        1821        438       NaN  Female     NCI  29.0  0.0       E3/E3   \n",
       "3        1850        447       NaN    Male     NCI  29.0  0.0       E3/E4   \n",
       "4        1854        451       NaN  Female     NCI  29.0  0.0       E3/E4   \n",
       "\n",
       "    Age  \n",
       "0  76.0  \n",
       "1  74.0  \n",
       "2  73.0  \n",
       "3  68.0  \n",
       "4  79.0  "
      ]
     },
     "execution_count": 4,
     "metadata": {},
     "output_type": "execute_result"
    }
   ],
   "source": [
    "pathos.head()"
   ]
  },
  {
   "cell_type": "code",
   "execution_count": 5,
   "id": "9c3baa41-caf0-4c4a-bcd0-9530da3571a9",
   "metadata": {},
   "outputs": [
    {
     "data": {
      "text/plain": [
       "<Axes: xlabel='Apoe status'>"
      ]
     },
     "execution_count": 5,
     "metadata": {},
     "output_type": "execute_result"
    },
    {
     "data": {
      "image/png": "[encoded data removed]",
      "text/plain": [
       "<Figure size 640x480 with 1 Axes>"
      ]
     },
     "metadata": {},
     "output_type": "display_data"
    }
   ],
   "source": [
    "pathos[\"Apoe status\"].value_counts().plot(kind=\"bar\")"
   ]
  },
  {
   "cell_type": "markdown",
   "id": "6fded098-3195-47bd-a2f5-76eeb9b1b551",
   "metadata": {},
   "source": [
    "- Caucasian individuals have higher Alzheimers risk\n",
    "- Asian + E4 - higher risk\n",
    "- E4/E4 > E3/E4 > E2/E4 = E3/E3 > E2/E3\n",
    "- Alzheimer's triad (well-supported in literature)\n",
    "   - Age - older, more likely\n",
    "   - Sex - women more likely\n",
    "   - APOE status\n",
    "   - ROC-AUC = 0.7 (if just triad used)\n",
    "- Multimodal score (fusion of features)\n",
    "- Integrate APOE and cfRNA status\n",
    "    - What is the effect of incorporating APOE status on ROC AUC/ ROC curve?\n",
    "- What group has no E4/ one copy of E4/ two copies of E4?\n",
    "- What is the mean score of individuals in these categories?\n",
    "- Dealing with missing APOE information\n",
    "    - Discard\n",
    "    - Impute with E3/E3\n",
    "    - Infer the APOE status from primary sequencing information\n",
    "- Mini Mental State Exam (MMSE)\n",
    "  - cognitive tests for Alzheimer's disease\n",
    "  - score sensitive to education level, memorization of test exams\n",
    "  - test score is not the most reliable for Alzheimer's disease probability"
   ]
  },
  {
   "cell_type": "code",
   "execution_count": 6,
   "id": "3f132247-79e3-4716-9d91-f835bff856db",
   "metadata": {},
   "outputs": [],
   "source": [
    "pathos = pathos.set_index(\"Isolate ID\")"
   ]
  },
  {
   "cell_type": "code",
   "execution_count": 7,
   "id": "3b152da8-a48a-4970-b8a9-0d3cabda98d8",
   "metadata": {},
   "outputs": [
    {
     "data": {
      "text/plain": [
       "<Axes: xlabel='MMSE'>"
      ]
     },
     "execution_count": 7,
     "metadata": {},
     "output_type": "execute_result"
    },
    {
     "data": {
      "image/png": "[encoded data removed]",
      "text/plain": [
       "<Figure size 640x480 with 1 Axes>"
      ]
     },
     "metadata": {},
     "output_type": "display_data"
    }
   ],
   "source": [
    "pathos[\"MMSE\"].value_counts().plot(kind=\"bar\")"
   ]
  },
  {
   "cell_type": "code",
   "execution_count": 8,
   "id": "6b9f93d3-5aeb-4793-9560-fc3fba5b8926",
   "metadata": {},
   "outputs": [
    {
     "name": "stderr",
     "output_type": "stream",
     "text": [
      "<>:3: SyntaxWarning: invalid escape sequence '\\d'\n",
      "<>:3: SyntaxWarning: invalid escape sequence '\\d'\n",
      "/tmp/ipykernel_291260/443443847.py:3: SyntaxWarning: invalid escape sequence '\\d'\n",
      "  patients_df = patients_df.filter(regex=\"^\\d+\")\n"
     ]
    }
   ],
   "source": [
    "patients_df = raw_data[~raw_data.loc[:, \"Coeff\"].isnull()]\n",
    "coefficients = np.nan_to_num(np.array(patients_df.loc[:, \"Coeff\"]))\n",
    "patients_df = patients_df.filter(regex=\"^\\d+\")"
   ]
  },
  {
   "cell_type": "code",
   "execution_count": 9,
   "id": "e08ce0e7-dcfa-4e79-a522-f9a952d15197",
   "metadata": {},
   "outputs": [
    {
     "name": "stderr",
     "output_type": "stream",
     "text": [
      "/tmp/ipykernel_291260/3094510434.py:5: FutureWarning: DataFrame.groupby with axis=1 is deprecated. Do `frame.T.groupby(...)` without axis instead.\n",
      "  grouped = patients_df.groupby(grouped_cols, axis=1)\n"
     ]
    }
   ],
   "source": [
    "# group columns by patient id\n",
    "grouped_cols = patients_df.columns.str.split(\"-\").str[0]\n",
    "\n",
    "# group columns by patient id and r1/r2 suffixes\n",
    "grouped = patients_df.groupby(grouped_cols, axis=1)\n",
    "\n",
    "# apply the mean function to the r1 and r2 columns for each group\n",
    "# taking mean of the replicates for subjects with multiple replicates\n",
    "patients_df = grouped.apply(lambda x: x.mean(axis=1)).reset_index(drop=True)\n",
    "# Patients_df.head()"
   ]
  },
  {
   "cell_type": "code",
   "execution_count": 10,
   "id": "b11917b7-1ac0-49ea-9a03-d307c3635067",
   "metadata": {},
   "outputs": [
    {
     "data": {
      "text/html": [
       "<div>\n",
       "<style scoped>\n",
       "    .dataframe tbody tr th:only-of-type {\n",
       "        vertical-align: middle;\n",
       "    }\n",
       "\n",
       "    .dataframe tbody tr th {\n",
       "        vertical-align: top;\n",
       "    }\n",
       "\n",
       "    .dataframe thead th {\n",
       "        text-align: right;\n",
       "    }\n",
       "</style>\n",
       "<table border=\"1\" class=\"dataframe\">\n",
       "  <thead>\n",
       "    <tr style=\"text-align: right;\">\n",
       "      <th></th>\n",
       "      <th>11174</th>\n",
       "      <th>11178</th>\n",
       "      <th>11182</th>\n",
       "      <th>11186</th>\n",
       "      <th>11190</th>\n",
       "      <th>11194</th>\n",
       "      <th>11198</th>\n",
       "      <th>11202</th>\n",
       "      <th>11206</th>\n",
       "      <th>11210</th>\n",
       "      <th>...</th>\n",
       "      <th>5664</th>\n",
       "      <th>5665</th>\n",
       "      <th>5666</th>\n",
       "      <th>5668</th>\n",
       "      <th>5669</th>\n",
       "      <th>5672</th>\n",
       "      <th>5673</th>\n",
       "      <th>5683</th>\n",
       "      <th>5702</th>\n",
       "      <th>5706</th>\n",
       "    </tr>\n",
       "  </thead>\n",
       "  <tbody>\n",
       "    <tr>\n",
       "      <th>0</th>\n",
       "      <td>-0.162340</td>\n",
       "      <td>-0.124077</td>\n",
       "      <td>0.488874</td>\n",
       "      <td>-0.203704</td>\n",
       "      <td>0.140273</td>\n",
       "      <td>0.132526</td>\n",
       "      <td>-0.149614</td>\n",
       "      <td>-0.220407</td>\n",
       "      <td>-0.212424</td>\n",
       "      <td>1.734523</td>\n",
       "      <td>...</td>\n",
       "      <td>-0.540132</td>\n",
       "      <td>-0.551635</td>\n",
       "      <td>-0.574985</td>\n",
       "      <td>-0.307095</td>\n",
       "      <td>-0.575952</td>\n",
       "      <td>-0.549508</td>\n",
       "      <td>-0.481929</td>\n",
       "      <td>-0.152704</td>\n",
       "      <td>3.090238</td>\n",
       "      <td>-0.451351</td>\n",
       "    </tr>\n",
       "    <tr>\n",
       "      <th>1</th>\n",
       "      <td>-1.592178</td>\n",
       "      <td>-0.620937</td>\n",
       "      <td>-0.713870</td>\n",
       "      <td>-0.778313</td>\n",
       "      <td>-1.683587</td>\n",
       "      <td>-0.775737</td>\n",
       "      <td>-0.410247</td>\n",
       "      <td>0.366305</td>\n",
       "      <td>-0.058161</td>\n",
       "      <td>-0.184378</td>\n",
       "      <td>...</td>\n",
       "      <td>0.746434</td>\n",
       "      <td>1.629263</td>\n",
       "      <td>-0.424137</td>\n",
       "      <td>-0.561939</td>\n",
       "      <td>0.208487</td>\n",
       "      <td>0.204424</td>\n",
       "      <td>0.404535</td>\n",
       "      <td>-0.042250</td>\n",
       "      <td>-0.863545</td>\n",
       "      <td>0.296755</td>\n",
       "    </tr>\n",
       "    <tr>\n",
       "      <th>2</th>\n",
       "      <td>0.311638</td>\n",
       "      <td>-0.158153</td>\n",
       "      <td>0.136944</td>\n",
       "      <td>-0.391955</td>\n",
       "      <td>-0.429106</td>\n",
       "      <td>-0.163318</td>\n",
       "      <td>-0.368746</td>\n",
       "      <td>0.778421</td>\n",
       "      <td>0.897505</td>\n",
       "      <td>-0.089421</td>\n",
       "      <td>...</td>\n",
       "      <td>-0.084451</td>\n",
       "      <td>-0.164931</td>\n",
       "      <td>-0.521595</td>\n",
       "      <td>-0.493246</td>\n",
       "      <td>-0.424753</td>\n",
       "      <td>-0.320739</td>\n",
       "      <td>-0.331106</td>\n",
       "      <td>-0.263593</td>\n",
       "      <td>-0.388588</td>\n",
       "      <td>-0.229220</td>\n",
       "    </tr>\n",
       "    <tr>\n",
       "      <th>3</th>\n",
       "      <td>1.304496</td>\n",
       "      <td>-0.376202</td>\n",
       "      <td>0.194040</td>\n",
       "      <td>-0.422480</td>\n",
       "      <td>-0.450739</td>\n",
       "      <td>-0.181910</td>\n",
       "      <td>-0.350838</td>\n",
       "      <td>1.204130</td>\n",
       "      <td>1.709840</td>\n",
       "      <td>-0.105227</td>\n",
       "      <td>...</td>\n",
       "      <td>-0.204399</td>\n",
       "      <td>-0.084452</td>\n",
       "      <td>-0.455883</td>\n",
       "      <td>-0.532100</td>\n",
       "      <td>-0.196402</td>\n",
       "      <td>-0.237641</td>\n",
       "      <td>-0.422252</td>\n",
       "      <td>-0.500768</td>\n",
       "      <td>-0.598246</td>\n",
       "      <td>-0.051802</td>\n",
       "    </tr>\n",
       "    <tr>\n",
       "      <th>4</th>\n",
       "      <td>-0.295632</td>\n",
       "      <td>-0.471200</td>\n",
       "      <td>0.168103</td>\n",
       "      <td>-0.274287</td>\n",
       "      <td>-0.039378</td>\n",
       "      <td>0.275815</td>\n",
       "      <td>0.378081</td>\n",
       "      <td>0.547171</td>\n",
       "      <td>1.118234</td>\n",
       "      <td>-0.380994</td>\n",
       "      <td>...</td>\n",
       "      <td>0.060530</td>\n",
       "      <td>0.003058</td>\n",
       "      <td>0.602462</td>\n",
       "      <td>-0.681788</td>\n",
       "      <td>0.210895</td>\n",
       "      <td>-0.654845</td>\n",
       "      <td>-0.470758</td>\n",
       "      <td>-0.063767</td>\n",
       "      <td>-0.809409</td>\n",
       "      <td>0.014013</td>\n",
       "    </tr>\n",
       "  </tbody>\n",
       "</table>\n",
       "<p>5 rows × 241 columns</p>\n",
       "</div>"
      ],
      "text/plain": [
       "      11174     11178     11182     11186     11190     11194     11198  \\\n",
       "0 -0.162340 -0.124077  0.488874 -0.203704  0.140273  0.132526 -0.149614   \n",
       "1 -1.592178 -0.620937 -0.713870 -0.778313 -1.683587 -0.775737 -0.410247   \n",
       "2  0.311638 -0.158153  0.136944 -0.391955 -0.429106 -0.163318 -0.368746   \n",
       "3  1.304496 -0.376202  0.194040 -0.422480 -0.450739 -0.181910 -0.350838   \n",
       "4 -0.295632 -0.471200  0.168103 -0.274287 -0.039378  0.275815  0.378081   \n",
       "\n",
       "      11202     11206     11210  ...      5664      5665      5666      5668  \\\n",
       "0 -0.220407 -0.212424  1.734523  ... -0.540132 -0.551635 -0.574985 -0.307095   \n",
       "1  0.366305 -0.058161 -0.184378  ...  0.746434  1.629263 -0.424137 -0.561939   \n",
       "2  0.778421  0.897505 -0.089421  ... -0.084451 -0.164931 -0.521595 -0.493246   \n",
       "3  1.204130  1.709840 -0.105227  ... -0.204399 -0.084452 -0.455883 -0.532100   \n",
       "4  0.547171  1.118234 -0.380994  ...  0.060530  0.003058  0.602462 -0.681788   \n",
       "\n",
       "       5669      5672      5673      5683      5702      5706  \n",
       "0 -0.575952 -0.549508 -0.481929 -0.152704  3.090238 -0.451351  \n",
       "1  0.208487  0.204424  0.404535 -0.042250 -0.863545  0.296755  \n",
       "2 -0.424753 -0.320739 -0.331106 -0.263593 -0.388588 -0.229220  \n",
       "3 -0.196402 -0.237641 -0.422252 -0.500768 -0.598246 -0.051802  \n",
       "4  0.210895 -0.654845 -0.470758 -0.063767 -0.809409  0.014013  \n",
       "\n",
       "[5 rows x 241 columns]"
      ]
     },
     "execution_count": 10,
     "metadata": {},
     "output_type": "execute_result"
    }
   ],
   "source": [
    "means, stds = patients_df.mean(axis=1), patients_df.iloc[:, :-1].std(axis=1)\n",
    "z_scores_df = patients_df.iloc[:, :-2].apply(lambda x: z_score(x, means, stds))\n",
    "z_scores_df.head()"
   ]
  },
  {
   "cell_type": "code",
   "execution_count": 11,
   "id": "bdb2d7a1-7c9c-4799-b006-5cc92db7b3fd",
   "metadata": {},
   "outputs": [],
   "source": [
    "scores_apoe_df = pd.DataFrame([])\n",
    "scores_apoe_df[\"scores\"] = antilogit_classifier_score(z_scores_df.T @ coefficients)"
   ]
  },
  {
   "cell_type": "code",
   "execution_count": 12,
   "id": "e35a1e7d-c2e1-4000-a125-8db6d35a579b",
   "metadata": {},
   "outputs": [],
   "source": [
    "scores_apoe_df.index = [int(val) for val in scores_apoe_df.index]"
   ]
  },
  {
   "cell_type": "code",
   "execution_count": 13,
   "id": "5c25576b-7ddf-47f4-b384-bb84e6aa3bb8",
   "metadata": {},
   "outputs": [],
   "source": [
    "scores_apoe_df[\"Apoe status\"] = pathos.loc[list(set(scores_apoe_df.index).intersection(set(pathos.index)))][\"Apoe status\"]"
   ]
  },
  {
   "cell_type": "code",
   "execution_count": 14,
   "id": "ee80e3ce-215f-4829-a282-d9ec4877dab8",
   "metadata": {},
   "outputs": [
    {
     "data": {
      "text/plain": [
       "Apoe status\n",
       "E3/E3    41\n",
       "E3/E4    29\n",
       "E2/E3     8\n",
       "E4/E4     5\n",
       "E2/E4     4\n",
       "Name: count, dtype: int64"
      ]
     },
     "execution_count": 14,
     "metadata": {},
     "output_type": "execute_result"
    }
   ],
   "source": [
    "scores_apoe_df[\"Apoe status\"].value_counts()"
   ]
  }
 ],
 "metadata": {
  "kernelspec": {
   "display_name": "molstethenv",
   "language": "python",
   "name": "python3"
  },
  "language_info": {
   "codemirror_mode": {
    "name": "ipython",
    "version": 3
   },
   "file_extension": ".py",
   "mimetype": "text/x-python",
   "name": "python",
   "nbconvert_exporter": "python",
   "pygments_lexer": "ipython3",
   "version": "3.12.4"
  }
 },
 "nbformat": 4,
 "nbformat_minor": 5
}

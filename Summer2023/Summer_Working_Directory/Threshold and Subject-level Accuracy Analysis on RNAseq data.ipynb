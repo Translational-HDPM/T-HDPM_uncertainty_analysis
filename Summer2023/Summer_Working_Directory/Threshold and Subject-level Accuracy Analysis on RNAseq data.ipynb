{
 "cells": [
  {
   "cell_type": "markdown",
   "id": "45dc6561-965d-4811-ab2c-eb4323ec4317",
   "metadata": {},
   "source": [
    "## Threshold and Subject-level Accuracy Analysis on RNAseq data\n",
    "### Authors: D. Tolosa, P. Joshi, R. Banda, B. Ziemann"
   ]
  },
  {
   "cell_type": "markdown",
   "id": "b946c25c-c959-4a43-96b5-915671f88ce3",
   "metadata": {},
   "source": [
    "The main objective of the notebook is to simulate the variation for a given subject at different levels of relative standard deviation (RSD) of Transcripts Per Million (TPM) and then to demonstrate how the score varies. \n",
    "\n",
    "We have three main outputs from the notebook. <br>\n",
    "Output 1: Scatter plot showing the simulated classifier scores vs the original classifier scores for all subjects. <br>\n",
    "Output 2: File containing the subject-wise accuracy by calculating number of simulations that fall in FP and FN for a subject at a given threshold for further analysis.<br>\n",
    "Output 3: File containing the False Positives, False Negatives, True Positives and True Negatives across 243 subjects at a given %RSD for further analysis.<br>\n",
    "Output 4: v-plot od classifier scores vs accuracies (agreement)<br>\n",
    "\n",
    "**_This project was developed at The Data Mine, Purdue University, in partnership with Molecular Stethoscope._**"
   ]
  },
  {
   "cell_type": "code",
   "execution_count": 1,
   "id": "ca87bbb6-6ebc-48c7-a30a-6e357b8ef364",
   "metadata": {},
   "outputs": [
    {
     "ename": "FileNotFoundError",
     "evalue": "[Errno 2] No such file or directory: '/anvil/projects/tdm/corporate/molecular-stethoscope/data-s23/ClusterMarkers_1819ADcohort.congregated_DR.xlsx'",
     "output_type": "error",
     "traceback": [
      "\u001b[1;31m---------------------------------------------------------------------------\u001b[0m",
      "\u001b[1;31mFileNotFoundError\u001b[0m                         Traceback (most recent call last)",
      "Cell \u001b[1;32mIn[1], line 7\u001b[0m\n\u001b[0;32m      4\u001b[0m \u001b[38;5;28;01mimport\u001b[39;00m \u001b[38;5;21;01mseaborn\u001b[39;00m \u001b[38;5;28;01mas\u001b[39;00m \u001b[38;5;21;01msns\u001b[39;00m\n\u001b[0;32m      5\u001b[0m \u001b[38;5;66;03m### Reding csv file containing 243 subjects and their raw TPM counts across 1059 genes\u001b[39;00m\n\u001b[0;32m      6\u001b[0m \u001b[38;5;66;03m### Source of data\u001b[39;00m\n\u001b[1;32m----> 7\u001b[0m myDF \u001b[38;5;241m=\u001b[39m \u001b[43mpd\u001b[49m\u001b[38;5;241;43m.\u001b[39;49m\u001b[43mread_excel\u001b[49m\u001b[43m(\u001b[49m\u001b[38;5;124;43m\"\u001b[39;49m\u001b[38;5;124;43m/anvil/projects/tdm/corporate/molecular-stethoscope/data-s23/ClusterMarkers_1819ADcohort.congregated_DR.xlsx\u001b[39;49m\u001b[38;5;124;43m\"\u001b[39;49m\u001b[43m,\u001b[49m\u001b[43m \u001b[49m\u001b[43msheet_name\u001b[49m\u001b[43m \u001b[49m\u001b[38;5;241;43m=\u001b[39;49m\u001b[43m \u001b[49m\u001b[38;5;241;43m1\u001b[39;49m\u001b[43m)\u001b[49m\n\u001b[0;32m      8\u001b[0m \u001b[38;5;66;03m# setting index row name to the gene id\u001b[39;00m\n\u001b[0;32m      9\u001b[0m myDF \u001b[38;5;241m=\u001b[39m myDF\u001b[38;5;241m.\u001b[39mset_index(\u001b[38;5;124m'\u001b[39m\u001b[38;5;124mgene_id\u001b[39m\u001b[38;5;124m'\u001b[39m)\n",
      "File \u001b[1;32m~\\anaconda3\\lib\\site-packages\\pandas\\util\\_decorators.py:311\u001b[0m, in \u001b[0;36mdeprecate_nonkeyword_arguments.<locals>.decorate.<locals>.wrapper\u001b[1;34m(*args, **kwargs)\u001b[0m\n\u001b[0;32m    305\u001b[0m \u001b[38;5;28;01mif\u001b[39;00m \u001b[38;5;28mlen\u001b[39m(args) \u001b[38;5;241m>\u001b[39m num_allow_args:\n\u001b[0;32m    306\u001b[0m     warnings\u001b[38;5;241m.\u001b[39mwarn(\n\u001b[0;32m    307\u001b[0m         msg\u001b[38;5;241m.\u001b[39mformat(arguments\u001b[38;5;241m=\u001b[39marguments),\n\u001b[0;32m    308\u001b[0m         \u001b[38;5;167;01mFutureWarning\u001b[39;00m,\n\u001b[0;32m    309\u001b[0m         stacklevel\u001b[38;5;241m=\u001b[39mstacklevel,\n\u001b[0;32m    310\u001b[0m     )\n\u001b[1;32m--> 311\u001b[0m \u001b[38;5;28;01mreturn\u001b[39;00m func(\u001b[38;5;241m*\u001b[39margs, \u001b[38;5;241m*\u001b[39m\u001b[38;5;241m*\u001b[39mkwargs)\n",
      "File \u001b[1;32m~\\anaconda3\\lib\\site-packages\\pandas\\io\\excel\\_base.py:457\u001b[0m, in \u001b[0;36mread_excel\u001b[1;34m(io, sheet_name, header, names, index_col, usecols, squeeze, dtype, engine, converters, true_values, false_values, skiprows, nrows, na_values, keep_default_na, na_filter, verbose, parse_dates, date_parser, thousands, decimal, comment, skipfooter, convert_float, mangle_dupe_cols, storage_options)\u001b[0m\n\u001b[0;32m    455\u001b[0m \u001b[38;5;28;01mif\u001b[39;00m \u001b[38;5;129;01mnot\u001b[39;00m \u001b[38;5;28misinstance\u001b[39m(io, ExcelFile):\n\u001b[0;32m    456\u001b[0m     should_close \u001b[38;5;241m=\u001b[39m \u001b[38;5;28;01mTrue\u001b[39;00m\n\u001b[1;32m--> 457\u001b[0m     io \u001b[38;5;241m=\u001b[39m \u001b[43mExcelFile\u001b[49m\u001b[43m(\u001b[49m\u001b[43mio\u001b[49m\u001b[43m,\u001b[49m\u001b[43m \u001b[49m\u001b[43mstorage_options\u001b[49m\u001b[38;5;241;43m=\u001b[39;49m\u001b[43mstorage_options\u001b[49m\u001b[43m,\u001b[49m\u001b[43m \u001b[49m\u001b[43mengine\u001b[49m\u001b[38;5;241;43m=\u001b[39;49m\u001b[43mengine\u001b[49m\u001b[43m)\u001b[49m\n\u001b[0;32m    458\u001b[0m \u001b[38;5;28;01melif\u001b[39;00m engine \u001b[38;5;129;01mand\u001b[39;00m engine \u001b[38;5;241m!=\u001b[39m io\u001b[38;5;241m.\u001b[39mengine:\n\u001b[0;32m    459\u001b[0m     \u001b[38;5;28;01mraise\u001b[39;00m \u001b[38;5;167;01mValueError\u001b[39;00m(\n\u001b[0;32m    460\u001b[0m         \u001b[38;5;124m\"\u001b[39m\u001b[38;5;124mEngine should not be specified when passing \u001b[39m\u001b[38;5;124m\"\u001b[39m\n\u001b[0;32m    461\u001b[0m         \u001b[38;5;124m\"\u001b[39m\u001b[38;5;124man ExcelFile - ExcelFile already has the engine set\u001b[39m\u001b[38;5;124m\"\u001b[39m\n\u001b[0;32m    462\u001b[0m     )\n",
      "File \u001b[1;32m~\\anaconda3\\lib\\site-packages\\pandas\\io\\excel\\_base.py:1376\u001b[0m, in \u001b[0;36mExcelFile.__init__\u001b[1;34m(self, path_or_buffer, engine, storage_options)\u001b[0m\n\u001b[0;32m   1374\u001b[0m     ext \u001b[38;5;241m=\u001b[39m \u001b[38;5;124m\"\u001b[39m\u001b[38;5;124mxls\u001b[39m\u001b[38;5;124m\"\u001b[39m\n\u001b[0;32m   1375\u001b[0m \u001b[38;5;28;01melse\u001b[39;00m:\n\u001b[1;32m-> 1376\u001b[0m     ext \u001b[38;5;241m=\u001b[39m \u001b[43minspect_excel_format\u001b[49m\u001b[43m(\u001b[49m\n\u001b[0;32m   1377\u001b[0m \u001b[43m        \u001b[49m\u001b[43mcontent_or_path\u001b[49m\u001b[38;5;241;43m=\u001b[39;49m\u001b[43mpath_or_buffer\u001b[49m\u001b[43m,\u001b[49m\u001b[43m \u001b[49m\u001b[43mstorage_options\u001b[49m\u001b[38;5;241;43m=\u001b[39;49m\u001b[43mstorage_options\u001b[49m\n\u001b[0;32m   1378\u001b[0m \u001b[43m    \u001b[49m\u001b[43m)\u001b[49m\n\u001b[0;32m   1379\u001b[0m     \u001b[38;5;28;01mif\u001b[39;00m ext \u001b[38;5;129;01mis\u001b[39;00m \u001b[38;5;28;01mNone\u001b[39;00m:\n\u001b[0;32m   1380\u001b[0m         \u001b[38;5;28;01mraise\u001b[39;00m \u001b[38;5;167;01mValueError\u001b[39;00m(\n\u001b[0;32m   1381\u001b[0m             \u001b[38;5;124m\"\u001b[39m\u001b[38;5;124mExcel file format cannot be determined, you must specify \u001b[39m\u001b[38;5;124m\"\u001b[39m\n\u001b[0;32m   1382\u001b[0m             \u001b[38;5;124m\"\u001b[39m\u001b[38;5;124man engine manually.\u001b[39m\u001b[38;5;124m\"\u001b[39m\n\u001b[0;32m   1383\u001b[0m         )\n",
      "File \u001b[1;32m~\\anaconda3\\lib\\site-packages\\pandas\\io\\excel\\_base.py:1250\u001b[0m, in \u001b[0;36minspect_excel_format\u001b[1;34m(content_or_path, storage_options)\u001b[0m\n\u001b[0;32m   1247\u001b[0m \u001b[38;5;28;01mif\u001b[39;00m \u001b[38;5;28misinstance\u001b[39m(content_or_path, \u001b[38;5;28mbytes\u001b[39m):\n\u001b[0;32m   1248\u001b[0m     content_or_path \u001b[38;5;241m=\u001b[39m BytesIO(content_or_path)\n\u001b[1;32m-> 1250\u001b[0m \u001b[38;5;28;01mwith\u001b[39;00m \u001b[43mget_handle\u001b[49m\u001b[43m(\u001b[49m\n\u001b[0;32m   1251\u001b[0m \u001b[43m    \u001b[49m\u001b[43mcontent_or_path\u001b[49m\u001b[43m,\u001b[49m\u001b[43m \u001b[49m\u001b[38;5;124;43m\"\u001b[39;49m\u001b[38;5;124;43mrb\u001b[39;49m\u001b[38;5;124;43m\"\u001b[39;49m\u001b[43m,\u001b[49m\u001b[43m \u001b[49m\u001b[43mstorage_options\u001b[49m\u001b[38;5;241;43m=\u001b[39;49m\u001b[43mstorage_options\u001b[49m\u001b[43m,\u001b[49m\u001b[43m \u001b[49m\u001b[43mis_text\u001b[49m\u001b[38;5;241;43m=\u001b[39;49m\u001b[38;5;28;43;01mFalse\u001b[39;49;00m\n\u001b[0;32m   1252\u001b[0m \u001b[43m\u001b[49m\u001b[43m)\u001b[49m \u001b[38;5;28;01mas\u001b[39;00m handle:\n\u001b[0;32m   1253\u001b[0m     stream \u001b[38;5;241m=\u001b[39m handle\u001b[38;5;241m.\u001b[39mhandle\n\u001b[0;32m   1254\u001b[0m     stream\u001b[38;5;241m.\u001b[39mseek(\u001b[38;5;241m0\u001b[39m)\n",
      "File \u001b[1;32m~\\anaconda3\\lib\\site-packages\\pandas\\io\\common.py:795\u001b[0m, in \u001b[0;36mget_handle\u001b[1;34m(path_or_buf, mode, encoding, compression, memory_map, is_text, errors, storage_options)\u001b[0m\n\u001b[0;32m    786\u001b[0m         handle \u001b[38;5;241m=\u001b[39m \u001b[38;5;28mopen\u001b[39m(\n\u001b[0;32m    787\u001b[0m             handle,\n\u001b[0;32m    788\u001b[0m             ioargs\u001b[38;5;241m.\u001b[39mmode,\n\u001b[1;32m   (...)\u001b[0m\n\u001b[0;32m    791\u001b[0m             newline\u001b[38;5;241m=\u001b[39m\u001b[38;5;124m\"\u001b[39m\u001b[38;5;124m\"\u001b[39m,\n\u001b[0;32m    792\u001b[0m         )\n\u001b[0;32m    793\u001b[0m     \u001b[38;5;28;01melse\u001b[39;00m:\n\u001b[0;32m    794\u001b[0m         \u001b[38;5;66;03m# Binary mode\u001b[39;00m\n\u001b[1;32m--> 795\u001b[0m         handle \u001b[38;5;241m=\u001b[39m \u001b[38;5;28;43mopen\u001b[39;49m\u001b[43m(\u001b[49m\u001b[43mhandle\u001b[49m\u001b[43m,\u001b[49m\u001b[43m \u001b[49m\u001b[43mioargs\u001b[49m\u001b[38;5;241;43m.\u001b[39;49m\u001b[43mmode\u001b[49m\u001b[43m)\u001b[49m\n\u001b[0;32m    796\u001b[0m     handles\u001b[38;5;241m.\u001b[39mappend(handle)\n\u001b[0;32m    798\u001b[0m \u001b[38;5;66;03m# Convert BytesIO or file objects passed with an encoding\u001b[39;00m\n",
      "\u001b[1;31mFileNotFoundError\u001b[0m: [Errno 2] No such file or directory: '/anvil/projects/tdm/corporate/molecular-stethoscope/data-s23/ClusterMarkers_1819ADcohort.congregated_DR.xlsx'"
     ]
    }
   ],
   "source": [
    "import pandas as pd\n",
    "import numpy as np\n",
    "import matplotlib.pyplot as plt\n",
    "import seaborn as sns\n",
    "### Reding csv file containing 243 subjects and their raw TPM counts across 1059 genes\n",
    "### Source of data\n",
    "myDF = pd.read_excel(\"/anvil/projects/tdm/corporate/molecular-stethoscope/data-s23/ClusterMarkers_1819ADcohort.congregated_DR.xlsx\", sheet_name = 1)\n",
    "# setting index row name to the gene id\n",
    "myDF = myDF.set_index('gene_id')"
   ]
  },
  {
   "cell_type": "markdown",
   "id": "b01cace7-e281-42ca-8d0e-22d643b0b780",
   "metadata": {},
   "source": [
    "#### Step 1: Data prep"
   ]
  },
  {
   "cell_type": "code",
   "execution_count": 2,
   "id": "125613d4-613c-4fa3-962d-589de804d26b",
   "metadata": {},
   "outputs": [],
   "source": [
    "#Filtering out rows: discarding the ERCC rows, ERCC is a control protocol for validation of RNA sequencing\n",
    "Patients_df = myDF[~myDF.loc[:,'Coeff'].isnull()]\n",
    "\n",
    "# We store the coefficients(betas) of the linear classifier in an array.\n",
    "coefficients = np.nan_to_num(np.array(Patients_df.loc[:, \"Coeff\"]))\n",
    "\n",
    "# Filtering out columns with patient data\n",
    "Patients_df = Patients_df.filter(regex='^\\d+')"
   ]
  },
  {
   "cell_type": "code",
   "execution_count": 3,
   "id": "25b39820-8f08-4873-9eac-eca90519d082",
   "metadata": {},
   "outputs": [],
   "source": [
    "# group columns by patient id\n",
    "grouped_cols = Patients_df.columns.str.split('-').str[0]\n",
    "\n",
    "# group columns by patient id and r1/r2 suffixes\n",
    "grouped = Patients_df.groupby(grouped_cols, axis=1)\n",
    "\n",
    "# apply the mean function to the r1 and r2 columns for each group\n",
    "# taking mean of the replicates for subjects with multiple replicates\n",
    "Patients_df = grouped.apply(lambda x: x.mean(axis=1)).reset_index(drop=True)\n",
    "# Patients_df.head()"
   ]
  },
  {
   "cell_type": "markdown",
   "id": "8f9f64ec-32be-4fc1-9088-4ff16d423428",
   "metadata": {},
   "source": [
    "#### Step 2: Computing Zscores from TPM data"
   ]
  },
  {
   "cell_type": "code",
   "execution_count": 4,
   "id": "aa0969c0-e8cb-42b4-9a25-d99a9a569fbb",
   "metadata": {},
   "outputs": [],
   "source": [
    "Patients_df['Mean']= Patients_df.mean(axis=1)\n",
    "Patients_df['Std']=Patients_df.iloc[:,:-1].std(axis=1)\n",
    "#Patients_df.head()"
   ]
  },
  {
   "cell_type": "code",
   "execution_count": 5,
   "id": "90f81fd6-4ab2-484a-88c5-d482d79c9d08",
   "metadata": {},
   "outputs": [],
   "source": [
    "# We define a function whose input is TPM and outputs the corresponding Zscore\n",
    "def z_score(x):\n",
    "    return (x-x['Mean'])/x['Std']"
   ]
  },
  {
   "cell_type": "code",
   "execution_count": 23,
   "id": "1a38a38e-e8fd-47ef-ae7f-9f4891441156",
   "metadata": {},
   "outputs": [
    {
     "data": {
      "text/html": [
       "<div>\n",
       "<style scoped>\n",
       "    .dataframe tbody tr th:only-of-type {\n",
       "        vertical-align: middle;\n",
       "    }\n",
       "\n",
       "    .dataframe tbody tr th {\n",
       "        vertical-align: top;\n",
       "    }\n",
       "\n",
       "    .dataframe thead th {\n",
       "        text-align: right;\n",
       "    }\n",
       "</style>\n",
       "<table border=\"1\" class=\"dataframe\">\n",
       "  <thead>\n",
       "    <tr style=\"text-align: right;\">\n",
       "      <th></th>\n",
       "      <th>11174</th>\n",
       "      <th>11178</th>\n",
       "      <th>11182</th>\n",
       "      <th>11186</th>\n",
       "      <th>11190</th>\n",
       "      <th>11194</th>\n",
       "      <th>11198</th>\n",
       "      <th>11202</th>\n",
       "      <th>11206</th>\n",
       "      <th>11210</th>\n",
       "      <th>...</th>\n",
       "      <th>5669</th>\n",
       "      <th>5672</th>\n",
       "      <th>5673</th>\n",
       "      <th>5683</th>\n",
       "      <th>5702</th>\n",
       "      <th>5706</th>\n",
       "      <th>5767</th>\n",
       "      <th>5784</th>\n",
       "      <th>Mean</th>\n",
       "      <th>Std</th>\n",
       "    </tr>\n",
       "  </thead>\n",
       "  <tbody>\n",
       "    <tr>\n",
       "      <th>0</th>\n",
       "      <td>-0.162578</td>\n",
       "      <td>-0.124259</td>\n",
       "      <td>0.489590</td>\n",
       "      <td>-0.204002</td>\n",
       "      <td>0.140478</td>\n",
       "      <td>0.132721</td>\n",
       "      <td>-0.149833</td>\n",
       "      <td>-0.220730</td>\n",
       "      <td>-0.212735</td>\n",
       "      <td>1.737066</td>\n",
       "      <td>...</td>\n",
       "      <td>-0.576796</td>\n",
       "      <td>-0.550314</td>\n",
       "      <td>-0.482636</td>\n",
       "      <td>-0.152928</td>\n",
       "      <td>3.094769</td>\n",
       "      <td>-0.452013</td>\n",
       "      <td>-0.576489</td>\n",
       "      <td>-0.539972</td>\n",
       "      <td>0.0</td>\n",
       "      <td>0.333284</td>\n",
       "    </tr>\n",
       "    <tr>\n",
       "      <th>1</th>\n",
       "      <td>-1.592300</td>\n",
       "      <td>-0.620985</td>\n",
       "      <td>-0.713924</td>\n",
       "      <td>-0.778373</td>\n",
       "      <td>-1.683716</td>\n",
       "      <td>-0.775797</td>\n",
       "      <td>-0.410279</td>\n",
       "      <td>0.366333</td>\n",
       "      <td>-0.058165</td>\n",
       "      <td>-0.184392</td>\n",
       "      <td>...</td>\n",
       "      <td>0.208503</td>\n",
       "      <td>0.204440</td>\n",
       "      <td>0.404566</td>\n",
       "      <td>-0.042253</td>\n",
       "      <td>-0.863611</td>\n",
       "      <td>0.296777</td>\n",
       "      <td>1.486142</td>\n",
       "      <td>0.979406</td>\n",
       "      <td>0.0</td>\n",
       "      <td>-1.807599</td>\n",
       "    </tr>\n",
       "    <tr>\n",
       "      <th>2</th>\n",
       "      <td>0.312254</td>\n",
       "      <td>-0.158466</td>\n",
       "      <td>0.137214</td>\n",
       "      <td>-0.392729</td>\n",
       "      <td>-0.429953</td>\n",
       "      <td>-0.163641</td>\n",
       "      <td>-0.369475</td>\n",
       "      <td>0.779959</td>\n",
       "      <td>0.899278</td>\n",
       "      <td>-0.089598</td>\n",
       "      <td>...</td>\n",
       "      <td>-0.425592</td>\n",
       "      <td>-0.321372</td>\n",
       "      <td>-0.331760</td>\n",
       "      <td>-0.264114</td>\n",
       "      <td>-0.389355</td>\n",
       "      <td>-0.229673</td>\n",
       "      <td>-0.300926</td>\n",
       "      <td>-0.216613</td>\n",
       "      <td>0.0</td>\n",
       "      <td>0.214287</td>\n",
       "    </tr>\n",
       "    <tr>\n",
       "      <th>3</th>\n",
       "      <td>1.307153</td>\n",
       "      <td>-0.376968</td>\n",
       "      <td>0.194435</td>\n",
       "      <td>-0.423341</td>\n",
       "      <td>-0.451657</td>\n",
       "      <td>-0.182281</td>\n",
       "      <td>-0.351552</td>\n",
       "      <td>1.206583</td>\n",
       "      <td>1.713323</td>\n",
       "      <td>-0.105442</td>\n",
       "      <td>...</td>\n",
       "      <td>-0.196802</td>\n",
       "      <td>-0.238125</td>\n",
       "      <td>-0.423112</td>\n",
       "      <td>-0.501788</td>\n",
       "      <td>-0.599465</td>\n",
       "      <td>-0.051907</td>\n",
       "      <td>-0.111495</td>\n",
       "      <td>-0.131109</td>\n",
       "      <td>0.0</td>\n",
       "      <td>0.218313</td>\n",
       "    </tr>\n",
       "    <tr>\n",
       "      <th>4</th>\n",
       "      <td>-0.296106</td>\n",
       "      <td>-0.471955</td>\n",
       "      <td>0.168373</td>\n",
       "      <td>-0.274727</td>\n",
       "      <td>-0.039441</td>\n",
       "      <td>0.276256</td>\n",
       "      <td>0.378686</td>\n",
       "      <td>0.548047</td>\n",
       "      <td>1.120024</td>\n",
       "      <td>-0.381604</td>\n",
       "      <td>...</td>\n",
       "      <td>0.211233</td>\n",
       "      <td>-0.655893</td>\n",
       "      <td>-0.471511</td>\n",
       "      <td>-0.063869</td>\n",
       "      <td>-0.810704</td>\n",
       "      <td>0.014036</td>\n",
       "      <td>-0.505638</td>\n",
       "      <td>-0.476171</td>\n",
       "      <td>0.0</td>\n",
       "      <td>0.189296</td>\n",
       "    </tr>\n",
       "  </tbody>\n",
       "</table>\n",
       "<p>5 rows × 245 columns</p>\n",
       "</div>"
      ],
      "text/plain": [
       "      11174     11178     11182     11186     11190     11194     11198  \\\n",
       "0 -0.162578 -0.124259  0.489590 -0.204002  0.140478  0.132721 -0.149833   \n",
       "1 -1.592300 -0.620985 -0.713924 -0.778373 -1.683716 -0.775797 -0.410279   \n",
       "2  0.312254 -0.158466  0.137214 -0.392729 -0.429953 -0.163641 -0.369475   \n",
       "3  1.307153 -0.376968  0.194435 -0.423341 -0.451657 -0.182281 -0.351552   \n",
       "4 -0.296106 -0.471955  0.168373 -0.274727 -0.039441  0.276256  0.378686   \n",
       "\n",
       "      11202     11206     11210  ...      5669      5672      5673      5683  \\\n",
       "0 -0.220730 -0.212735  1.737066  ... -0.576796 -0.550314 -0.482636 -0.152928   \n",
       "1  0.366333 -0.058165 -0.184392  ...  0.208503  0.204440  0.404566 -0.042253   \n",
       "2  0.779959  0.899278 -0.089598  ... -0.425592 -0.321372 -0.331760 -0.264114   \n",
       "3  1.206583  1.713323 -0.105442  ... -0.196802 -0.238125 -0.423112 -0.501788   \n",
       "4  0.548047  1.120024 -0.381604  ...  0.211233 -0.655893 -0.471511 -0.063869   \n",
       "\n",
       "       5702      5706      5767      5784  Mean       Std  \n",
       "0  3.094769 -0.452013 -0.576489 -0.539972   0.0  0.333284  \n",
       "1 -0.863611  0.296777  1.486142  0.979406   0.0 -1.807599  \n",
       "2 -0.389355 -0.229673 -0.300926 -0.216613   0.0  0.214287  \n",
       "3 -0.599465 -0.051907 -0.111495 -0.131109   0.0  0.218313  \n",
       "4 -0.810704  0.014036 -0.505638 -0.476171   0.0  0.189296  \n",
       "\n",
       "[5 rows x 245 columns]"
      ]
     },
     "execution_count": 23,
     "metadata": {},
     "output_type": "execute_result"
    }
   ],
   "source": [
    "# Computing and storing zscores\n",
    "Patients_df_zScore = Patients_df.apply(lambda x: z_score(x), axis=1)\n",
    "Patients_df_zScore.head()"
   ]
  },
  {
   "cell_type": "code",
   "execution_count": 34,
   "id": "4900e8f7-920b-40c9-a995-be8b3f744b63",
   "metadata": {},
   "outputs": [],
   "source": [
    "patient_id= list(Patients_df_zScore.columns.values)\n",
    "patient_id = patient_id[0:243]\n",
    "#patient_id"
   ]
  },
  {
   "cell_type": "markdown",
   "id": "feef5b2f-9d11-4c17-a7d4-65a06e8ba3ff",
   "metadata": {},
   "source": [
    "#### Step 3: Defining Monte carlo simulation and classifier functions"
   ]
  },
  {
   "cell_type": "code",
   "execution_count": 7,
   "id": "4bcbf0d2-4e08-4e3d-beba-17ca7569a28c",
   "metadata": {},
   "outputs": [],
   "source": [
    "np.random.seed(46215423)\n",
    "\n",
    "# Sampling function performing the Monte Carlo simulations\n",
    "def Simulation(means, std, coefficients):\n",
    "    return np.sum(np.multiply(coefficients, np.random.normal(means, std, size=(1, len(coefficients)))))\n",
    "\n",
    "# Function to perform anti-logit operation on the linear score \n",
    "def cl_score(linear_score, gamma = 0):\n",
    "    temp = gamma + linear_score\n",
    "    classifier_score = np.exp(temp) / (1 + np.exp(temp))\n",
    "    return classifier_score\n",
    "\n",
    "# Function to calculate subject wise mean and std of simulated scores \n",
    "def run_sim_one_patient_mean_sd(col,percent):\n",
    "    std = [percent/100 * val for val in col]\n",
    "    std = np.abs(std)\n",
    "    temp_Sim = [Simulation(col, std, coefficients) for _ in range(numRuns)]\n",
    "    return [np.mean(temp_Sim),np.std(temp_Sim)]\n",
    "\n",
    "# Function to calculate the classifier score for each simulation of \"num_runs\" simulations, corresponding to each subject\n",
    "def run_sim_one_patient(col, percent, num_runs):\n",
    "    std = [percent/100 * val for val in col]\n",
    "    std = np.abs(std)\n",
    "    temp_Sim = np.asarray([cl_score(Simulation(col, std, coefficients)) for _ in range(num_runs)])\n",
    "    return temp_Sim\n",
    "\n",
    "# This score is the classifer linear score we want to compare with the simulated scores\n",
    "def linear_score(coefficients, col):\n",
    "    linear_score = np.sum(coefficients * col, axis=0)\n",
    "    return linear_score"
   ]
  },
  {
   "cell_type": "markdown",
   "id": "7cd21587-d7ee-4e43-96c6-a6ee102b1e3e",
   "metadata": {
    "tags": []
   },
   "source": [
    "#### Step 4: (Hyperparameters) We decide on number of simulations per subject (num_runs), assumed variation on TPM counts (uncertainty), and a classification threshold (thresh) ---\n",
    "##### num_runs is the number of scores we will generate per patient, each score is generated by choosing a TPM value from a normal distribution that has the actual value as mean (or the average of the TPM counts if there are replicates) and std deviation determined by the variable 'uncertainty'."
   ]
  },
  {
   "cell_type": "code",
   "execution_count": 8,
   "id": "ecd33d2e-8d38-47b9-823b-b8314f425a59",
   "metadata": {},
   "outputs": [],
   "source": [
    "num_runs = 1000\n",
    "uncertainty = 25\n",
    "thresh = 0.04874941"
   ]
  },
  {
   "cell_type": "markdown",
   "id": "53a133ce-d356-43d3-858b-89fc9736a9be",
   "metadata": {},
   "source": [
    "#### Step 5: Defining a function that plots the uncertainty around the threshold, and returns the figure, false positive count, false negative count, and number of subjects with unreliable classification for the specified variation and threshold."
   ]
  },
  {
   "cell_type": "code",
   "execution_count": 14,
   "id": "a2b48058-0e24-4306-83bc-53bc1a6df76d",
   "metadata": {},
   "outputs": [],
   "source": [
    "def plot_uncert_at_thresh(num_runs , uncertainty, thresh ):\n",
    "    \n",
    "    \n",
    "    \"\"\"The purpose of this function is to produce 2 things based on %RSD (uncertainty), threshold (thresh), number of MC simulations (num_runs) :\n",
    "    1. Figure to show the scattering based on classifier scores of simulations against subject.\n",
    "    2. False Positves/Negatives\n",
    "    \n",
    "    pseudocode:\n",
    "    1.  for a range of %RSD, the code starts with the first %RSD.\n",
    "    2a. for each subject, it calculates the linear score by multiplying the z-scores present in dataframe \"Patients_df_zScore\"  by coefficient. Function used: linear_score\n",
    "    2b. then it performs anti-logit operation on the linear score to get the classifier score.  Function used: cl_score \n",
    "    3.  similarly, \"scores\" stores the classifier score for each simulation of \"num_runs\"simulations, corresponding to each subject. Function used: run_sim_one_patient\n",
    "    4a. since, we will plot the simulation scores against the subject scores, x_data creates the same array shape for subject scores as simulation scores.\n",
    "    4b. y_data is just scores for the simplicity.\n",
    "    5.  Now coming to each simuation score in each subject: we will sort out the simulation as FP, FN, TP, TN based on threshold using if-else condtions. this code \n",
    "        will run for num_runs.\n",
    "    6.  based on FP, FN, TP, TN we will calculate the accuracy.\n",
    "    7.  the process 2-6 will be repeated for each subject.\n",
    "    8.  A scatter plot will be produced using simulation scores on y-axis and subject scores on x-axis, two perpendicular lines passing the thresholds on x and y axis\n",
    "     will  categorize the scatter dots into FP, FN , TP and TN.\n",
    "    \n",
    "    \n",
    "    Example input: sub_accuracy(400, 50, 0.87)\n",
    "    \"\"\"\n",
    "    \n",
    "    false_pos = 0 # counter, stores number of points on second quadrant\n",
    "    false_neg = 0\n",
    "    num_subj_unreliable = np.zeros(243) # keeps track of subjects whose score is unreliable under the assumed variation (0 is fine, 1 is unreliable)\n",
    "    fig = plt.figure(figsize=(10,10))\n",
    "    #for i in range(243):\n",
    "    for i in range(243):\n",
    "        scores = run_sim_one_patient(Patients_df_zScore.iloc[:, i], uncertainty, num_runs)\n",
    "        y_0 = cl_score(linear_score(coefficients, Patients_df_zScore.iloc[:, i]))\n",
    "        x_data = np.ones_like(scores) * y_0\n",
    "        y_data = scores\n",
    "        colour = np.zeros_like(x_data)\n",
    "        for j in range(len(x_data)):\n",
    "            if x_data[j] > thresh and y_data[j] < thresh:\n",
    "                colour[j] = 1\n",
    "                false_neg = false_neg + 1\n",
    "                num_subj_unreliable[i] = 1\n",
    "            elif x_data[j] < thresh and y_data[j]> thresh:\n",
    "                colour[j] = 2\n",
    "                false_pos = false_pos + 1\n",
    "                num_subj_unreliable[i] = 1\n",
    "        plt.scatter(x_data, y_data, c=colour, cmap = 'Dark2_r' ,alpha = 0.15, s=100)\n",
    "    plt.axvline(x = thresh, color = 'g', linestyle= '--')\n",
    "    plt.axhline(y = thresh, color = 'g', linestyle= '--')\n",
    "    #plt.xlim([0.425, 0.575])\n",
    "    #plt.ylim([0.425, 0.575])\n",
    "    plt.xlabel(\"Classifier score\", fontsize= 24)\n",
    "    plt.ylabel(\"Simulated scores\", fontsize = 24)\n",
    "    plt.title('Uncertainty around threshold', fontsize = 28)\n",
    "    ### We must either avoid labeling like the lines commented out below, or replace it for agreement/disagreement.\n",
    "    #plt.text(0.4, 0.1, 'TN', fontsize = 20)\n",
    "    #plt.text(0.97, 0.1, 'FN', fontsize =20)\n",
    "    #plt.text(0.4, 0.9, 'FP', fontsize =20)\n",
    "    #plt.text(0.97, 0.9, 'TP', fontsize =20)\n",
    "\n",
    "    #plt.savefig('figures/uncert_around_thresh_25_RSD.png')\n",
    "\n",
    "    return [ fig , false_pos , false_neg , (np.sum(num_subj_unreliable)) ]"
   ]
  },
  {
   "cell_type": "code",
   "execution_count": 9,
   "id": "1d6e013b-e895-493b-a2fc-b32baf7cb57a",
   "metadata": {},
   "outputs": [
    {
     "data": {
      "text/plain": [
       "0.048749412068496714"
      ]
     },
     "execution_count": 9,
     "metadata": {},
     "output_type": "execute_result"
    }
   ],
   "source": [
    "cl_score(-2.97108439) # checking the threshold value in probability"
   ]
  },
  {
   "cell_type": "code",
   "execution_count": 18,
   "id": "abde9377-6c43-4e84-a8e4-2bba5ba06be0",
   "metadata": {},
   "outputs": [
    {
     "data": {
      "text/plain": [
       "1000"
      ]
     },
     "execution_count": 18,
     "metadata": {},
     "output_type": "execute_result"
    }
   ],
   "source": [
    "### Check that random seeding is working by running this cell several times... it is working.\n",
    "np.random.seed(2)\n",
    "scores = run_sim_one_patient(Patients_df_zScore.iloc[:, 1], uncertainty, num_runs)\n",
    "#print(scores)\n",
    "len(scores)"
   ]
  },
  {
   "cell_type": "code",
   "execution_count": null,
   "id": "b0b249ec-ee51-4574-ba7f-3a332432b6df",
   "metadata": {},
   "outputs": [],
   "source": []
  },
  {
   "cell_type": "code",
   "execution_count": 26,
   "id": "91f3867f-a951-495b-b452-df2bbdb1b8a8",
   "metadata": {},
   "outputs": [
    {
     "data": {
      "text/plain": [
       "[<Figure size 720x720 with 1 Axes>, 13, 111, 7.0]"
      ]
     },
     "execution_count": 26,
     "metadata": {},
     "output_type": "execute_result"
    },
    {
     "data": {
      "image/png": "[encoded data removed]",
      "text/plain": [
       "<Figure size 720x720 with 1 Axes>"
      ]
     },
     "metadata": {
      "needs_background": "light"
     },
     "output_type": "display_data"
    }
   ],
   "source": [
    "# Example for using the above function\n",
    "# plot_uncert_at_thresh(100,50,0.86)\n",
    "plot_uncert_at_thresh(num_runs,uncertainty,thresh)"
   ]
  },
  {
   "cell_type": "code",
   "execution_count": null,
   "id": "8afdd622-ec63-453b-a753-48d97138bd58",
   "metadata": {},
   "outputs": [],
   "source": []
  },
  {
   "cell_type": "markdown",
   "id": "ebe5add3-70a1-4fbb-bae5-bf37cd0fb2bb",
   "metadata": {},
   "source": [
    "#### Step 6: Accuracy Analysis: We are computing two things here:\n",
    "#### 1: Accuracy- we are computing subject-wise accuracy by calculating number of simulations that fall in FP and FN for a subject at a given threshold. After calculating the total number of FN and FP, we subtract it with the total number of simulations, the resultant is then divided by the total number of simulations to provide us the accuracy for each subject. We perform this analysis for each %RSD which gives us a file of 243 subjects and their accuracies at each %RSD in the range.\n",
    "#### 2: FP and FN- Here we calculate the total number of FP, FN, TP and TN across 243 subjects at a given %RSD. "
   ]
  },
  {
   "cell_type": "code",
   "execution_count": 73,
   "id": "69ed0058-a3d9-49a1-a1a9-a48381edd1af",
   "metadata": {},
   "outputs": [],
   "source": [
    "def sub_accuracy(uncertainty_range, thresh, num_runs):\n",
    "    \"\"\"The purpose of this function is to calculate 2 things based on %RSD (uncertainty_range), threshold (thresh), number of MC simulations (num_runs) :\n",
    "    1. subject accuracy based on number of simulations : this info is provided in a dataframe called \"accuracy_df\"\n",
    "    2. True Positives/Negatives, False Positves/Negatives: this info is provided in a dtatframe called \"false_pos_df\"\n",
    "    \n",
    "    pseudocode:\n",
    "    1.  for a range of %RSD, the code starts with the first %RSD.\n",
    "    2a. for each subject, it calculates the linear score by multiplying the z-scores present in dataframe \"Patients_df_zScore\"  by coefficient. Function used: linear_score\n",
    "    2b. then it performs anti-logit operation on the linear score to get the classifier score.  Function used: cl_score \n",
    "    3.  similarly, \"scores\" stores the classifier score for each simulation of \"num_runs\"simulations, corresponding to each subject. Function used: run_sim_one_patient\n",
    "    4a. since, we will plot the simulation scores against the subject scores, x_data creates the same array shape for subject scores as simulation scores.\n",
    "    4b. y_data is just scores for the simplicity.\n",
    "    5.  Now coming to each simuation score in each subject: we will sort out the simulation as FP, FN, TP, TN based on threshold using if-else condtions. this code will run for num_runs.\n",
    "    6.  based on FP, FN, TP, TN we will calculate the accuracy.\n",
    "    7.  the process 2-6 will be repeated for each subject.\n",
    "    8.  the process 2-7 will be repeated for each %RSD input. \n",
    "    \n",
    "    \n",
    "    Example input: sub_accuracy([20, 40, 50], 0.87, 400)  -> note that uncertainty_range should be given in a form of a list even if giving single value.\n",
    "    \"\"\"\n",
    "    global real_score\n",
    "    global accuracy_df\n",
    "    global y_data\n",
    "    global x_data\n",
    "    global Sub_score \n",
    "    global false_pos_df\n",
    "    global fig\n",
    "   \n",
    "    np.random.seed(46215423)\n",
    "    \n",
    "    real_score = np.zeros(243)\n",
    "    accuracy = np.zeros(243)\n",
    "    \n",
    "    false_pos_df = pd.DataFrame(columns = uncertainty_range, index= ['simulations in agreement with subject', 'simulations in disagreement with subject', 'Unreliable Subjects'])\n",
    "    \n",
    "    num_subj_unreliable = np.zeros(243) # keeps track of subjects whose score is unreliable under the assumed variation (0 is fine, 1 is unreliable)\n",
    "    false_pos_series=[]\n",
    "   \n",
    "    AD=0\n",
    "    NCI=0\n",
    "    Sub_score = pd.Series(real_score)\n",
    "    accuracy_df= pd.DataFrame(columns= uncertainty_range)\n",
    "    \n",
    "    \n",
    "    for i in range(len(uncertainty_range)):\n",
    "        false_pos = 0 # counter, stores number of points on second quadrant\n",
    "        false_neg = 0\n",
    "        true_pos = 0\n",
    "        true_neg = 0\n",
    "        FN = []\n",
    "        FP = []\n",
    "        TN = []\n",
    "        TP = []\n",
    "        \n",
    "        for j in range(243):\n",
    "            scores = run_sim_one_patient(Patients_df_zScore.iloc[:, j], uncertainty_range[i], num_runs)\n",
    "            y_0 = cl_score(linear_score(coefficients, Patients_df_zScore.iloc[:, j]))\n",
    "            x_data = np.ones_like(scores) * y_0\n",
    "            y_data = scores\n",
    "            colour = np.zeros_like(x_data)\n",
    "            false_neg = 0\n",
    "            false_pos = 0\n",
    "            for k in range(len(x_data)):\n",
    "                if x_data[k] > thresh and y_data[k] < thresh:\n",
    "                    false_neg = false_neg + 1\n",
    "                    num_subj_unreliable[j] = 1\n",
    "                elif x_data[k] < thresh and y_data[k]> thresh:\n",
    "                    false_pos = false_pos + 1\n",
    "                    num_subj_unreliable[j] = 1\n",
    "                elif x_data[k]> thresh and y_data[k] > thresh:\n",
    "                    true_pos = true_pos +1\n",
    "                elif x_data[k] < thresh and y_data[k] < thresh:\n",
    "                    true_neg = true_neg +1  \n",
    "\n",
    "            accuracy[j] = (num_runs-(false_neg)-(false_pos))/num_runs\n",
    "            real_score[j] = y_0\n",
    "\n",
    "\n",
    "            FN.append(false_neg)\n",
    "            FP.append(false_pos)\n",
    "            TN.append(true_neg)\n",
    "            TP.append(true_pos)\n",
    "        unreliable_subjects= str(np.sum(num_subj_unreliable))\n",
    "        accuracy_series = pd.Series(accuracy)\n",
    "        \n",
    "        disagreement = sum(FN) + sum(FP)\n",
    "        agreement= sum(TN) + sum(TP)\n",
    "       \n",
    "        accuracy_df[accuracy_df.columns[i]] = accuracy_series*100\n",
    "        false_pos_df[false_pos_df.columns[i]]= [agreement, disagreement, unreliable_subjects]\n",
    "        Sub_score = pd.Series(real_score)    \n",
    "        accuracy_df['Classifier Score']= Sub_score\n",
    "        \n",
    "        \n",
    "        dfm = accuracy_df.melt('Classifier Score', var_name='%RSD', value_name='Agreement')   \n",
    "    fig = sns.relplot(x= \"Classifier Score\" , y=\"Agreement\", hue='%RSD', data=dfm, kind='line', linewidth= 1, palette = \"rainbow\")\n",
    "    accuracy_df['Patient ID'] = patient_id\n",
    "    accuracy_df = accuracy_df.set_index('Patient ID')\n",
    "    for l in range (len(Sub_score)):\n",
    "            if Sub_score[l]>thresh:\n",
    "                AD= AD+1\n",
    "            else: NCI =NCI+1\n",
    "    return ( print(\"AD=\",AD), print(\"NCI=\",NCI), accuracy_df, false_pos_df, fig)\n",
    "   \n",
    "    \n",
    "   \n",
    "    "
   ]
  },
  {
   "cell_type": "code",
   "execution_count": 74,
   "id": "904915a9-526f-45e2-8fa8-9b75fffc26a8",
   "metadata": {},
   "outputs": [
    {
     "name": "stdout",
     "output_type": "stream",
     "text": [
      "AD= 124\n",
      "NCI= 119\n"
     ]
    },
    {
     "data": {
      "text/plain": [
       "(None,\n",
       " None,\n",
       "                10     25     50  Classifier Score\n",
       " Patient ID                                       \n",
       " 11174       100.0  100.0  100.0          1.000000\n",
       " 11178       100.0  100.0   99.9          0.001564\n",
       " 11182       100.0  100.0  100.0          0.998065\n",
       " 11186       100.0  100.0   99.9          0.519430\n",
       " 11190       100.0  100.0  100.0          0.923551\n",
       " ...           ...    ...    ...               ...\n",
       " 5683        100.0  100.0  100.0          0.000146\n",
       " 5702        100.0  100.0  100.0          0.000536\n",
       " 5706        100.0  100.0   99.9          0.000682\n",
       " 5767        100.0  100.0  100.0          0.000115\n",
       " 5784        100.0   93.0   79.1          0.024556\n",
       " \n",
       " [243 rows x 4 columns],\n",
       "                                                 10        25        50\n",
       " simulations in agreement with subject     29577184  29537370  29459528\n",
       " simulations in disagreement with subject       715      1174      2139\n",
       " Unreliable Subjects                            3.0       7.0      31.0,\n",
       " <seaborn.axisgrid.FacetGrid at 0x7fb829c7d6a0>)"
      ]
     },
     "execution_count": 74,
     "metadata": {},
     "output_type": "execute_result"
    },
    {
     "data": {
      "image/png": "[encoded data removed]",
      "text/plain": [
       "<Figure size 408.75x360 with 1 Axes>"
      ]
     },
     "metadata": {
      "needs_background": "light"
     },
     "output_type": "display_data"
    }
   ],
   "source": [
    "sub_accuracy([10, 25, 50],thresh,num_runs)"
   ]
  },
  {
   "cell_type": "code",
   "execution_count": null,
   "id": "4207f313-d4e9-418d-a91f-8d3a5d8d61a3",
   "metadata": {},
   "outputs": [],
   "source": []
  },
  {
   "cell_type": "code",
   "execution_count": 75,
   "id": "dc0e5e2d-0f69-4b34-b0ad-a429538e3a9c",
   "metadata": {},
   "outputs": [
    {
     "data": {
      "text/html": [
       "<div>\n",
       "<style scoped>\n",
       "    .dataframe tbody tr th:only-of-type {\n",
       "        vertical-align: middle;\n",
       "    }\n",
       "\n",
       "    .dataframe tbody tr th {\n",
       "        vertical-align: top;\n",
       "    }\n",
       "\n",
       "    .dataframe thead th {\n",
       "        text-align: right;\n",
       "    }\n",
       "</style>\n",
       "<table border=\"1\" class=\"dataframe\">\n",
       "  <thead>\n",
       "    <tr style=\"text-align: right;\">\n",
       "      <th></th>\n",
       "      <th>10</th>\n",
       "      <th>25</th>\n",
       "      <th>50</th>\n",
       "      <th>Classifier Score</th>\n",
       "    </tr>\n",
       "    <tr>\n",
       "      <th>Patient ID</th>\n",
       "      <th></th>\n",
       "      <th></th>\n",
       "      <th></th>\n",
       "      <th></th>\n",
       "    </tr>\n",
       "  </thead>\n",
       "  <tbody>\n",
       "    <tr>\n",
       "      <th>11174</th>\n",
       "      <td>100.0</td>\n",
       "      <td>100.0</td>\n",
       "      <td>100.0</td>\n",
       "      <td>1.000000</td>\n",
       "    </tr>\n",
       "    <tr>\n",
       "      <th>11178</th>\n",
       "      <td>100.0</td>\n",
       "      <td>100.0</td>\n",
       "      <td>99.9</td>\n",
       "      <td>0.001564</td>\n",
       "    </tr>\n",
       "    <tr>\n",
       "      <th>11182</th>\n",
       "      <td>100.0</td>\n",
       "      <td>100.0</td>\n",
       "      <td>100.0</td>\n",
       "      <td>0.998065</td>\n",
       "    </tr>\n",
       "    <tr>\n",
       "      <th>11186</th>\n",
       "      <td>100.0</td>\n",
       "      <td>100.0</td>\n",
       "      <td>99.9</td>\n",
       "      <td>0.519430</td>\n",
       "    </tr>\n",
       "    <tr>\n",
       "      <th>11190</th>\n",
       "      <td>100.0</td>\n",
       "      <td>100.0</td>\n",
       "      <td>100.0</td>\n",
       "      <td>0.923551</td>\n",
       "    </tr>\n",
       "    <tr>\n",
       "      <th>...</th>\n",
       "      <td>...</td>\n",
       "      <td>...</td>\n",
       "      <td>...</td>\n",
       "      <td>...</td>\n",
       "    </tr>\n",
       "    <tr>\n",
       "      <th>5683</th>\n",
       "      <td>100.0</td>\n",
       "      <td>100.0</td>\n",
       "      <td>100.0</td>\n",
       "      <td>0.000146</td>\n",
       "    </tr>\n",
       "    <tr>\n",
       "      <th>5702</th>\n",
       "      <td>100.0</td>\n",
       "      <td>100.0</td>\n",
       "      <td>100.0</td>\n",
       "      <td>0.000536</td>\n",
       "    </tr>\n",
       "    <tr>\n",
       "      <th>5706</th>\n",
       "      <td>100.0</td>\n",
       "      <td>100.0</td>\n",
       "      <td>99.9</td>\n",
       "      <td>0.000682</td>\n",
       "    </tr>\n",
       "    <tr>\n",
       "      <th>5767</th>\n",
       "      <td>100.0</td>\n",
       "      <td>100.0</td>\n",
       "      <td>100.0</td>\n",
       "      <td>0.000115</td>\n",
       "    </tr>\n",
       "    <tr>\n",
       "      <th>5784</th>\n",
       "      <td>100.0</td>\n",
       "      <td>93.0</td>\n",
       "      <td>79.1</td>\n",
       "      <td>0.024556</td>\n",
       "    </tr>\n",
       "  </tbody>\n",
       "</table>\n",
       "<p>243 rows × 4 columns</p>\n",
       "</div>"
      ],
      "text/plain": [
       "               10     25     50  Classifier Score\n",
       "Patient ID                                       \n",
       "11174       100.0  100.0  100.0          1.000000\n",
       "11178       100.0  100.0   99.9          0.001564\n",
       "11182       100.0  100.0  100.0          0.998065\n",
       "11186       100.0  100.0   99.9          0.519430\n",
       "11190       100.0  100.0  100.0          0.923551\n",
       "...           ...    ...    ...               ...\n",
       "5683        100.0  100.0  100.0          0.000146\n",
       "5702        100.0  100.0  100.0          0.000536\n",
       "5706        100.0  100.0   99.9          0.000682\n",
       "5767        100.0  100.0  100.0          0.000115\n",
       "5784        100.0   93.0   79.1          0.024556\n",
       "\n",
       "[243 rows x 4 columns]"
      ]
     },
     "execution_count": 75,
     "metadata": {},
     "output_type": "execute_result"
    }
   ],
   "source": [
    "accuracy_df"
   ]
  },
  {
   "cell_type": "code",
   "execution_count": 66,
   "id": "cc316174-af54-4a9a-94c7-c9cf1aa92ae6",
   "metadata": {},
   "outputs": [
    {
     "data": {
      "text/plain": [
       "0.0015641896724060038"
      ]
     },
     "execution_count": 66,
     "metadata": {},
     "output_type": "execute_result"
    }
   ],
   "source": [
    "#Patients_df_zScore.head()\n",
    "cl_score(linear_score(coefficients, Patients_df_zScore['11178']))\n",
    "### We are getting (slightly) different scores from Dr Braun's"
   ]
  },
  {
   "cell_type": "code",
   "execution_count": 16,
   "id": "4ac0ecb6-eb4d-4bfd-903b-0c304b4de718",
   "metadata": {},
   "outputs": [
    {
     "data": {
      "text/plain": [
       "99.51316872427984"
      ]
     },
     "execution_count": 16,
     "metadata": {},
     "output_type": "execute_result"
    }
   ],
   "source": [
    "# the accuracy for the given threshold is\n",
    "accuracy_df.iloc[:,1].mean()"
   ]
  },
  {
   "cell_type": "code",
   "execution_count": 26,
   "id": "faf0cadc-2de6-4f59-a6ef-9fbca4af2872",
   "metadata": {},
   "outputs": [],
   "source": [
    "# sub_accuracy([10, 25, 50], 0.86, 100)\n",
    "# sub_accuracy([10, 25, 50], 0.90, 100)\n",
    "# sub_accuracy([10, 25, 50], 0.80, 100)"
   ]
  },
  {
   "cell_type": "code",
   "execution_count": 78,
   "id": "54233c64-fb9d-4f4b-833b-0e9ec2586c99",
   "metadata": {},
   "outputs": [
    {
     "data": {
      "text/html": [
       "<div>\n",
       "<style scoped>\n",
       "    .dataframe tbody tr th:only-of-type {\n",
       "        vertical-align: middle;\n",
       "    }\n",
       "\n",
       "    .dataframe tbody tr th {\n",
       "        vertical-align: top;\n",
       "    }\n",
       "\n",
       "    .dataframe thead th {\n",
       "        text-align: right;\n",
       "    }\n",
       "</style>\n",
       "<table border=\"1\" class=\"dataframe\">\n",
       "  <thead>\n",
       "    <tr style=\"text-align: right;\">\n",
       "      <th></th>\n",
       "      <th>10</th>\n",
       "      <th>25</th>\n",
       "      <th>50</th>\n",
       "    </tr>\n",
       "  </thead>\n",
       "  <tbody>\n",
       "    <tr>\n",
       "      <th>simulations in agreement with subject</th>\n",
       "      <td>29577184</td>\n",
       "      <td>29537370</td>\n",
       "      <td>29459528</td>\n",
       "    </tr>\n",
       "    <tr>\n",
       "      <th>simulations in disagreement with subject</th>\n",
       "      <td>715</td>\n",
       "      <td>1174</td>\n",
       "      <td>2139</td>\n",
       "    </tr>\n",
       "    <tr>\n",
       "      <th>Unreliable Subjects</th>\n",
       "      <td>3.0</td>\n",
       "      <td>7.0</td>\n",
       "      <td>31.0</td>\n",
       "    </tr>\n",
       "  </tbody>\n",
       "</table>\n",
       "</div>"
      ],
      "text/plain": [
       "                                                10        25        50\n",
       "simulations in agreement with subject     29577184  29537370  29459528\n",
       "simulations in disagreement with subject       715      1174      2139\n",
       "Unreliable Subjects                            3.0       7.0      31.0"
      ]
     },
     "execution_count": 78,
     "metadata": {},
     "output_type": "execute_result"
    }
   ],
   "source": [
    "false_pos_df"
   ]
  },
  {
   "cell_type": "code",
   "execution_count": 69,
   "id": "af39ebaf-1303-4383-9f28-1cb6e9cd214b",
   "metadata": {},
   "outputs": [
    {
     "data": {
      "text/html": [
       "<div>\n",
       "<style scoped>\n",
       "    .dataframe tbody tr th:only-of-type {\n",
       "        vertical-align: middle;\n",
       "    }\n",
       "\n",
       "    .dataframe tbody tr th {\n",
       "        vertical-align: top;\n",
       "    }\n",
       "\n",
       "    .dataframe thead th {\n",
       "        text-align: right;\n",
       "    }\n",
       "</style>\n",
       "<table border=\"1\" class=\"dataframe\">\n",
       "  <thead>\n",
       "    <tr style=\"text-align: right;\">\n",
       "      <th></th>\n",
       "      <th>10</th>\n",
       "      <th>25</th>\n",
       "      <th>50</th>\n",
       "      <th>Classifier Score</th>\n",
       "    </tr>\n",
       "    <tr>\n",
       "      <th>Patient ID</th>\n",
       "      <th></th>\n",
       "      <th></th>\n",
       "      <th></th>\n",
       "      <th></th>\n",
       "    </tr>\n",
       "  </thead>\n",
       "  <tbody>\n",
       "    <tr>\n",
       "      <th>11174</th>\n",
       "      <td>100.0</td>\n",
       "      <td>100.0</td>\n",
       "      <td>100.0</td>\n",
       "      <td>1.000000</td>\n",
       "    </tr>\n",
       "    <tr>\n",
       "      <th>11178</th>\n",
       "      <td>100.0</td>\n",
       "      <td>100.0</td>\n",
       "      <td>99.9</td>\n",
       "      <td>0.001564</td>\n",
       "    </tr>\n",
       "    <tr>\n",
       "      <th>11182</th>\n",
       "      <td>100.0</td>\n",
       "      <td>100.0</td>\n",
       "      <td>100.0</td>\n",
       "      <td>0.998065</td>\n",
       "    </tr>\n",
       "    <tr>\n",
       "      <th>11186</th>\n",
       "      <td>100.0</td>\n",
       "      <td>100.0</td>\n",
       "      <td>99.9</td>\n",
       "      <td>0.519430</td>\n",
       "    </tr>\n",
       "    <tr>\n",
       "      <th>11190</th>\n",
       "      <td>100.0</td>\n",
       "      <td>100.0</td>\n",
       "      <td>100.0</td>\n",
       "      <td>0.923551</td>\n",
       "    </tr>\n",
       "    <tr>\n",
       "      <th>...</th>\n",
       "      <td>...</td>\n",
       "      <td>...</td>\n",
       "      <td>...</td>\n",
       "      <td>...</td>\n",
       "    </tr>\n",
       "    <tr>\n",
       "      <th>5683</th>\n",
       "      <td>100.0</td>\n",
       "      <td>100.0</td>\n",
       "      <td>100.0</td>\n",
       "      <td>0.000146</td>\n",
       "    </tr>\n",
       "    <tr>\n",
       "      <th>5702</th>\n",
       "      <td>100.0</td>\n",
       "      <td>100.0</td>\n",
       "      <td>100.0</td>\n",
       "      <td>0.000536</td>\n",
       "    </tr>\n",
       "    <tr>\n",
       "      <th>5706</th>\n",
       "      <td>100.0</td>\n",
       "      <td>100.0</td>\n",
       "      <td>99.9</td>\n",
       "      <td>0.000682</td>\n",
       "    </tr>\n",
       "    <tr>\n",
       "      <th>5767</th>\n",
       "      <td>100.0</td>\n",
       "      <td>100.0</td>\n",
       "      <td>100.0</td>\n",
       "      <td>0.000115</td>\n",
       "    </tr>\n",
       "    <tr>\n",
       "      <th>5784</th>\n",
       "      <td>100.0</td>\n",
       "      <td>93.0</td>\n",
       "      <td>79.1</td>\n",
       "      <td>0.024556</td>\n",
       "    </tr>\n",
       "  </tbody>\n",
       "</table>\n",
       "<p>243 rows × 4 columns</p>\n",
       "</div>"
      ],
      "text/plain": [
       "               10     25     50  Classifier Score\n",
       "Patient ID                                       \n",
       "11174       100.0  100.0  100.0          1.000000\n",
       "11178       100.0  100.0   99.9          0.001564\n",
       "11182       100.0  100.0  100.0          0.998065\n",
       "11186       100.0  100.0   99.9          0.519430\n",
       "11190       100.0  100.0  100.0          0.923551\n",
       "...           ...    ...    ...               ...\n",
       "5683        100.0  100.0  100.0          0.000146\n",
       "5702        100.0  100.0  100.0          0.000536\n",
       "5706        100.0  100.0   99.9          0.000682\n",
       "5767        100.0  100.0  100.0          0.000115\n",
       "5784        100.0   93.0   79.1          0.024556\n",
       "\n",
       "[243 rows x 4 columns]"
      ]
     },
     "execution_count": 69,
     "metadata": {},
     "output_type": "execute_result"
    }
   ],
   "source": [
    "accuracy_df"
   ]
  },
  {
   "cell_type": "markdown",
   "id": "ed1f2d05-77c2-4fed-9aa3-6e87f00edaf3",
   "metadata": {},
   "source": [
    "#### Output 2: accuracy file for each subject at each %RSD\n",
    "ex: accuracy_df.to_csv(\"Subject accuracy at variations.csv\")\n",
    "#### Output 3: Datafile containing FP, FN, TP, TN from simulations for each %RSD\n",
    " ex: false_pos_df.to_csv(\"FP and FN analysis of simulations for %RSD.csv\")\n",
    "#### Output 4: v-plot fig of classifier scores vs agreement."
   ]
  },
  {
   "cell_type": "code",
   "execution_count": null,
   "id": "91924428-e2ae-4b7d-925c-f414d635694d",
   "metadata": {},
   "outputs": [],
   "source": []
  }
 ],
 "metadata": {
  "kernelspec": {
   "display_name": "Python 3 (ipykernel)",
   "language": "python",
   "name": "python3"
  },
  "language_info": {
   "codemirror_mode": {
    "name": "ipython",
    "version": 3
   },
   "file_extension": ".py",
   "mimetype": "text/x-python",
   "name": "python",
   "nbconvert_exporter": "python",
   "pygments_lexer": "ipython3",
   "version": "3.9.13"
  }
 },
 "nbformat": 4,
 "nbformat_minor": 5
}

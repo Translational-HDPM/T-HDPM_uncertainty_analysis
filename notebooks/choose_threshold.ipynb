{
 "cells": [
  {
   "cell_type": "markdown",
   "id": "45dc6561-965d-4811-ab2c-eb4323ec4317",
   "metadata": {},
   "source": [
    "## Choosing a threshold for the classifier\n",
    "### Author: D. Tolosa, Debajyoti Debnath"
   ]
  },
  {
   "cell_type": "markdown",
   "id": "b946c25c-c959-4a43-96b5-915671f88ce3",
   "metadata": {},
   "source": [
    "We explore all possible values for sensitivity and specificity of the classifier as we vary the threshold, and choose the one with sensitivity closest to 0.9 from above. We also produce plots to visualize the spread of the scores and linear scores, with AD and NCI differentiated.\n",
    "\n",
    "**_This project was developed at The Data Mine, Purdue University, in partnership with Molecular Stethoscope._**"
   ]
  },
  {
   "cell_type": "code",
   "execution_count": 1,
   "id": "75a85a42-a2e5-498c-b1a6-4c8e77554c41",
   "metadata": {},
   "outputs": [],
   "source": [
    "import sys\n",
    "from pathlib import Path\n",
    "sys.path.insert(0, str(Path.cwd().parent.resolve()))"
   ]
  },
  {
   "cell_type": "code",
   "execution_count": 2,
   "id": "ca87bbb6-6ebc-48c7-a30a-6e357b8ef364",
   "metadata": {},
   "outputs": [],
   "source": [
    "import pandas as pd\n",
    "import numpy as np\n",
    "import matplotlib.pyplot as plt\n",
    "import seaborn as sns\n",
    "from src.threshold import plot_uncertainty_at_threshold, plot_v_plot\n",
    "from src.classifier import z_score, linear_classifier_score, antilogit_classifier_score"
   ]
  },
  {
   "cell_type": "code",
   "execution_count": 3,
   "id": "bc42dd7e-0398-4e12-baff-bbf8921a010b",
   "metadata": {},
   "outputs": [],
   "source": [
    "### Reding csv file containing 243 subjects and their raw TPM counts across 1059 genes\n",
    "### Source of data\n",
    "raw_data = pd.read_excel(\n",
    "    \"../../raw_data/ClusterMarkers_1819ADcohort.congregated_DR.xlsx\", sheet_name=1\n",
    ")\n",
    "# setting index row name to the gene id\n",
    "raw_data = raw_data.set_index(\"gene_id\")"
   ]
  },
  {
   "cell_type": "markdown",
   "id": "b01cace7-e281-42ca-8d0e-22d643b0b780",
   "metadata": {},
   "source": [
    "### Step 1: Data prep"
   ]
  },
  {
   "cell_type": "code",
   "execution_count": 4,
   "id": "125613d4-613c-4fa3-962d-589de804d26b",
   "metadata": {},
   "outputs": [],
   "source": [
    "# Filtering out rows: discarding the ERCC rows, ERCC is a control protocol for validation of RNA sequencing\n",
    "patients_df = raw_data[~raw_data.loc[:, \"Coeff\"].isnull()]\n",
    "\n",
    "# We store the coefficients(betas) of the linear classifier in an array.\n",
    "coefficients = np.nan_to_num(np.array(patients_df.loc[:, \"Coeff\"]))\n",
    "\n",
    "# Filtering out columns with patient data\n",
    "patients_df = patients_df.filter(regex=r\"^\\d+\")"
   ]
  },
  {
   "cell_type": "code",
   "execution_count": 5,
   "id": "25b39820-8f08-4873-9eac-eca90519d082",
   "metadata": {},
   "outputs": [
    {
     "name": "stderr",
     "output_type": "stream",
     "text": [
      "/tmp/ipykernel_279116/670425049.py:3: FutureWarning: DataFrame.groupby with axis=1 is deprecated. Do `frame.T.groupby(...)` without axis instead.\n",
      "  grouped = patients_df.groupby(grouped_cols, axis=1)\n"
     ]
    }
   ],
   "source": [
    "# group columns by patient id\n",
    "grouped_cols = patients_df.columns.str.split(\"-\").str[0]\n",
    "grouped = patients_df.groupby(grouped_cols, axis=1)\n",
    "\n",
    "# apply the mean function to the r1 and r2 columns for each group\n",
    "# taking mean of the replicates for subjects with multiple replicates\n",
    "patients_df = grouped.apply(lambda x: x.mean(axis=1)).reset_index(drop=True)\n",
    "# Patients_df.head()"
   ]
  },
  {
   "cell_type": "markdown",
   "id": "8f9f64ec-32be-4fc1-9088-4ff16d423428",
   "metadata": {},
   "source": [
    "### Step 2: Computing Zscores from TPM data"
   ]
  },
  {
   "cell_type": "code",
   "execution_count": 6,
   "id": "aa0969c0-e8cb-42b4-9a25-d99a9a569fbb",
   "metadata": {},
   "outputs": [],
   "source": [
    "patients_df[\"Mean\"] = patients_df.mean(axis=1)\n",
    "patients_df[\"Std\"] = patients_df.iloc[:, :-1].std(axis=1)\n",
    "# Patients_df.head()"
   ]
  },
  {
   "cell_type": "code",
   "execution_count": 7,
   "id": "1a38a38e-e8fd-47ef-ae7f-9f4891441156",
   "metadata": {},
   "outputs": [],
   "source": [
    "# Computing and storing zscores\n",
    "means, stds = patients_df[\"Mean\"], patients_df[\"Std\"]\n",
    "z_scores_df = patients_df.iloc[:, :-2].apply(lambda x: z_score(x, means, stds))\n",
    "# Patients_df_zScore"
   ]
  },
  {
   "cell_type": "markdown",
   "id": "feef5b2f-9d11-4c17-a7d4-65a06e8ba3ff",
   "metadata": {},
   "source": [
    "### Step 3: Generating linear classifier scores"
   ]
  },
  {
   "cell_type": "code",
   "execution_count": 8,
   "id": "31ecd110-15cc-49fd-b6f6-8d9e0bd3e378",
   "metadata": {},
   "outputs": [
    {
     "data": {
      "text/html": [
       "<div>\n",
       "<style scoped>\n",
       "    .dataframe tbody tr th:only-of-type {\n",
       "        vertical-align: middle;\n",
       "    }\n",
       "\n",
       "    .dataframe tbody tr th {\n",
       "        vertical-align: top;\n",
       "    }\n",
       "\n",
       "    .dataframe thead th {\n",
       "        text-align: right;\n",
       "    }\n",
       "</style>\n",
       "<table border=\"1\" class=\"dataframe\">\n",
       "  <thead>\n",
       "    <tr style=\"text-align: right;\">\n",
       "      <th></th>\n",
       "      <th>Subject</th>\n",
       "      <th>linear_score</th>\n",
       "    </tr>\n",
       "  </thead>\n",
       "  <tbody>\n",
       "    <tr>\n",
       "      <th>11174</th>\n",
       "      <td>11174</td>\n",
       "      <td>15.94548</td>\n",
       "    </tr>\n",
       "    <tr>\n",
       "      <th>11178</th>\n",
       "      <td>11178</td>\n",
       "      <td>-6.458822</td>\n",
       "    </tr>\n",
       "    <tr>\n",
       "      <th>11182</th>\n",
       "      <td>11182</td>\n",
       "      <td>6.245881</td>\n",
       "    </tr>\n",
       "    <tr>\n",
       "      <th>11186</th>\n",
       "      <td>11186</td>\n",
       "      <td>0.077761</td>\n",
       "    </tr>\n",
       "    <tr>\n",
       "      <th>11190</th>\n",
       "      <td>11190</td>\n",
       "      <td>2.491608</td>\n",
       "    </tr>\n",
       "  </tbody>\n",
       "</table>\n",
       "</div>"
      ],
      "text/plain": [
       "      Subject linear_score\n",
       "11174   11174     15.94548\n",
       "11178   11178    -6.458822\n",
       "11182   11182     6.245881\n",
       "11186   11186     0.077761\n",
       "11190   11190     2.491608"
      ]
     },
     "execution_count": 8,
     "metadata": {},
     "output_type": "execute_result"
    }
   ],
   "source": [
    "### save linear scores in a dataframe\n",
    "subjects = z_scores_df.columns.astype(str)\n",
    "linear_scores_df = pd.DataFrame(columns=[\"Subject\", \"linear_score\"], index=subjects)\n",
    "for col in subjects:\n",
    "    linear_scores_df.loc[col] = [\n",
    "        int(col),\n",
    "        linear_classifier_score(coefficients, z_scores_df[col].values),\n",
    "    ]\n",
    "\n",
    "linear_scores_df.head()"
   ]
  },
  {
   "cell_type": "code",
   "execution_count": 9,
   "id": "bec551e5-a6a7-45d4-98ce-d02ed0b0f8f0",
   "metadata": {},
   "outputs": [
    {
     "data": {
      "text/html": [
       "<div>\n",
       "<style scoped>\n",
       "    .dataframe tbody tr th:only-of-type {\n",
       "        vertical-align: middle;\n",
       "    }\n",
       "\n",
       "    .dataframe tbody tr th {\n",
       "        vertical-align: top;\n",
       "    }\n",
       "\n",
       "    .dataframe thead th {\n",
       "        text-align: right;\n",
       "    }\n",
       "</style>\n",
       "<table border=\"1\" class=\"dataframe\">\n",
       "  <thead>\n",
       "    <tr style=\"text-align: right;\">\n",
       "      <th></th>\n",
       "      <th>Isolate ID</th>\n",
       "      <th>Disease</th>\n",
       "    </tr>\n",
       "  </thead>\n",
       "  <tbody>\n",
       "    <tr>\n",
       "      <th>0</th>\n",
       "      <td>1817</td>\n",
       "      <td>NCI</td>\n",
       "    </tr>\n",
       "    <tr>\n",
       "      <th>1</th>\n",
       "      <td>1818</td>\n",
       "      <td>NCI</td>\n",
       "    </tr>\n",
       "    <tr>\n",
       "      <th>2</th>\n",
       "      <td>1821</td>\n",
       "      <td>NCI</td>\n",
       "    </tr>\n",
       "    <tr>\n",
       "      <th>3</th>\n",
       "      <td>1850</td>\n",
       "      <td>NCI</td>\n",
       "    </tr>\n",
       "    <tr>\n",
       "      <th>4</th>\n",
       "      <td>1854</td>\n",
       "      <td>NCI</td>\n",
       "    </tr>\n",
       "    <tr>\n",
       "      <th>...</th>\n",
       "      <td>...</td>\n",
       "      <td>...</td>\n",
       "    </tr>\n",
       "    <tr>\n",
       "      <th>239</th>\n",
       "      <td>17948</td>\n",
       "      <td>NCI</td>\n",
       "    </tr>\n",
       "    <tr>\n",
       "      <th>240</th>\n",
       "      <td>17949</td>\n",
       "      <td>NCI</td>\n",
       "    </tr>\n",
       "    <tr>\n",
       "      <th>241</th>\n",
       "      <td>17950</td>\n",
       "      <td>NCI</td>\n",
       "    </tr>\n",
       "    <tr>\n",
       "      <th>242</th>\n",
       "      <td>17951</td>\n",
       "      <td>NCI</td>\n",
       "    </tr>\n",
       "    <tr>\n",
       "      <th>243</th>\n",
       "      <td>17953</td>\n",
       "      <td>NCI</td>\n",
       "    </tr>\n",
       "  </tbody>\n",
       "</table>\n",
       "<p>243 rows × 2 columns</p>\n",
       "</div>"
      ],
      "text/plain": [
       "     Isolate ID Disease\n",
       "0          1817     NCI\n",
       "1          1818     NCI\n",
       "2          1821     NCI\n",
       "3          1850     NCI\n",
       "4          1854     NCI\n",
       "..          ...     ...\n",
       "239       17948     NCI\n",
       "240       17949     NCI\n",
       "241       17950     NCI\n",
       "242       17951     NCI\n",
       "243       17953     NCI\n",
       "\n",
       "[243 rows x 2 columns]"
      ]
     },
     "execution_count": 9,
     "metadata": {},
     "output_type": "execute_result"
    }
   ],
   "source": [
    "### load clinical diagnosis dataframe\n",
    "pathos = pd.read_excel(\n",
    "    \"../../raw_data/ClusterMarkers_1819ADcohort.congregated_DR.xlsx\", sheet_name=0\n",
    ")\n",
    "pathos = pathos[~pathos.loc[:, \"Isolate ID\"].isna()]\n",
    "pathos = pathos.astype({\"Isolate ID\": \"int\"})\n",
    "pathos = pathos[pathos.loc[:, \"Disease\"].isin([\"AD\", \"NCI\"])]\n",
    "pathos"
   ]
  },
  {
   "cell_type": "code",
   "execution_count": 10,
   "id": "141ae4ff-b8c1-4e22-8ff3-1e189ebdf244",
   "metadata": {},
   "outputs": [
    {
     "data": {
      "text/html": [
       "<div>\n",
       "<style scoped>\n",
       "    .dataframe tbody tr th:only-of-type {\n",
       "        vertical-align: middle;\n",
       "    }\n",
       "\n",
       "    .dataframe tbody tr th {\n",
       "        vertical-align: top;\n",
       "    }\n",
       "\n",
       "    .dataframe thead th {\n",
       "        text-align: right;\n",
       "    }\n",
       "</style>\n",
       "<table border=\"1\" class=\"dataframe\">\n",
       "  <thead>\n",
       "    <tr style=\"text-align: right;\">\n",
       "      <th></th>\n",
       "      <th>Disease</th>\n",
       "      <th>Subject</th>\n",
       "      <th>linear_score</th>\n",
       "    </tr>\n",
       "  </thead>\n",
       "  <tbody>\n",
       "    <tr>\n",
       "      <th>0</th>\n",
       "      <td>NCI</td>\n",
       "      <td>1817</td>\n",
       "      <td>-10.375456</td>\n",
       "    </tr>\n",
       "    <tr>\n",
       "      <th>1</th>\n",
       "      <td>NCI</td>\n",
       "      <td>1818</td>\n",
       "      <td>-10.318006</td>\n",
       "    </tr>\n",
       "    <tr>\n",
       "      <th>2</th>\n",
       "      <td>NCI</td>\n",
       "      <td>1821</td>\n",
       "      <td>-9.261675</td>\n",
       "    </tr>\n",
       "    <tr>\n",
       "      <th>3</th>\n",
       "      <td>NCI</td>\n",
       "      <td>1850</td>\n",
       "      <td>-11.029938</td>\n",
       "    </tr>\n",
       "    <tr>\n",
       "      <th>4</th>\n",
       "      <td>NCI</td>\n",
       "      <td>1854</td>\n",
       "      <td>-11.170406</td>\n",
       "    </tr>\n",
       "  </tbody>\n",
       "</table>\n",
       "</div>"
      ],
      "text/plain": [
       "  Disease Subject linear_score\n",
       "0     NCI    1817   -10.375456\n",
       "1     NCI    1818   -10.318006\n",
       "2     NCI    1821    -9.261675\n",
       "3     NCI    1850   -11.029938\n",
       "4     NCI    1854   -11.170406"
      ]
     },
     "execution_count": 10,
     "metadata": {},
     "output_type": "execute_result"
    }
   ],
   "source": [
    "### merge clinical diagnosis dataframe with the linear scores dataframe\n",
    "master_df = pd.merge(pathos, linear_scores_df, left_on=\"Isolate ID\", right_on=\"Subject\")\n",
    "master_df = master_df.drop(columns=[\"Isolate ID\"])\n",
    "master_df.head()"
   ]
  },
  {
   "cell_type": "markdown",
   "id": "5fa9f96f-4936-45a8-a6b9-5a33af9cd96c",
   "metadata": {},
   "source": [
    "### Step 4: Plotting classifier scores in linear and exponential scales"
   ]
  },
  {
   "cell_type": "code",
   "execution_count": 11,
   "id": "91924428-e2ae-4b7d-925c-f414d635694d",
   "metadata": {},
   "outputs": [
    {
     "name": "stderr",
     "output_type": "stream",
     "text": [
      "/tmp/ipykernel_279116/2776154105.py:6: UserWarning: No data for colormapping provided via 'c'. Parameters 'cmap' will be ignored\n",
      "  plt.scatter(\n"
     ]
    },
    {
     "data": {
      "text/plain": [
       "([], [])"
      ]
     },
     "execution_count": 11,
     "metadata": {},
     "output_type": "execute_result"
    },
    {
     "data": {
      "image/png": "[encoded data removed]",
      "text/plain": [
       "<Figure size 1000x400 with 1 Axes>"
      ]
     },
     "metadata": {},
     "output_type": "display_data"
    }
   ],
   "source": [
    "fig = plt.figure(figsize=(10, 4))\n",
    "groups = master_df.groupby(\"Disease\")\n",
    "\n",
    "for name, group in groups:\n",
    "    y = np.ones(groups[\"Disease\"].count().loc[name])\n",
    "    plt.scatter(\n",
    "        group[\"linear_score\"],\n",
    "        y,\n",
    "        marker=\"o\",\n",
    "        label=name,\n",
    "        cmap=\"Dark2_r\",\n",
    "        alpha=0.3,\n",
    "        s=100,\n",
    "    )\n",
    "plt.legend()\n",
    "plt.title(\"Spread of linear classifier scores\", fontsize=24)\n",
    "plt.xlabel(\"Classifier score in linear scale\", fontsize=20)\n",
    "plt.yticks([])\n",
    "# plt.savefig('figures/spread_of_linear_classifier_scores.png')"
   ]
  },
  {
   "cell_type": "code",
   "execution_count": 12,
   "id": "567a6097-d084-4b05-8b09-c2a609322407",
   "metadata": {},
   "outputs": [
    {
     "name": "stderr",
     "output_type": "stream",
     "text": [
      "/tmp/ipykernel_279116/3689758102.py:11: UserWarning: No data for colormapping provided via 'c'. Parameters 'cmap' will be ignored\n",
      "  plt.scatter(x, y, marker=\"o\", label=name, cmap=\"Dark2_r\", alpha=0.3, s=100)\n"
     ]
    },
    {
     "data": {
      "text/plain": [
       "([], [])"
      ]
     },
     "execution_count": 12,
     "metadata": {},
     "output_type": "execute_result"
    },
    {
     "data": {
      "image/png": "[encoded data removed]",
      "text/plain": [
       "<Figure size 1000x400 with 1 Axes>"
      ]
     },
     "metadata": {},
     "output_type": "display_data"
    }
   ],
   "source": [
    "### In probability, i.e. exponential scale\n",
    "\n",
    "fig = plt.figure(figsize=(10, 4))\n",
    "groups = master_df.groupby(\"Disease\")\n",
    "\n",
    "for name, group in groups:\n",
    "    x = np.zeros(len(group[\"linear_score\"]))\n",
    "    for i in range(len(group[\"linear_score\"])):\n",
    "        x[i] = antilogit_classifier_score(group[\"linear_score\"].values[i])\n",
    "    y = np.ones(groups[\"Disease\"].count().loc[name])\n",
    "    plt.scatter(x, y, marker=\"o\", label=name, cmap=\"Dark2_r\", alpha=0.3, s=100)\n",
    "plt.legend()\n",
    "# plt.scatter(x,y,cmap = 'Dark2_r' ,alpha = 0.15, s=100)\n",
    "plt.title(\"Spread of classifier scores\", fontsize=24)\n",
    "plt.xlabel(\"Classifier score in probability\", fontsize=20)\n",
    "plt.yticks([])\n",
    "# plt.savefig('figures/spread_of_classifier_scores.png')"
   ]
  },
  {
   "cell_type": "markdown",
   "id": "2340dbf4-792b-43f2-90ca-7cb26eefb5db",
   "metadata": {},
   "source": [
    "### Step 5: Computing sensitivity and specificity"
   ]
  },
  {
   "cell_type": "markdown",
   "id": "000335d9-9013-4768-8ca4-1978cb475564",
   "metadata": {},
   "source": [
    "Setting a target of 90% for both sensitivity and specificity, we select the data points which lead to the desired sensitivity and specificity when chosen as threshold."
   ]
  },
  {
   "cell_type": "code",
   "execution_count": 13,
   "id": "4b1f20db-2c0e-4b45-8e7b-b147b8f09d53",
   "metadata": {
    "jupyter": {
     "source_hidden": true
    }
   },
   "outputs": [],
   "source": [
    "### First we sort the master dataframe along the linear scores in descending order\n",
    "master_df = master_df.sort_values(\n",
    "    by=[\"linear_score\"], ascending=True, ignore_index=True\n",
    ")\n",
    "# master_df.head()\n",
    "sens_vector = np.zeros(len(master_df))\n",
    "spec_vector = np.zeros(len(master_df))\n",
    "\n",
    "for subject in range(len(master_df)):\n",
    "    sens_vector[subject] = sum(master_df.loc[subject:][\"Disease\"] == \"AD\") / (\n",
    "        sum(master_df[\"Disease\"] == \"AD\")\n",
    "    )\n",
    "    spec_vector[subject] = sum(master_df.loc[:subject][\"Disease\"] == \"NCI\") / (\n",
    "        sum(master_df[\"Disease\"] == \"NCI\")\n",
    "    )\n",
    "master_df[\"Sensitivity\"] = sens_vector\n",
    "master_df[\"Specificity\"] = spec_vector"
   ]
  },
  {
   "cell_type": "code",
   "execution_count": 14,
   "id": "21d252d1-3b65-4758-834f-d19ca2acebea",
   "metadata": {},
   "outputs": [
    {
     "data": {
      "text/html": [
       "<div>\n",
       "<style scoped>\n",
       "    .dataframe tbody tr th:only-of-type {\n",
       "        vertical-align: middle;\n",
       "    }\n",
       "\n",
       "    .dataframe tbody tr th {\n",
       "        vertical-align: top;\n",
       "    }\n",
       "\n",
       "    .dataframe thead th {\n",
       "        text-align: right;\n",
       "    }\n",
       "</style>\n",
       "<table border=\"1\" class=\"dataframe\">\n",
       "  <thead>\n",
       "    <tr style=\"text-align: right;\">\n",
       "      <th></th>\n",
       "      <th>Disease</th>\n",
       "      <th>Subject</th>\n",
       "      <th>linear_score</th>\n",
       "      <th>Sensitivity</th>\n",
       "      <th>Specificity</th>\n",
       "    </tr>\n",
       "  </thead>\n",
       "  <tbody>\n",
       "    <tr>\n",
       "      <th>111</th>\n",
       "      <td>NCI</td>\n",
       "      <td>3347</td>\n",
       "      <td>-5.61258</td>\n",
       "      <td>0.937008</td>\n",
       "      <td>0.904348</td>\n",
       "    </tr>\n",
       "    <tr>\n",
       "      <th>112</th>\n",
       "      <td>AD</td>\n",
       "      <td>2537</td>\n",
       "      <td>-5.4282</td>\n",
       "      <td>0.937008</td>\n",
       "      <td>0.904348</td>\n",
       "    </tr>\n",
       "    <tr>\n",
       "      <th>113</th>\n",
       "      <td>NCI</td>\n",
       "      <td>5656</td>\n",
       "      <td>-5.324128</td>\n",
       "      <td>0.929134</td>\n",
       "      <td>0.913043</td>\n",
       "    </tr>\n",
       "    <tr>\n",
       "      <th>114</th>\n",
       "      <td>NCI</td>\n",
       "      <td>17944</td>\n",
       "      <td>-4.838643</td>\n",
       "      <td>0.929134</td>\n",
       "      <td>0.921739</td>\n",
       "    </tr>\n",
       "    <tr>\n",
       "      <th>115</th>\n",
       "      <td>AD</td>\n",
       "      <td>2553</td>\n",
       "      <td>-4.791915</td>\n",
       "      <td>0.929134</td>\n",
       "      <td>0.921739</td>\n",
       "    </tr>\n",
       "    <tr>\n",
       "      <th>116</th>\n",
       "      <td>NCI</td>\n",
       "      <td>17928</td>\n",
       "      <td>-4.630659</td>\n",
       "      <td>0.921260</td>\n",
       "      <td>0.930435</td>\n",
       "    </tr>\n",
       "    <tr>\n",
       "      <th>117</th>\n",
       "      <td>NCI</td>\n",
       "      <td>5644</td>\n",
       "      <td>-3.685555</td>\n",
       "      <td>0.921260</td>\n",
       "      <td>0.939130</td>\n",
       "    </tr>\n",
       "    <tr>\n",
       "      <th>118</th>\n",
       "      <td>AD</td>\n",
       "      <td>5784</td>\n",
       "      <td>-3.68194</td>\n",
       "      <td>0.921260</td>\n",
       "      <td>0.939130</td>\n",
       "    </tr>\n",
       "    <tr>\n",
       "      <th>119</th>\n",
       "      <td>AD</td>\n",
       "      <td>2529</td>\n",
       "      <td>-2.971084</td>\n",
       "      <td>0.913386</td>\n",
       "      <td>0.939130</td>\n",
       "    </tr>\n",
       "    <tr>\n",
       "      <th>120</th>\n",
       "      <td>AD</td>\n",
       "      <td>2516</td>\n",
       "      <td>-2.817356</td>\n",
       "      <td>0.905512</td>\n",
       "      <td>0.939130</td>\n",
       "    </tr>\n",
       "  </tbody>\n",
       "</table>\n",
       "</div>"
      ],
      "text/plain": [
       "    Disease Subject linear_score  Sensitivity  Specificity\n",
       "111     NCI    3347     -5.61258     0.937008     0.904348\n",
       "112      AD    2537      -5.4282     0.937008     0.904348\n",
       "113     NCI    5656    -5.324128     0.929134     0.913043\n",
       "114     NCI   17944    -4.838643     0.929134     0.921739\n",
       "115      AD    2553    -4.791915     0.929134     0.921739\n",
       "116     NCI   17928    -4.630659     0.921260     0.930435\n",
       "117     NCI    5644    -3.685555     0.921260     0.939130\n",
       "118      AD    5784     -3.68194     0.921260     0.939130\n",
       "119      AD    2529    -2.971084     0.913386     0.939130\n",
       "120      AD    2516    -2.817356     0.905512     0.939130"
      ]
     },
     "execution_count": 14,
     "metadata": {},
     "output_type": "execute_result"
    }
   ],
   "source": [
    "master_df[(master_df[\"Sensitivity\"] > 0.9) & (master_df[\"Specificity\"] > 0.9)]"
   ]
  },
  {
   "cell_type": "code",
   "execution_count": 15,
   "id": "9ebd5c80-4653-488e-ba95-944668537491",
   "metadata": {},
   "outputs": [],
   "source": [
    "### save the dataframe\n",
    "# master_df.to_csv(\"Cutoffs.csv\")"
   ]
  }
 ],
 "metadata": {
  "kernelspec": {
   "display_name": "Python 3 (ipykernel)",
   "language": "python",
   "name": "python3"
  },
  "language_info": {
   "codemirror_mode": {
    "name": "ipython",
    "version": 3
   },
   "file_extension": ".py",
   "mimetype": "text/x-python",
   "name": "python",
   "nbconvert_exporter": "python",
   "pygments_lexer": "ipython3",
   "version": "3.12.4"
  }
 },
 "nbformat": 4,
 "nbformat_minor": 5
}

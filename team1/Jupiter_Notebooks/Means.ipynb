{
 "cells": [
  {
   "cell_type": "code",
   "execution_count": 1,
   "id": "20c8e712",
   "metadata": {},
   "outputs": [],
   "source": [
    "import pandas as pd\n",
    "import numpy as np\n",
    "import matplotlib.pyplot as plt\n",
    "import seaborn as sns\n",
    "from sklearn.decomposition import PCA"
   ]
  },
  {
   "cell_type": "code",
   "execution_count": 2,
   "id": "d33405ce",
   "metadata": {},
   "outputs": [
    {
     "data": {
      "text/html": [
       "<div>\n",
       "<style scoped>\n",
       "    .dataframe tbody tr th:only-of-type {\n",
       "        vertical-align: middle;\n",
       "    }\n",
       "\n",
       "    .dataframe tbody tr th {\n",
       "        vertical-align: top;\n",
       "    }\n",
       "\n",
       "    .dataframe thead th {\n",
       "        text-align: right;\n",
       "    }\n",
       "</style>\n",
       "<table border=\"1\" class=\"dataframe\">\n",
       "  <thead>\n",
       "    <tr style=\"text-align: right;\">\n",
       "      <th></th>\n",
       "      <th>0</th>\n",
       "      <th>1</th>\n",
       "      <th>2</th>\n",
       "      <th>3</th>\n",
       "      <th>4</th>\n",
       "      <th>5</th>\n",
       "      <th>6</th>\n",
       "      <th>7</th>\n",
       "      <th>8</th>\n",
       "      <th>9</th>\n",
       "      <th>...</th>\n",
       "      <th>957</th>\n",
       "      <th>958</th>\n",
       "      <th>959</th>\n",
       "      <th>960</th>\n",
       "      <th>961</th>\n",
       "      <th>962</th>\n",
       "      <th>963</th>\n",
       "      <th>964</th>\n",
       "      <th>965</th>\n",
       "      <th>966</th>\n",
       "    </tr>\n",
       "  </thead>\n",
       "  <tbody>\n",
       "    <tr>\n",
       "      <th>11174-r1-AD</th>\n",
       "      <td>40.167869</td>\n",
       "      <td>4.669515</td>\n",
       "      <td>91.808686</td>\n",
       "      <td>44.561230</td>\n",
       "      <td>3.803395</td>\n",
       "      <td>66.791635</td>\n",
       "      <td>5.799236</td>\n",
       "      <td>3.288744</td>\n",
       "      <td>127.733824</td>\n",
       "      <td>44.774622</td>\n",
       "      <td>...</td>\n",
       "      <td>51.490187</td>\n",
       "      <td>1.217589</td>\n",
       "      <td>0.000000</td>\n",
       "      <td>22.983553</td>\n",
       "      <td>3.966577</td>\n",
       "      <td>11.975046</td>\n",
       "      <td>79.808535</td>\n",
       "      <td>586.689385</td>\n",
       "      <td>2.435177</td>\n",
       "      <td>30.615448</td>\n",
       "    </tr>\n",
       "    <tr>\n",
       "      <th>11178-r1-AD</th>\n",
       "      <td>43.221009</td>\n",
       "      <td>8.401576</td>\n",
       "      <td>52.448546</td>\n",
       "      <td>8.633877</td>\n",
       "      <td>2.503695</td>\n",
       "      <td>41.581992</td>\n",
       "      <td>6.594785</td>\n",
       "      <td>19.603677</td>\n",
       "      <td>87.151829</td>\n",
       "      <td>21.784731</td>\n",
       "      <td>...</td>\n",
       "      <td>27.656800</td>\n",
       "      <td>22.120278</td>\n",
       "      <td>4.710561</td>\n",
       "      <td>19.681111</td>\n",
       "      <td>5.691390</td>\n",
       "      <td>15.099606</td>\n",
       "      <td>90.055599</td>\n",
       "      <td>1025.663329</td>\n",
       "      <td>8.659689</td>\n",
       "      <td>61.572838</td>\n",
       "    </tr>\n",
       "    <tr>\n",
       "      <th>11182-r1-AD</th>\n",
       "      <td>102.123100</td>\n",
       "      <td>6.827512</td>\n",
       "      <td>105.386495</td>\n",
       "      <td>19.836541</td>\n",
       "      <td>10.826006</td>\n",
       "      <td>40.062907</td>\n",
       "      <td>8.264297</td>\n",
       "      <td>4.945213</td>\n",
       "      <td>50.699569</td>\n",
       "      <td>2.506020</td>\n",
       "      <td>...</td>\n",
       "      <td>23.422934</td>\n",
       "      <td>10.124321</td>\n",
       "      <td>0.668272</td>\n",
       "      <td>13.732990</td>\n",
       "      <td>0.935581</td>\n",
       "      <td>19.157131</td>\n",
       "      <td>150.695337</td>\n",
       "      <td>858.495631</td>\n",
       "      <td>17.196866</td>\n",
       "      <td>113.283243</td>\n",
       "    </tr>\n",
       "    <tr>\n",
       "      <th>11182-r2-AD</th>\n",
       "      <td>82.137419</td>\n",
       "      <td>9.261443</td>\n",
       "      <td>48.958301</td>\n",
       "      <td>21.810697</td>\n",
       "      <td>3.646693</td>\n",
       "      <td>66.856038</td>\n",
       "      <td>5.070640</td>\n",
       "      <td>5.765248</td>\n",
       "      <td>30.261764</td>\n",
       "      <td>0.000000</td>\n",
       "      <td>...</td>\n",
       "      <td>20.236252</td>\n",
       "      <td>6.610355</td>\n",
       "      <td>4.908565</td>\n",
       "      <td>5.730518</td>\n",
       "      <td>1.238718</td>\n",
       "      <td>12.294565</td>\n",
       "      <td>83.364560</td>\n",
       "      <td>699.377835</td>\n",
       "      <td>19.587951</td>\n",
       "      <td>82.241610</td>\n",
       "    </tr>\n",
       "    <tr>\n",
       "      <th>11186-r1-AD</th>\n",
       "      <td>59.941767</td>\n",
       "      <td>11.148535</td>\n",
       "      <td>32.223227</td>\n",
       "      <td>9.518698</td>\n",
       "      <td>7.922817</td>\n",
       "      <td>17.588653</td>\n",
       "      <td>24.402275</td>\n",
       "      <td>6.824941</td>\n",
       "      <td>89.969242</td>\n",
       "      <td>18.856304</td>\n",
       "      <td>...</td>\n",
       "      <td>50.468342</td>\n",
       "      <td>15.234445</td>\n",
       "      <td>6.010022</td>\n",
       "      <td>0.000000</td>\n",
       "      <td>1.358197</td>\n",
       "      <td>11.918180</td>\n",
       "      <td>101.977969</td>\n",
       "      <td>917.722489</td>\n",
       "      <td>7.786997</td>\n",
       "      <td>66.336612</td>\n",
       "    </tr>\n",
       "  </tbody>\n",
       "</table>\n",
       "<p>5 rows × 967 columns</p>\n",
       "</div>"
      ],
      "text/plain": [
       "                    0          1           2          3          4    \\\n",
       "11174-r1-AD   40.167869   4.669515   91.808686  44.561230   3.803395   \n",
       "11178-r1-AD   43.221009   8.401576   52.448546   8.633877   2.503695   \n",
       "11182-r1-AD  102.123100   6.827512  105.386495  19.836541  10.826006   \n",
       "11182-r2-AD   82.137419   9.261443   48.958301  21.810697   3.646693   \n",
       "11186-r1-AD   59.941767  11.148535   32.223227   9.518698   7.922817   \n",
       "\n",
       "                   5          6          7           8          9    ...  \\\n",
       "11174-r1-AD  66.791635   5.799236   3.288744  127.733824  44.774622  ...   \n",
       "11178-r1-AD  41.581992   6.594785  19.603677   87.151829  21.784731  ...   \n",
       "11182-r1-AD  40.062907   8.264297   4.945213   50.699569   2.506020  ...   \n",
       "11182-r2-AD  66.856038   5.070640   5.765248   30.261764   0.000000  ...   \n",
       "11186-r1-AD  17.588653  24.402275   6.824941   89.969242  18.856304  ...   \n",
       "\n",
       "                   957        958       959        960       961        962  \\\n",
       "11174-r1-AD  51.490187   1.217589  0.000000  22.983553  3.966577  11.975046   \n",
       "11178-r1-AD  27.656800  22.120278  4.710561  19.681111  5.691390  15.099606   \n",
       "11182-r1-AD  23.422934  10.124321  0.668272  13.732990  0.935581  19.157131   \n",
       "11182-r2-AD  20.236252   6.610355  4.908565   5.730518  1.238718  12.294565   \n",
       "11186-r1-AD  50.468342  15.234445  6.010022   0.000000  1.358197  11.918180   \n",
       "\n",
       "                    963          964        965         966  \n",
       "11174-r1-AD   79.808535   586.689385   2.435177   30.615448  \n",
       "11178-r1-AD   90.055599  1025.663329   8.659689   61.572838  \n",
       "11182-r1-AD  150.695337   858.495631  17.196866  113.283243  \n",
       "11182-r2-AD   83.364560   699.377835  19.587951   82.241610  \n",
       "11186-r1-AD  101.977969   917.722489   7.786997   66.336612  \n",
       "\n",
       "[5 rows x 967 columns]"
      ]
     },
     "execution_count": 2,
     "metadata": {},
     "output_type": "execute_result"
    }
   ],
   "source": [
    "excelsheet = pd.ExcelFile('/anvil/projects/x-cis220051/corporate/molecular-stethoscope/Teams/Team-2/ClusterMarkers_1819ADcohort-Copy1.congregated_DR.xlsx')\n",
    "TPMs = excelsheet.parse(excelsheet.sheet_names[-1])\n",
    "TPMs = TPMs[~TPMs.Coeff.isna()]\n",
    "df = pd.read_csv('AD-data.csv',index_col =0)\n",
    "df = df.iloc[TPMs.gene_id.index.tolist(),:-6].T\n",
    "df.head(5)"
   ]
  },
  {
   "cell_type": "code",
   "execution_count": 3,
   "id": "e45f7412",
   "metadata": {},
   "outputs": [
    {
     "data": {
      "text/html": [
       "<div>\n",
       "<style scoped>\n",
       "    .dataframe tbody tr th:only-of-type {\n",
       "        vertical-align: middle;\n",
       "    }\n",
       "\n",
       "    .dataframe tbody tr th {\n",
       "        vertical-align: top;\n",
       "    }\n",
       "\n",
       "    .dataframe thead th {\n",
       "        text-align: right;\n",
       "    }\n",
       "</style>\n",
       "<table border=\"1\" class=\"dataframe\">\n",
       "  <thead>\n",
       "    <tr style=\"text-align: right;\">\n",
       "      <th></th>\n",
       "      <th>0</th>\n",
       "      <th>1</th>\n",
       "      <th>2</th>\n",
       "      <th>3</th>\n",
       "      <th>4</th>\n",
       "      <th>5</th>\n",
       "      <th>6</th>\n",
       "      <th>7</th>\n",
       "      <th>8</th>\n",
       "      <th>9</th>\n",
       "      <th>...</th>\n",
       "      <th>957</th>\n",
       "      <th>958</th>\n",
       "      <th>959</th>\n",
       "      <th>960</th>\n",
       "      <th>961</th>\n",
       "      <th>962</th>\n",
       "      <th>963</th>\n",
       "      <th>964</th>\n",
       "      <th>965</th>\n",
       "      <th>966</th>\n",
       "    </tr>\n",
       "  </thead>\n",
       "  <tbody>\n",
       "    <tr>\n",
       "      <th>17921-r1-NCI</th>\n",
       "      <td>30.269536</td>\n",
       "      <td>12.039150</td>\n",
       "      <td>52.116245</td>\n",
       "      <td>6.122572</td>\n",
       "      <td>1.167294</td>\n",
       "      <td>20.381869</td>\n",
       "      <td>4.280078</td>\n",
       "      <td>10.208101</td>\n",
       "      <td>69.659987</td>\n",
       "      <td>10.322541</td>\n",
       "      <td>...</td>\n",
       "      <td>76.377650</td>\n",
       "      <td>27.511518</td>\n",
       "      <td>4.131305</td>\n",
       "      <td>12.794458</td>\n",
       "      <td>1.029965</td>\n",
       "      <td>18.836921</td>\n",
       "      <td>81.607584</td>\n",
       "      <td>1476.501044</td>\n",
       "      <td>12.222255</td>\n",
       "      <td>46.497212</td>\n",
       "    </tr>\n",
       "    <tr>\n",
       "      <th>17922-r1-NCI</th>\n",
       "      <td>14.224502</td>\n",
       "      <td>8.799692</td>\n",
       "      <td>59.422922</td>\n",
       "      <td>15.299465</td>\n",
       "      <td>2.424915</td>\n",
       "      <td>14.636988</td>\n",
       "      <td>5.162319</td>\n",
       "      <td>5.849795</td>\n",
       "      <td>36.386227</td>\n",
       "      <td>0.000000</td>\n",
       "      <td>...</td>\n",
       "      <td>67.760130</td>\n",
       "      <td>10.937117</td>\n",
       "      <td>2.037429</td>\n",
       "      <td>17.399391</td>\n",
       "      <td>2.912398</td>\n",
       "      <td>8.549701</td>\n",
       "      <td>72.634960</td>\n",
       "      <td>1256.668548</td>\n",
       "      <td>5.899794</td>\n",
       "      <td>80.709677</td>\n",
       "    </tr>\n",
       "    <tr>\n",
       "      <th>17923-r1-NCI</th>\n",
       "      <td>7.123632</td>\n",
       "      <td>15.465508</td>\n",
       "      <td>39.056087</td>\n",
       "      <td>9.818223</td>\n",
       "      <td>2.013200</td>\n",
       "      <td>11.552673</td>\n",
       "      <td>8.238635</td>\n",
       "      <td>8.187015</td>\n",
       "      <td>63.100926</td>\n",
       "      <td>4.552930</td>\n",
       "      <td>...</td>\n",
       "      <td>74.333552</td>\n",
       "      <td>27.410497</td>\n",
       "      <td>1.455699</td>\n",
       "      <td>16.343057</td>\n",
       "      <td>4.336124</td>\n",
       "      <td>13.710411</td>\n",
       "      <td>115.939692</td>\n",
       "      <td>1419.254632</td>\n",
       "      <td>28.824899</td>\n",
       "      <td>60.912216</td>\n",
       "    </tr>\n",
       "    <tr>\n",
       "      <th>17924-r1-NCI</th>\n",
       "      <td>14.382305</td>\n",
       "      <td>12.250762</td>\n",
       "      <td>28.192460</td>\n",
       "      <td>14.741302</td>\n",
       "      <td>4.139681</td>\n",
       "      <td>13.114598</td>\n",
       "      <td>4.173337</td>\n",
       "      <td>12.475135</td>\n",
       "      <td>87.157668</td>\n",
       "      <td>2.804662</td>\n",
       "      <td>...</td>\n",
       "      <td>55.487428</td>\n",
       "      <td>24.781991</td>\n",
       "      <td>4.162118</td>\n",
       "      <td>15.571482</td>\n",
       "      <td>3.197314</td>\n",
       "      <td>17.119655</td>\n",
       "      <td>133.602867</td>\n",
       "      <td>1465.200167</td>\n",
       "      <td>12.419042</td>\n",
       "      <td>59.986105</td>\n",
       "    </tr>\n",
       "    <tr>\n",
       "      <th>17925-r1-NCI</th>\n",
       "      <td>34.784636</td>\n",
       "      <td>10.080862</td>\n",
       "      <td>51.095243</td>\n",
       "      <td>15.664979</td>\n",
       "      <td>3.330082</td>\n",
       "      <td>17.567883</td>\n",
       "      <td>1.042067</td>\n",
       "      <td>8.211938</td>\n",
       "      <td>47.187493</td>\n",
       "      <td>1.936885</td>\n",
       "      <td>...</td>\n",
       "      <td>32.326718</td>\n",
       "      <td>8.155304</td>\n",
       "      <td>4.077652</td>\n",
       "      <td>11.360791</td>\n",
       "      <td>3.624579</td>\n",
       "      <td>18.995062</td>\n",
       "      <td>78.494798</td>\n",
       "      <td>1361.006922</td>\n",
       "      <td>14.498318</td>\n",
       "      <td>124.436343</td>\n",
       "    </tr>\n",
       "  </tbody>\n",
       "</table>\n",
       "<p>5 rows × 967 columns</p>\n",
       "</div>"
      ],
      "text/plain": [
       "                    0          1          2          3         4          5    \\\n",
       "17921-r1-NCI  30.269536  12.039150  52.116245   6.122572  1.167294  20.381869   \n",
       "17922-r1-NCI  14.224502   8.799692  59.422922  15.299465  2.424915  14.636988   \n",
       "17923-r1-NCI   7.123632  15.465508  39.056087   9.818223  2.013200  11.552673   \n",
       "17924-r1-NCI  14.382305  12.250762  28.192460  14.741302  4.139681  13.114598   \n",
       "17925-r1-NCI  34.784636  10.080862  51.095243  15.664979  3.330082  17.567883   \n",
       "\n",
       "                   6          7          8          9    ...        957  \\\n",
       "17921-r1-NCI  4.280078  10.208101  69.659987  10.322541  ...  76.377650   \n",
       "17922-r1-NCI  5.162319   5.849795  36.386227   0.000000  ...  67.760130   \n",
       "17923-r1-NCI  8.238635   8.187015  63.100926   4.552930  ...  74.333552   \n",
       "17924-r1-NCI  4.173337  12.475135  87.157668   2.804662  ...  55.487428   \n",
       "17925-r1-NCI  1.042067   8.211938  47.187493   1.936885  ...  32.326718   \n",
       "\n",
       "                    958       959        960       961        962         963  \\\n",
       "17921-r1-NCI  27.511518  4.131305  12.794458  1.029965  18.836921   81.607584   \n",
       "17922-r1-NCI  10.937117  2.037429  17.399391  2.912398   8.549701   72.634960   \n",
       "17923-r1-NCI  27.410497  1.455699  16.343057  4.336124  13.710411  115.939692   \n",
       "17924-r1-NCI  24.781991  4.162118  15.571482  3.197314  17.119655  133.602867   \n",
       "17925-r1-NCI   8.155304  4.077652  11.360791  3.624579  18.995062   78.494798   \n",
       "\n",
       "                      964        965         966  \n",
       "17921-r1-NCI  1476.501044  12.222255   46.497212  \n",
       "17922-r1-NCI  1256.668548   5.899794   80.709677  \n",
       "17923-r1-NCI  1419.254632  28.824899   60.912216  \n",
       "17924-r1-NCI  1465.200167  12.419042   59.986105  \n",
       "17925-r1-NCI  1361.006922  14.498318  124.436343  \n",
       "\n",
       "[5 rows x 967 columns]"
      ]
     },
     "execution_count": 3,
     "metadata": {},
     "output_type": "execute_result"
    }
   ],
   "source": [
    "excelsheet = pd.ExcelFile('/anvil/projects/x-cis220051/corporate/molecular-stethoscope/Teams/Team-2/ClusterMarkers_1819ADcohort-Copy1.congregated_DR.xlsx')\n",
    "TPMs = excelsheet.parse(excelsheet.sheet_names[-1])\n",
    "TPMs = TPMs[~TPMs.Coeff.isna()]\n",
    "df1 = pd.read_csv('NCI-data.csv',index_col =0)\n",
    "df1 = df1.iloc[TPMs.gene_id.index.tolist(),:-6].T\n",
    "df1.head(5)"
   ]
  },
  {
   "cell_type": "code",
   "execution_count": 12,
   "id": "16edaa70",
   "metadata": {},
   "outputs": [
    {
     "data": {
      "text/plain": [
       "<matplotlib.legend.Legend at 0x14a3919076d0>"
      ]
     },
     "execution_count": 12,
     "metadata": {},
     "output_type": "execute_result"
    },
    {
     "data": {
      "image/png": "[encoded data removed]",
      "text/plain": [
       "<Figure size 1152x648 with 1 Axes>"
      ]
     },
     "metadata": {
      "needs_background": "light"
     },
     "output_type": "display_data"
    }
   ],
   "source": [
    "fig,ax = plt.subplots(figsize = (16,9))\n",
    "plt.hist(df.mean(),bins = 50,density = True,label='AD')\n",
    "plt.hist(df1.mean(),bins = 50,density = True,alpha = .5,label = 'NCI')\n",
    "plt.legend()"
   ]
  },
  {
   "cell_type": "code",
   "execution_count": 14,
   "id": "ac1da793",
   "metadata": {},
   "outputs": [
    {
     "data": {
      "text/plain": [
       "<matplotlib.legend.Legend at 0x14a39089b9a0>"
      ]
     },
     "execution_count": 14,
     "metadata": {},
     "output_type": "execute_result"
    },
    {
     "data": {
      "image/png": "[encoded data removed]",
      "text/plain": [
       "<Figure size 1152x648 with 1 Axes>"
      ]
     },
     "metadata": {
      "needs_background": "light"
     },
     "output_type": "display_data"
    }
   ],
   "source": [
    "fig,ax = plt.subplots(figsize = (16,9))\n",
    "plt.hist(df.mean()-df1.mean(),bins = 50,label = 'AD-NCI means')\n",
    "plt.yscale('log')\n",
    "plt.legend()"
   ]
  },
  {
   "cell_type": "code",
   "execution_count": 15,
   "id": "82192010",
   "metadata": {},
   "outputs": [
    {
     "data": {
      "text/plain": [
       "<matplotlib.legend.Legend at 0x14a390764b50>"
      ]
     },
     "execution_count": 15,
     "metadata": {},
     "output_type": "execute_result"
    },
    {
     "data": {
      "image/png": "[encoded data removed]",
      "text/plain": [
       "<Figure size 1152x648 with 1 Axes>"
      ]
     },
     "metadata": {
      "needs_background": "light"
     },
     "output_type": "display_data"
    }
   ],
   "source": [
    "fig,ax = plt.subplots(figsize = (16,9))\n",
    "plt.hist(df.median(),bins = 50,density = True,label='AD')\n",
    "plt.hist(df1.median(),bins = 50,density = True,alpha = .5,label = 'NCI')\n",
    "plt.legend()"
   ]
  },
  {
   "cell_type": "code",
   "execution_count": 16,
   "id": "c271252b",
   "metadata": {},
   "outputs": [
    {
     "data": {
      "text/plain": [
       "<matplotlib.legend.Legend at 0x14a391b09fd0>"
      ]
     },
     "execution_count": 16,
     "metadata": {},
     "output_type": "execute_result"
    },
    {
     "data": {
      "image/png": "[encoded data removed]",
      "text/plain": [
       "<Figure size 1152x648 with 1 Axes>"
      ]
     },
     "metadata": {
      "needs_background": "light"
     },
     "output_type": "display_data"
    }
   ],
   "source": [
    "fig,ax = plt.subplots(figsize = (16,9))\n",
    "plt.hist(df.median()-df1.median(),bins = 50,label = 'AD-NCI means')\n",
    "plt.yscale('log')\n",
    "plt.legend()"
   ]
  },
  {
   "cell_type": "code",
   "execution_count": null,
   "id": "c06b774d",
   "metadata": {},
   "outputs": [],
   "source": []
  }
 ],
 "metadata": {
  "kernelspec": {
   "display_name": "Python 3 (ipykernel)",
   "language": "python",
   "name": "python3"
  },
  "language_info": {
   "codemirror_mode": {
    "name": "ipython",
    "version": 3
   },
   "file_extension": ".py",
   "mimetype": "text/x-python",
   "name": "python",
   "nbconvert_exporter": "python",
   "pygments_lexer": "ipython3",
   "version": "3.9.13"
  }
 },
 "nbformat": 4,
 "nbformat_minor": 5
}
